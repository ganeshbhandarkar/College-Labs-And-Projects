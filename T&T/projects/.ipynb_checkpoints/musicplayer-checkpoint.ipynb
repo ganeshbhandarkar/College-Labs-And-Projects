{
 "cells": [
  {
   "cell_type": "code",
   "execution_count": 1,
   "metadata": {},
   "outputs": [
    {
     "name": "stdout",
     "output_type": "stream",
     "text": [
      "pygame 2.0.1 (SDL 2.0.14, Python 3.8.5)\n",
      "Hello from the pygame community. https://www.pygame.org/contribute.html\n"
     ]
    },
    {
     "name": "stderr",
     "output_type": "stream",
     "text": [
      "Exception in Tkinter callback\n",
      "Traceback (most recent call last):\n",
      "  File \"C:\\Users\\KIIT\\anaconda3\\lib\\tkinter\\__init__.py\", line 1883, in __call__\n",
      "    return self.func(*args)\n",
      "  File \"<ipython-input-1-c9273d5474ac>\", line 38, in play\n",
      "    pygame.mixer.music.load(playIt)\n",
      "pygame.error: ModPlug_Load failed\n"
     ]
    }
   ],
   "source": [
    "from tkinter import *\n",
    "import tkinter.filedialog as tk\n",
    "import tkinter.messagebox as tk2\n",
    "import pygame\n",
    "\n",
    "playlist = []\n",
    "\n",
    "class Application(Frame):\n",
    "    \n",
    "    def __init__(self,master):\n",
    "        super(Application, self).__init__(master)\n",
    "        \n",
    "        self.playlistbox = Listbox(self, width = 100, height = 50, selectmode = SINGLE)\n",
    "        for song in playlist:\n",
    "            self.playlistbox.insert(END, song)\n",
    "            \n",
    "        self.grid(rowspan=5, columnspan=4)\n",
    "        self.playlistbox.grid(row = 1)\n",
    "        self.playButton = Button(self, text = 'Play', command = self.play)\n",
    "        self.loopButton = Button(self, text = 'Loop', command = self.loop)\n",
    "        self.addButton = Button(self, text = 'Add', command = self.add)\n",
    "        self.stopButton = Button(self, text = 'Stop', command = self.stop)\n",
    "        self.playButton.grid(row=4, column = 0)\n",
    "        self.loopButton.grid(row=4, column = 1)\n",
    "        self.addButton.grid(row=4, column = 2)\n",
    "        self.stopButton.grid(row=4, column = 4)\n",
    "        self.pack()\n",
    "        \n",
    "        #pygame initialize\n",
    "        pygame.init()\n",
    "\n",
    "    def play(self):\n",
    "        if(len(playlist) == 0):\n",
    "            tk2.showinfo('Notice', 'No songs in your playlist! \\n Click Add to add songs.')\n",
    "        else:    \n",
    "            pygame.mixer.music.stop()\n",
    "            selectedSongs = self.playlistbox.curselection()\n",
    "            global playlistbox\n",
    "            playIt = playlist[int(selectedSongs[0])]\n",
    "            pygame.mixer.music.load(playIt)\n",
    "            pygame.mixer.music.play(0, 0.0)\n",
    "            \n",
    "\n",
    "    def loop(self):\n",
    "        pygame.mixer.music.stop()\n",
    "        pygame.mixer.music.play(-1,0.0)\n",
    "    \n",
    "    def stop(self):\n",
    "        pygame.mixer.music.stop()\n",
    "\n",
    "    def add(self):\n",
    "        file = tk.askopenfilenames(initialdir='C:/Downloads')  \n",
    "        songsTuple = root.splitlist(file)\n",
    "        songsList = list(songsTuple)\n",
    "        for song in songsList:              \n",
    "            playlist.append(song);          \n",
    "            tempArray = song.split('/')     \n",
    "            songShort = tempArray[len(tempArray)-1]\n",
    "            self.playlistbox.insert(END, songShort)\n",
    "        \n",
    "root = Tk()\n",
    "root.title('Text Editor')\n",
    "root.geometry('1000x900')\n",
    "root.config(bg = 'white')\n",
    "app = Application(root)\n",
    "app.mainloop()"
   ]
  },
  {
   "cell_type": "code",
   "execution_count": null,
   "metadata": {},
   "outputs": [],
   "source": []
  }
 ],
 "metadata": {
  "kernelspec": {
   "display_name": "Python 3",
   "language": "python",
   "name": "python3"
  },
  "language_info": {
   "codemirror_mode": {
    "name": "ipython",
    "version": 3
   },
   "file_extension": ".py",
   "mimetype": "text/x-python",
   "name": "python",
   "nbconvert_exporter": "python",
   "pygments_lexer": "ipython3",
   "version": "3.8.5"
  }
 },
 "nbformat": 4,
 "nbformat_minor": 4
}
