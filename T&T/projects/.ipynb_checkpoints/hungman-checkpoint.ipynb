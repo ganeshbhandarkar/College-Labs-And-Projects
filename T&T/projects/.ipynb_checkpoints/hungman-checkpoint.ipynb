{
 "cells": [
  {
   "cell_type": "code",
   "execution_count": 1,
   "metadata": {},
   "outputs": [
    {
     "name": "stdin",
     "output_type": "stream",
     "text": [
      "Enter your Spirit Word ? ganesh\n"
     ]
    },
    {
     "name": "stdout",
     "output_type": "stream",
     "text": [
      "Bad luck indeed  -> you will Lose ganesh\n",
      "5\n",
      "Guess the opts cancellation\n"
     ]
    }
   ],
   "source": [
    "import random\n",
    "Gamer = input(\"Enter your Spirit Word ?\")\n",
    "print(\"Bad luck indeed  -> you will Lose\", Gamer)\n",
    "choices = []\n",
    "with open(\"words.txt\", \"r\") as file: \n",
    "    allopt = file.read()\n",
    "    choices = list(map(str, allopt.split()))    \n",
    "word = random.choice(choices)\n",
    "numberofvowels = 0\n",
    "for i in word:\n",
    "    if i in ['a','e','i','o','u']:\n",
    "        numberofvowels += 1\n",
    "print(numberofvowels)\n",
    "print(\"Guess the opts\", word)\n",
    "guesses = ''\n",
    "length = len(word)\n",
    "turns = length * 2\n",
    "while turns > 0:\n",
    "    failed = 0\n",
    "    if turns == length//2:\n",
    "        print(\"the number of vowels :\", numberofvowels)\n",
    "    for char in word: \n",
    "        if char in guesses: \n",
    "            print(char)           \n",
    "        else: \n",
    "            print(\"_\")\n",
    "            failed += 1 \n",
    "    if failed == 0:\n",
    "        print(\"You Win\") \n",
    "        print(\"The word is: \", word) \n",
    "        break    \n",
    "    guess = input(\"guess a character:\")\n",
    "    guesses += guess    \n",
    "    if guess not in word:       \n",
    "        turns -= 1      \n",
    "        print(\"Wrong\")\n",
    "        print(\"You have\", + turns, 'more guesses')                 \n",
    "        if turns == 0:\n",
    "            print(\"You Loose\")"
   ]
  },
  {
   "cell_type": "code",
   "execution_count": null,
   "metadata": {},
   "outputs": [],
   "source": []
  },
  {
   "cell_type": "code",
   "execution_count": null,
   "metadata": {},
   "outputs": [],
   "source": []
  }
 ],
 "metadata": {
  "kernelspec": {
   "display_name": "Python 3",
   "language": "python",
   "name": "python3"
  },
  "language_info": {
   "codemirror_mode": {
    "name": "ipython",
    "version": 3
   },
   "file_extension": ".py",
   "mimetype": "text/x-python",
   "name": "python",
   "nbconvert_exporter": "python",
   "pygments_lexer": "ipython3",
   "version": "3.8.5"
  }
 },
 "nbformat": 4,
 "nbformat_minor": 4
}
