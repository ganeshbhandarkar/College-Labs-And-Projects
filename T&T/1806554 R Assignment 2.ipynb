{
 "cells": [
  {
   "cell_type": "markdown",
   "metadata": {},
   "source": [
    "# 1806554 Assignment 2 (R Language)"
   ]
  },
  {
   "cell_type": "code",
   "execution_count": 2,
   "metadata": {},
   "outputs": [
    {
     "name": "stdout",
     "output_type": "stream",
     "text": [
      "enter: 113\n",
      "[1] \"pos\"\n"
     ]
    }
   ],
   "source": [
    "v <- as.integer(readline(prompt = \"enter: \"))\n",
    "if (v>0){\n",
    "  print(\"pos\")\n",
    "}else{\n",
    "  print(\"Neg\")\n",
    "}"
   ]
  },
  {
   "cell_type": "code",
   "execution_count": 3,
   "metadata": {},
   "outputs": [
    {
     "name": "stdout",
     "output_type": "stream",
     "text": [
      "Enter : 23\n",
      "[1] \"Positive number\"\n"
     ]
    }
   ],
   "source": [
    "num <- as.double(readline(prompt=\"Enter : \"))\n",
    "if(num > 0) {\n",
    "  print(\"Positive number\")\n",
    "}else {\n",
    "  print(\"Negative number\")\n",
    "  }"
   ]
  },
  {
   "cell_type": "code",
   "execution_count": 4,
   "metadata": {},
   "outputs": [
    {
     "name": "stdout",
     "output_type": "stream",
     "text": [
      "Enter: 2000\n",
      "[1] \"2000 is leap yr\"\n"
     ]
    }
   ],
   "source": [
    "num <- as.double(readline(prompt=\"Enter: \"))\n",
    "if(num %% 4 == 0) {\n",
    "  if(num %% 100 == 0){\n",
    "    if(num %% 400 == 0){\n",
    "      print(paste(num,\"is leap yr\"))\n",
    "    }else{\n",
    "      print(paste(num,\"is not leap yr\"))\n",
    "    }\n",
    "  }else{\n",
    "    print(paste(num,\"is leap yr\" ))\n",
    "  }\n",
    "} else{\n",
    "  print(paste(num,\"is not leap yr\" ))\n",
    "}"
   ]
  },
  {
   "cell_type": "code",
   "execution_count": 5,
   "metadata": {},
   "outputs": [
    {
     "name": "stdout",
     "output_type": "stream",
     "text": [
      "Enter a number 1: 3\n",
      "Enter a number 2: 4\n",
      "[1] \"4 is greater than  3\"\n"
     ]
    }
   ],
   "source": [
    "n1 <- as.double(readline(prompt=\"Enter a number 1: \"))\n",
    "n2 <- as.double(readline(prompt=\"Enter a number 2: \"))\n",
    "if(n1>n2){\n",
    "  print(paste(n1,\"is greater than \",n2))\n",
    "}else{\n",
    "  print(paste(n2,\"is greater than \",n1))\n",
    "}"
   ]
  },
  {
   "cell_type": "code",
   "execution_count": 6,
   "metadata": {},
   "outputs": [
    {
     "name": "stdout",
     "output_type": "stream",
     "text": [
      "Enter a number 121\n",
      "[1] \"121 is palindrome\"\n"
     ]
    }
   ],
   "source": [
    "n <- as.double(readline(prompt=\"Enter a number \"))\n",
    "x <- n %% 10\n",
    "y <- n / 100\n",
    "y = floor(y)\n",
    "if(x == y){\n",
    "print(paste(n, \"is palindrome\"))\n",
    "}else{\n",
    "  print(paste(n, \"is not palindrome\"))\n",
    "}"
   ]
  },
  {
   "cell_type": "code",
   "execution_count": 8,
   "metadata": {},
   "outputs": [
    {
     "name": "stdout",
     "output_type": "stream",
     "text": [
      "Enter a sub 1 23\n",
      "Enter a sub 2 43\n",
      "Enter a sub 3 23\n",
      "[1] \"89 sum 29.6666666666667 average\"\n",
      "[1] \"A Grade\"\n"
     ]
    }
   ],
   "source": [
    "a <- as.double(readline(prompt=\"Enter a sub 1 \"))\n",
    "b <- as.double(readline(prompt=\"Enter a sub 2 \"))\n",
    "c <- as.double(readline(prompt=\"Enter a sub 3 \"))\n",
    "\n",
    "x = a+b+c\n",
    "y = (a+b+c)/3\n",
    "print(paste(x,\"sum\",y,\"average\"))\n",
    "if(x >200 && x <=300){\n",
    "  print(\"O grade\")\n",
    "}else if(x >100 && x <=200){\n",
    "  print(\"E Grade\")\n",
    "}else{\n",
    "  print(\"A Grade\")\n",
    "}"
   ]
  },
  {
   "cell_type": "code",
   "execution_count": 11,
   "metadata": {},
   "outputs": [
    {
     "name": "stdout",
     "output_type": "stream",
     "text": [
      "2\n",
      "3\n",
      "1\n",
      "enter: c\n",
      "cir area = 3.14"
     ]
    }
   ],
   "source": [
    "h = as.integer(readline())  \n",
    "  w = as.integer(readline())\n",
    "  r = as.integer(readline())\n",
    "  val3 = as.character(readline(prompt = \"enter: \"))   \n",
    "  result = switch(   \n",
    "    val3,   \n",
    "    \"c\"= cat(\"cir area =\", 3.14 * r*r),   \n",
    "    \"r\"= cat(\"ret area =\", h * w),   \n",
    "    \"t\"= cat(\"tri area = \", 1/2 * h * w),\n",
    "  )"
   ]
  },
  {
   "cell_type": "code",
   "execution_count": 12,
   "metadata": {},
   "outputs": [
    {
     "name": "stdout",
     "output_type": "stream",
     "text": [
      "enter: r\n",
      "RED"
     ]
    }
   ],
   "source": [
    "val3 = as.character(readline(prompt = \"enter: \"))   \n",
    "  result = switch(   \n",
    "    val3,   \n",
    "    \"r\"= cat(\"RED\"),   \n",
    "    \"g\"= cat(\"GREEN\"),   \n",
    "    \"b\"= cat(\"BLUE\"),\n",
    "  )"
   ]
  },
  {
   "cell_type": "code",
   "execution_count": 13,
   "metadata": {},
   "outputs": [
    {
     "name": "stdout",
     "output_type": "stream",
     "text": [
      "ent12\n",
      "[1] 1\n",
      "[1] 4\n",
      "[1] 9\n",
      "[1] 16\n",
      "[1] 25\n",
      "[1] 36\n",
      "[1] 49\n",
      "[1] 64\n",
      "[1] 81\n",
      "[1] 100\n",
      "[1] 121\n"
     ]
    }
   ],
   "source": [
    "n <- as.integer(readline(prompt = \"ent\"))\n",
    "  i <- 1\n",
    "  x <- 1\n",
    "  while (x < n){\n",
    "    print(i*i)\n",
    "    i = i + 1\n",
    "    x = x + 1\n",
    "  }"
   ]
  },
  {
   "cell_type": "code",
   "execution_count": 14,
   "metadata": {},
   "outputs": [
    {
     "name": "stdout",
     "output_type": "stream",
     "text": [
      "enter val12\n",
      "[1] 479001600\n"
     ]
    }
   ],
   "source": [
    "i = 1\n",
    "  ans = 1\n",
    "  x <- as.double(readline(prompt = \"enter val\"))\n",
    "  while(x>0){\n",
    "    ans = ans * x\n",
    "    x = x - 1\n",
    "  }\n",
    "  print(ans)"
   ]
  },
  {
   "cell_type": "code",
   "execution_count": 15,
   "metadata": {},
   "outputs": [
    {
     "name": "stdout",
     "output_type": "stream",
     "text": [
      "enter val12\n",
      "[1] 0\n",
      "[1] 1\n",
      "[1] 1\n",
      "[1] 2\n",
      "[1] 3\n",
      "[1] 5\n",
      "[1] 8\n"
     ]
    }
   ],
   "source": [
    "i = n\n",
    "  a = 0\n",
    "  b = 1\n",
    "  c = a + b\n",
    "  x <- as.double(readline(prompt = \"enter val\"))\n",
    "  print(a)\n",
    "  print(b)\n",
    "  while(c < x){\n",
    "    print(c)\n",
    "    a = b\n",
    "    b = c \n",
    "    c = a + b\n",
    "  }"
   ]
  },
  {
   "cell_type": "code",
   "execution_count": 16,
   "metadata": {},
   "outputs": [
    {
     "name": "stdout",
     "output_type": "stream",
     "text": [
      "Enter : 12\n",
      "[1] \"12  not prime number\"\n"
     ]
    }
   ],
   "source": [
    "num = as.integer(readline(prompt=\"Enter : \"))\n",
    "  flag = 0\n",
    "  if(num > 1) {\n",
    "    flag = 1\n",
    "    for(i in 2 : (num/2)) {\n",
    "      if ((num %% i) == 0) {\n",
    "        flag = 0\n",
    "        break\n",
    "      }\n",
    "    }\n",
    "  } \n",
    "  if(num == 2)    flag = 1\n",
    "  if(flag == 1) {\n",
    "    print(paste(num,\"prime number\"))\n",
    "  } else {\n",
    "    print(paste(num,\" not prime number\"))\n",
    "  }"
   ]
  },
  {
   "cell_type": "code",
   "execution_count": 17,
   "metadata": {},
   "outputs": [
    {
     "name": "stdout",
     "output_type": "stream",
     "text": [
      "Enter: 121\n",
      "[1] \"not perfect : 121\"\n"
     ]
    }
   ],
   "source": [
    "n <- as.integer(readline(prompt = \"Enter: \"))\n",
    "  i = 1\n",
    "  s = 0\n",
    "  \n",
    "  while (i < n) {\n",
    "    if (n %% i == 0) {\n",
    "      s = s + i\n",
    "    }\n",
    "    i = i + 1\n",
    "  }\n",
    "  \n",
    "  if (s == n) {\n",
    "    print(paste(\"perfect :\",n))\n",
    "  } else{\n",
    "    print(paste(\"not perfect :\",n))\n",
    "  }"
   ]
  },
  {
   "cell_type": "code",
   "execution_count": 18,
   "metadata": {},
   "outputs": [
    {
     "name": "stdout",
     "output_type": "stream",
     "text": [
      "enter: 12\n",
      "[1] \"sum :  364\"\n"
     ]
    }
   ],
   "source": [
    "sum <- 0\n",
    "  n <- as.integer(readline(prompt = \"enter: \"))\n",
    "  for(i in 1:n){\n",
    "    sum = sum + i*(i+1)/2\n",
    "  }\n",
    "  print(paste(\"sum : \",sum))"
   ]
  },
  {
   "cell_type": "code",
   "execution_count": 19,
   "metadata": {},
   "outputs": [
    {
     "name": "stdout",
     "output_type": "stream",
     "text": [
      "ent: 123\n",
      "[1] \"reverse :  321\"\n"
     ]
    }
   ],
   "source": [
    "n <- as.double(readline(prompt = \"ent: \"))\n",
    "  rev = 0\n",
    "  while(n > 0){\n",
    "    rev = rev*10 + (n %% 10)\n",
    "    n = n %/% 10\n",
    "  }\n",
    "  print(paste(\"reverse : \",rev))"
   ]
  },
  {
   "cell_type": "code",
   "execution_count": 24,
   "metadata": {},
   "outputs": [
    {
     "name": "stdout",
     "output_type": "stream",
     "text": [
      "ent: 156\n",
      "[1] \"not armstrong\"\n"
     ]
    }
   ],
   "source": [
    "n <- as.double(readline(prompt = \"ent: \"))\n",
    "rem = n\n",
    "arm = 0\n",
    "while(n > 0){\n",
    "    x = n%%10\n",
    "    arm = arm + x*x*x\n",
    "    n = n %/% 10\n",
    "}\n",
    "if(arm == rem){\n",
    "    print(paste(\"armstrong : \",rem))\n",
    "}else{\n",
    "    print(\"not armstrong\")\n",
    "} "
   ]
  },
  {
   "cell_type": "code",
   "execution_count": 26,
   "metadata": {},
   "outputs": [
    {
     "name": "stdout",
     "output_type": "stream",
     "text": [
      "ent: 10\n",
      "1  \n",
      "2  1  \n",
      "1  2  3  \n",
      "4  3  2  1  \n",
      "1  2  3  4  5  \n",
      "6  5  4  3  2  1  \n",
      "1  2  3  4  5  6  7  \n",
      "8  7  6  5  4  3  2  1  \n",
      "1  2  3  4  5  6  7  8  9  \n",
      "10  9  8  7  6  5  4  3  2  1  \n"
     ]
    }
   ],
   "source": [
    "n <- as.double(readline(prompt = \"ent: \"))\n",
    "  for(i in 1:n){\n",
    "    if(i%%2 == 0){\n",
    "      for(j in i:1){\n",
    "        cat(paste(j,' '))\n",
    "      }\n",
    "      cat(\"\\n\")\n",
    "    }else{\n",
    "      for(j in 1:i){\n",
    "        cat(paste(j,' '))\n",
    "      }\n",
    "      cat(\"\\n\")\n",
    "    }\n",
    "  }"
   ]
  },
  {
   "cell_type": "code",
   "execution_count": null,
   "metadata": {},
   "outputs": [],
   "source": []
  }
 ],
 "metadata": {
  "kernelspec": {
   "display_name": "Python 3",
   "language": "python",
   "name": "python3"
  },
  "language_info": {
   "codemirror_mode": "r",
   "file_extension": ".r",
   "mimetype": "text/x-r-source",
   "name": "R",
   "pygments_lexer": "r",
   "version": "3.6.1"
  }
 },
 "nbformat": 4,
 "nbformat_minor": 4
}
