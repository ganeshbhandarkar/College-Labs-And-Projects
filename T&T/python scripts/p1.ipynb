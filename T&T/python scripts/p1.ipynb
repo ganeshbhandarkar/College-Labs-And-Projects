{
 "cells": [
  {
   "cell_type": "markdown",
   "metadata": {},
   "source": [
    "# 1806554 Assignment (Python)"
   ]
  },
  {
   "cell_type": "code",
   "execution_count": 1,
   "metadata": {},
   "outputs": [
    {
     "name": "stdout",
     "output_type": "stream",
     "text": [
      "Hola Mundo\n"
     ]
    }
   ],
   "source": [
    "print(\"Hola Mundo\")"
   ]
  },
  {
   "cell_type": "code",
   "execution_count": 2,
   "metadata": {},
   "outputs": [
    {
     "name": "stdout",
     "output_type": "stream",
     "text": [
      "4\n",
      "3\n",
      "2\n",
      "50.24   25.12   4   6\n"
     ]
    }
   ],
   "source": [
    "r = int(input())\n",
    "w = int(input())\n",
    "h = int(input())\n",
    "aoc = 3.14*r*r\n",
    "poc = 2*3.14*r\n",
    "aos = h*h\n",
    "aor = w*h\n",
    "print(aoc , \" \" ,poc , \" \" , aos , \" \" , aor)"
   ]
  },
  {
   "cell_type": "code",
   "execution_count": 3,
   "metadata": {},
   "outputs": [
    {
     "name": "stdout",
     "output_type": "stream",
     "text": [
      "104\n",
      "219.20000000000002\n"
     ]
    }
   ],
   "source": [
    "c = int(input())\n",
    "f = (c * 1.8) + 32\n",
    "print(f)"
   ]
  },
  {
   "cell_type": "code",
   "execution_count": 4,
   "metadata": {},
   "outputs": [
    {
     "name": "stdout",
     "output_type": "stream",
     "text": [
      "2\n",
      "3\n",
      "4\n",
      "4 is greatest\n"
     ]
    }
   ],
   "source": [
    "i = int(input())\n",
    "j = int(input())\n",
    "k = int(input())\n",
    "if i>k and i>j : \n",
    "    print(\"{} is greatest\".format(i))\n",
    "elif j>i and j>k:\n",
    "    print(\"{} is greatest\".format(j))\n",
    "else :\n",
    "    print(\"{} is greatest\".format(k))"
   ]
  },
  {
   "cell_type": "code",
   "execution_count": 3,
   "metadata": {},
   "outputs": [
    {
     "name": "stdout",
     "output_type": "stream",
     "text": [
      "1\n",
      "2\n",
      "3\n",
      "(-1-1.4142135623730951j) and (-1+1.4142135623730951j)\n"
     ]
    }
   ],
   "source": [
    "import cmath\n",
    "a = int(input())\n",
    "b = int(input())\n",
    "c = int(input())\n",
    "d = (b**2) - (4*a*c)\n",
    "s1= (-b-cmath.sqrt(d))/(2*a)\n",
    "s2 = (-b+cmath.sqrt(d))/(2*a)\n",
    "\n",
    "print(\"{} and {}\".format(s1,s2))"
   ]
  },
  {
   "cell_type": "code",
   "execution_count": 6,
   "metadata": {},
   "outputs": [
    {
     "name": "stdout",
     "output_type": "stream",
     "text": [
      "65   A\n",
      "66   B\n",
      "67   C\n",
      "68   D\n",
      "69   E\n",
      "70   F\n",
      "71   G\n",
      "72   H\n",
      "73   I\n",
      "74   J\n",
      "75   K\n",
      "76   L\n",
      "77   M\n",
      "78   N\n",
      "79   O\n",
      "80   P\n",
      "81   Q\n",
      "82   R\n",
      "83   S\n",
      "84   T\n",
      "85   U\n",
      "86   V\n",
      "87   W\n",
      "88   X\n",
      "89   Y\n",
      "90   Z\n",
      "91   [\n",
      "92   \\\n",
      "93   ]\n",
      "94   ^\n",
      "95   _\n",
      "96   `\n",
      "97   a\n",
      "98   b\n",
      "99   c\n",
      "100   d\n",
      "101   e\n",
      "102   f\n",
      "103   g\n",
      "104   h\n",
      "105   i\n",
      "106   j\n",
      "107   k\n",
      "108   l\n",
      "109   m\n",
      "110   n\n",
      "111   o\n",
      "112   p\n",
      "113   q\n",
      "114   r\n",
      "115   s\n",
      "116   t\n",
      "117   u\n",
      "118   v\n",
      "119   w\n",
      "120   x\n",
      "121   y\n",
      "122   z\n",
      "123   {\n",
      "124   |\n",
      "125   }\n",
      "126   ~\n"
     ]
    }
   ],
   "source": [
    "for i in range(65,127):\n",
    "    print(i, \" \",chr(i))"
   ]
  },
  {
   "cell_type": "code",
   "execution_count": 7,
   "metadata": {},
   "outputs": [
    {
     "name": "stdout",
     "output_type": "stream",
     "text": [
      "5\n",
      "120\n"
     ]
    }
   ],
   "source": [
    "x = int(input())\n",
    "fact = 1\n",
    "for i in range(1,x+1):\n",
    "    fact *= i\n",
    "print(fact)"
   ]
  },
  {
   "cell_type": "code",
   "execution_count": 8,
   "metadata": {},
   "outputs": [
    {
     "name": "stdout",
     "output_type": "stream",
     "text": [
      "14\n",
      "7\n",
      "7\n"
     ]
    }
   ],
   "source": [
    "x = int(input())\n",
    "y = int(input())\n",
    "while(y>0):\n",
    "    x,y = y,x%y\n",
    "print(x)"
   ]
  },
  {
   "cell_type": "code",
   "execution_count": 9,
   "metadata": {},
   "outputs": [
    {
     "name": "stdout",
     "output_type": "stream",
     "text": [
      "4\n",
      "6\n",
      "4096\n"
     ]
    }
   ],
   "source": [
    "a = int(input())\n",
    "b = int(input())\n",
    "print(a**b)"
   ]
  },
  {
   "cell_type": "code",
   "execution_count": 10,
   "metadata": {},
   "outputs": [
    {
     "name": "stdout",
     "output_type": "stream",
     "text": [
      "4\n",
      "4 is not a prime\n"
     ]
    }
   ],
   "source": [
    "num = int(input())\n",
    "if num > 1:\n",
    "    for i in range(2, num):\n",
    "        if (num % i) == 0:\n",
    "            print(num, \"is not a prime\")\n",
    "            break\n",
    "    else:\n",
    "        print(num, \"is a prime\")\n",
    "else:\n",
    "    print(num, \"is not a prime\")"
   ]
  },
  {
   "cell_type": "code",
   "execution_count": 12,
   "metadata": {},
   "outputs": [
    {
     "name": "stdout",
     "output_type": "stream",
     "text": [
      "158\n",
      "158 is not an Armstrong number\n"
     ]
    }
   ],
   "source": [
    "num = int(input())\n",
    "s = 0\n",
    "t = num\n",
    "while t > 0:\n",
    "    d = t % 10\n",
    "    s += d ** 3\n",
    "    t //= 10\n",
    "if num == s:\n",
    "    print(num,\"is an Armstrong number\")\n",
    "else:\n",
    "    print(num,\"is not an Armstrong number\")  "
   ]
  },
  {
   "cell_type": "code",
   "execution_count": 13,
   "metadata": {},
   "outputs": [
    {
     "name": "stdout",
     "output_type": "stream",
     "text": [
      "1\n",
      "153\n",
      "370\n",
      "371\n",
      "407\n"
     ]
    }
   ],
   "source": [
    "for num in range(1, 1000 + 1):\n",
    "    s = 0\n",
    "    t = num\n",
    "    while t > 0:\n",
    "        d = t % 10\n",
    "        s += d ** 3\n",
    "        t //= 10\n",
    "\n",
    "    if num == s:\n",
    "        print(num)"
   ]
  },
  {
   "cell_type": "code",
   "execution_count": 14,
   "metadata": {},
   "outputs": [
    {
     "name": "stdout",
     "output_type": "stream",
     "text": [
      "134\n"
     ]
    },
    {
     "data": {
      "text/plain": [
       "False"
      ]
     },
     "execution_count": 14,
     "metadata": {},
     "output_type": "execute_result"
    }
   ],
   "source": [
    "def nas(num):\n",
    "\treturn num == sum([int(x) ** len(str(num)) for x in str(num)])\n",
    "num = int(input())\n",
    "nas(num)"
   ]
  },
  {
   "cell_type": "code",
   "execution_count": 15,
   "metadata": {},
   "outputs": [
    {
     "name": "stdout",
     "output_type": "stream",
     "text": [
      "10\n",
      "0\n",
      "1\n",
      "1\n",
      "2\n",
      "3\n",
      "5\n",
      "8\n"
     ]
    }
   ],
   "source": [
    "def fibo(n):\n",
    "    a = 0\n",
    "    b = 1\n",
    "    c = a+b\n",
    "    print(0)\n",
    "    print(1)\n",
    "    while c<n:\n",
    "        print(c)\n",
    "        a = b\n",
    "        b = c\n",
    "        c = a+b\n",
    "\n",
    "n = int(input())\n",
    "fibo(n)"
   ]
  },
  {
   "cell_type": "code",
   "execution_count": 16,
   "metadata": {},
   "outputs": [
    {
     "name": "stdout",
     "output_type": "stream",
     "text": [
      "13\n"
     ]
    },
    {
     "data": {
      "text/plain": [
       "13"
      ]
     },
     "execution_count": 16,
     "metadata": {},
     "output_type": "execute_result"
    }
   ],
   "source": [
    "def fibo(n):\n",
    "    a = 0\n",
    "    b = 1\n",
    "    c = a+b\n",
    "    if n == 1:\n",
    "        return 0\n",
    "    if n == 2:\n",
    "        return 1\n",
    "    else:\n",
    "        while c<n :\n",
    "            a = b\n",
    "            b = c\n",
    "            c = a+b\n",
    "    return c\n",
    "n = int(input())\n",
    "fibo(n)"
   ]
  },
  {
   "cell_type": "code",
   "execution_count": null,
   "metadata": {},
   "outputs": [],
   "source": [
    "# def fact(n):\n",
    "#     fact = 1\n",
    "#     for i in range(1,n+1):\n",
    "#         fact *= i\n",
    "#     return fact\n",
    "\n",
    "# def strng(n):\n",
    "#     s = n\n",
    "#     ss = 0\n",
    "#     for i in range(len(str(n))):\n",
    "#         ss += fact(int(i))\n",
    "#         print(i)\n",
    "#    # return s == sum([fact(int(i)) for i in range(len(str(n)))])\n",
    "# n = int(input())\n",
    "# strng(n)"
   ]
  },
  {
   "cell_type": "code",
   "execution_count": 17,
   "metadata": {},
   "outputs": [
    {
     "name": "stdout",
     "output_type": "stream",
     "text": [
      "145\n",
      "strong number\n"
     ]
    }
   ],
   "source": [
    "sum1=0\n",
    "num=int(input())\n",
    "t=num\n",
    "while(num):\n",
    "    i=1\n",
    "    f=1\n",
    "    r=num%10\n",
    "    while(i<=r):\n",
    "        f=f*i\n",
    "        i=i+1\n",
    "    sum1=sum1+f\n",
    "    num=num//10\n",
    "if(sum1==t):\n",
    "    print(\"strong number\")\n",
    "else:\n",
    "    print(\"not strong number\")"
   ]
  },
  {
   "cell_type": "code",
   "execution_count": 18,
   "metadata": {},
   "outputs": [
    {
     "name": "stdout",
     "output_type": "stream",
     "text": [
      "123\n",
      "321\n"
     ]
    }
   ],
   "source": [
    "# Without loop\n",
    "n = int(input())\n",
    "print(str(n)[::-1])\n",
    "\n",
    "# with loop\n",
    "rev = 0 \n",
    "while(n>0): \n",
    "    a = n % 10\n",
    "    rev = rev * 10 + a \n",
    "    n = n // 10      \n",
    "print(rev)"
   ]
  },
  {
   "cell_type": "code",
   "execution_count": 19,
   "metadata": {},
   "outputs": [
    {
     "name": "stdout",
     "output_type": "stream",
     "text": [
      "121\n",
      "121 is a palindrome\n"
     ]
    }
   ],
   "source": [
    "# Without loop\n",
    "n = int(input())\n",
    "r = int(str(n)[::-1])\n",
    "if n == r:\n",
    "    print(f'{n} is a palindrome')\n",
    "else:\n",
    "    print(f'{n} is not pal')\n",
    "    \n",
    "# With loop\n",
    "rev = 0 \n",
    "while(n>0): \n",
    "    a = n % 10\n",
    "    rev = rev * 10 + a \n",
    "    n = n // 10      \n",
    "if n == rev:\n",
    "    print(f'{n} is a palindrome')\n",
    "else:\n",
    "    print(f'{n} is not pal')"
   ]
  },
  {
   "cell_type": "code",
   "execution_count": 7,
   "metadata": {},
   "outputs": [
    {
     "name": "stdout",
     "output_type": "stream",
     "text": [
      "12\n",
      "1100\n",
      "The binary representation is 1100\n",
      "44c\n",
      "12\n"
     ]
    }
   ],
   "source": [
    "x = int(input())\n",
    "print(bin(x).replace(\"0b\",\"\"))\n",
    "fi = \"\"\n",
    "while x != 0:\n",
    "    rem = x % 2 \n",
    "    x = x // 2\n",
    "    fi = str(rem) + fi\n",
    "print(\"The binary representation is\", fi)\n",
    "print(hex(int(fi))[2:])\n",
    "def binaryToDecimal(binary):      \n",
    "    binary1 = binary \n",
    "    decimal, i, n = 0, 0, 0\n",
    "    while(binary != 0): \n",
    "        dec = binary % 10\n",
    "        decimal = decimal + dec * pow(2, i) \n",
    "        binary = binary//10\n",
    "        i += 1\n",
    "    print(decimal)     \n",
    "binaryToDecimal(int(fi))     \n"
   ]
  },
  {
   "cell_type": "markdown",
   "metadata": {},
   "source": [
    "# Python Array Questions\n"
   ]
  },
  {
   "cell_type": "code",
   "execution_count": 13,
   "metadata": {},
   "outputs": [
    {
     "name": "stdout",
     "output_type": "stream",
     "text": [
      "5\n",
      "3\n",
      "1\n",
      "3\n",
      "3\n",
      "4\n",
      "3 count :  2\n",
      "[1, 3, 3, 4]\n"
     ]
    }
   ],
   "source": [
    "def cre(n,c):\n",
    "    l = []\n",
    "    for i in range(1,n):\n",
    "        x = int(input())\n",
    "        l.append(x)\n",
    "    print(f'{c} count : ',l.count(c))\n",
    "    print(l)\n",
    "n = int(input())\n",
    "c = int(input())\n",
    "cre(n,c)"
   ]
  },
  {
   "cell_type": "code",
   "execution_count": 11,
   "metadata": {},
   "outputs": [
    {
     "name": "stdout",
     "output_type": "stream",
     "text": [
      "9\n",
      "1\n",
      "1\n",
      "1\n",
      "1\n",
      "2\n",
      "2\n",
      "2\n",
      "3\n",
      "1 : 4\n",
      "2 : 3\n",
      "3 : 1\n"
     ]
    }
   ],
   "source": [
    "def fre(n):\n",
    "    d = {}\n",
    "    l = []\n",
    "    for i in range(1,n):\n",
    "        x = int(input())\n",
    "        l.append(x)\n",
    "\n",
    "    for item in l:\n",
    "        if item in d:\n",
    "            d[item] += 1\n",
    "        else:\n",
    "            d[item] = 1\n",
    "\n",
    "    for i,j in d.items():\n",
    "        print(f'{i} : {j}')\n",
    "n = int(input())\n",
    "fre(n)"
   ]
  },
  {
   "cell_type": "code",
   "execution_count": 15,
   "metadata": {},
   "outputs": [
    {
     "name": "stdout",
     "output_type": "stream",
     "text": [
      "5\n",
      "1\n",
      "2\n",
      "3\n",
      "4\n",
      "1\n",
      "1 found\n"
     ]
    }
   ],
   "source": [
    "def chk(n,c):\n",
    "    l = []\n",
    "    for i in range(1,n):\n",
    "        x = int(input())\n",
    "        l.append(x)\n",
    "    check = False\n",
    "    for i in l:\n",
    "        if i == c:\n",
    "            print(f'{i} found')\n",
    "            check = True\n",
    "            break\n",
    "    if check == False:\n",
    "        print(f'not found {c}')\n",
    "#     for item in l:\n",
    "#         if item in d:\n",
    "#             d[item] += 1\n",
    "#         else:\n",
    "#             d[item] = 1\n",
    "\n",
    "#     for i,j in d.items():\n",
    "#         print(f'{i} : {j}')\n",
    "n = int(input())\n",
    "c = int(input())\n",
    "chk(n,c)"
   ]
  },
  {
   "cell_type": "code",
   "execution_count": 16,
   "metadata": {},
   "outputs": [
    {
     "name": "stdout",
     "output_type": "stream",
     "text": [
      "5\n",
      "3\n",
      "1\n",
      "2\n",
      "3\n",
      "4\n"
     ]
    },
    {
     "data": {
      "text/plain": [
       "[4, 1, 2, 3]"
      ]
     },
     "execution_count": 16,
     "metadata": {},
     "output_type": "execute_result"
    }
   ],
   "source": [
    "def splt(n,c):\n",
    "    l = []\n",
    "    for i in range(1,n):\n",
    "        x = int(input())\n",
    "        l.append(x)\n",
    "    a = l[:c] \n",
    "    return (l[c::]+a[::]) \n",
    "    print(l)\n",
    "n = int(input())\n",
    "c = int(input())\n",
    "splt(n,c)\n",
    "    \n",
    "    "
   ]
  },
  {
   "cell_type": "code",
   "execution_count": 17,
   "metadata": {},
   "outputs": [
    {
     "name": "stdout",
     "output_type": "stream",
     "text": [
      "5\n",
      "1\n",
      "2\n",
      "3\n",
      "4\n"
     ]
    },
    {
     "data": {
      "text/plain": [
       "4"
      ]
     },
     "execution_count": 17,
     "metadata": {},
     "output_type": "execute_result"
    }
   ],
   "source": [
    "def largest(n):\n",
    "    l = []\n",
    "    for i in range(1,n):\n",
    "        x = int(input())\n",
    "        l.append(x)\n",
    "    ii = max(l)\n",
    "    return ii\n",
    "n = int(input())\n",
    "largest(n)"
   ]
  },
  {
   "cell_type": "code",
   "execution_count": 20,
   "metadata": {},
   "outputs": [
    {
     "name": "stdout",
     "output_type": "stream",
     "text": [
      "5\n",
      "4\n",
      "3\n",
      "2\n",
      "1\n",
      "1\n"
     ]
    },
    {
     "data": {
      "text/plain": [
       "[1, 1, 2, 3, 4]"
      ]
     },
     "execution_count": 20,
     "metadata": {},
     "output_type": "execute_result"
    }
   ],
   "source": [
    "def bub(n):\n",
    "    l = []\n",
    "    for i in range(n):\n",
    "        x = int(input())\n",
    "        l.append(x)\n",
    "    for i in range(n-1):\n",
    "        for j in range(0,n-i-1):\n",
    "            if l[j] > l[j+1]:\n",
    "                l[j],l[j+1]=l[j+1],l[j]\n",
    "    return l\n",
    "n = int(input())\n",
    "bub(n)"
   ]
  },
  {
   "cell_type": "code",
   "execution_count": 21,
   "metadata": {},
   "outputs": [
    {
     "name": "stdout",
     "output_type": "stream",
     "text": [
      "5\n",
      "3\n",
      "4\n",
      "2\n",
      "1\n",
      "4\n",
      "Element is present  2\n"
     ]
    }
   ],
   "source": [
    "def binary_search(arr, x): \n",
    "    low = 0\n",
    "    high = len(arr) - 1\n",
    "    mid = 0\n",
    "    while low <= high: \n",
    "        mid = (high + low) // 2\n",
    "        if arr[mid] < x: \n",
    "            low = mid + 1\n",
    "        elif arr[mid] > x: \n",
    "            high = mid - 1\n",
    "        else: \n",
    "            return mid \n",
    "    return -1\n",
    "  \n",
    "arr = []\n",
    "for i in range(n):\n",
    "    x = int(input())\n",
    "    arr.append(x)\n",
    "x = int(input())\n",
    "result = binary_search(arr, x) \n",
    "  \n",
    "if result != -1: \n",
    "    print(\"Element is present \", str(result)) \n",
    "else: \n",
    "    print(\"Element is not present\")"
   ]
  },
  {
   "cell_type": "code",
   "execution_count": 22,
   "metadata": {},
   "outputs": [
    {
     "name": "stdout",
     "output_type": "stream",
     "text": [
      "after\n",
      "1 2 3 4 5 6 7 8 "
     ]
    }
   ],
   "source": [
    "def mergeArrays(arr1, arr2, n1, n2): \n",
    "    arr3 = [None]*(n1 + n2) \n",
    "    i = 0\n",
    "    j = 0\n",
    "    k = 0\n",
    "    while i < n1 and j < n2: \n",
    "        if arr1[i] < arr2[j]: \n",
    "            arr3[k] = arr1[i] \n",
    "            k = k + 1\n",
    "            i = i + 1\n",
    "        else: \n",
    "            arr3[k] = arr2[j] \n",
    "            k = k + 1\n",
    "            j = j + 1\n",
    "    while i < n1: \n",
    "        arr3[k] = arr1[i]; \n",
    "        k = k + 1\n",
    "        i = i + 1\n",
    "    while j < n2: \n",
    "        arr3[k] = arr2[j]; \n",
    "        k = k + 1\n",
    "        j = j + 1\n",
    "    print(\"after\") \n",
    "    for i in range(n1 + n2): \n",
    "        print(str(arr3[i]), end = \" \") \n",
    "arr1 = [1, 3, 5, 7] \n",
    "n1 = len(arr1) \n",
    "  \n",
    "arr2 = [2, 4, 6, 8] \n",
    "n2 = len(arr2) \n",
    "mergeArrays(arr1, arr2, n1, n2);"
   ]
  },
  {
   "cell_type": "code",
   "execution_count": 40,
   "metadata": {},
   "outputs": [
    {
     "name": "stdout",
     "output_type": "stream",
     "text": [
      "ent r1: 2\n",
      "ent c1: 2\n",
      "ent r2: 2\n",
      "ent c2: 2\n",
      "1\n",
      "2\n",
      "3\n",
      "4\n",
      "[[1, 2], [3, 4]]\n",
      "1\n",
      "2\n",
      "3\n",
      "4\n",
      "[[1, 2], [3, 4]]\n",
      "add :  [[2, 4], [6, 8]]\n",
      "sub :  [[0, 0], [0, 0]]\n",
      "mul :  [[1, 4], [9, 16]]\n"
     ]
    }
   ],
   "source": [
    "import numpy as np\n",
    "mat1 = []\n",
    "mat2 = []\n",
    "def creMatrix():\n",
    "    r1 = int(input(\"ent r1: \"))\n",
    "    c1 = int(input(\"ent c1: \"))\n",
    "    r2 = int(input(\"ent r2: \"))\n",
    "    c2 = int(input(\"ent c2: \"))\n",
    "    \n",
    "    for i in range(0,r1):\n",
    "        l = []\n",
    "        for j in range(0,c1):\n",
    "            x = int(input())\n",
    "            l.append(x)\n",
    "        mat1.append(l)\n",
    "    print(mat1)\n",
    "    for i in range(0,r2):\n",
    "        l = []\n",
    "        for j in range(0,c2):\n",
    "            x = int(input())\n",
    "            l.append(x)\n",
    "        mat2.append(l)\n",
    "    print(mat2)\n",
    "    le = len(mat2)\n",
    "    #add\n",
    "    res = np.zeros((le,le),dtype=int)\n",
    "    res = res.tolist()\n",
    "#     res = [[0,0], \n",
    "#         [0,0]] \n",
    "    for i in range(len(mat1)):\n",
    "        for j in range(len(mat2[1])):\n",
    "            res[i][j] = mat1[i][j] + mat2[i][j]\n",
    "    print(\"add : \", res)\n",
    "    \n",
    "    #substract\n",
    "    res = np.zeros((le,le),dtype=int)\n",
    "    res = res.tolist()\n",
    "#     res = [[0,0], \n",
    "#         [0,0]] \n",
    "    for i in range(len(mat1)):\n",
    "        for j in range(len(mat2[1])):\n",
    "            res[i][j] = mat1[i][j] - mat2[i][j]\n",
    "    print(\"sub : \", res)\n",
    "    \n",
    "    #multiply\n",
    "    res = np.zeros((le,le),dtype=int)\n",
    "    res = res.tolist()\n",
    "#     res = [[0,0], \n",
    "#         [0,0]] \n",
    "    for i in range(len(mat1)):\n",
    "        for j in range(len(mat2[1])):\n",
    "            res[i][j] = mat1[i][j] * mat2[i][j]\n",
    "    print(\"mul : \", res)\n",
    "    \n",
    "creMatrix()\n"
   ]
  },
  {
   "cell_type": "code",
   "execution_count": 8,
   "metadata": {},
   "outputs": [
    {
     "name": "stdout",
     "output_type": "stream",
     "text": [
      "Column Concat : ['ABCHIJ', 'EFGKLM']\n"
     ]
    }
   ],
   "source": [
    "def Func():\n",
    "\n",
    "    list = [[\"ABC\", \"EFG\"], [\"HIJ\", \"KLM\"]]  \n",
    "    res = [] \n",
    "    n = 0\n",
    "    while n != len(list): \n",
    "        temp = '' \n",
    "        for i in list: \n",
    "            try: temp = temp + i[n] \n",
    "            except IndexError: pass\n",
    "        res.append(temp) \n",
    "        n = n + 1\n",
    "    res = [ele for ele in res if ele] \n",
    "    print(\"Column Concat : \" + str(res))\n",
    "Func()"
   ]
  },
  {
   "cell_type": "code",
   "execution_count": null,
   "metadata": {},
   "outputs": [],
   "source": []
  }
 ],
 "metadata": {
  "kernelspec": {
   "display_name": "Python 3",
   "language": "python",
   "name": "python3"
  },
  "language_info": {
   "codemirror_mode": {
    "name": "ipython",
    "version": 3
   },
   "file_extension": ".py",
   "mimetype": "text/x-python",
   "name": "python",
   "nbconvert_exporter": "python",
   "pygments_lexer": "ipython3",
   "version": "3.7.1"
  }
 },
 "nbformat": 4,
 "nbformat_minor": 4
}
