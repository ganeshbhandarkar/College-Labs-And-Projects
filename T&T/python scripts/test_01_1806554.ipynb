{
 "cells": [
  {
   "cell_type": "markdown",
   "metadata": {},
   "source": [
    "# 1806554 Ganesh Bhandarkar Python Test"
   ]
  },
  {
   "cell_type": "markdown",
   "metadata": {},
   "source": [
    "# Q1\n"
   ]
  },
  {
   "cell_type": "code",
   "execution_count": 50,
   "metadata": {},
   "outputs": [
    {
     "name": "stdout",
     "output_type": "stream",
     "text": [
      "     \n",
      "    A\n",
      "   BA\n",
      "  CBA\n",
      " DCBA\n"
     ]
    }
   ],
   "source": [
    "for i in range(0,5):   # b   # Extra Que not to be evaluate\n",
    "    for k in range(5-i,0,-1):\n",
    "        print(\" \",end=\"\")\n",
    "    for j in range(i,0,-1):\n",
    "        print(chr(64+j),end=\"\")\n",
    "    print()"
   ]
  },
  {
   "cell_type": "markdown",
   "metadata": {},
   "source": [
    "# Q2\n"
   ]
  },
  {
   "cell_type": "code",
   "execution_count": 14,
   "metadata": {},
   "outputs": [
    {
     "name": "stdin",
     "output_type": "stream",
     "text": [
      " 6\n"
     ]
    },
    {
     "data": {
      "text/plain": [
       "8"
      ]
     },
     "execution_count": 14,
     "metadata": {},
     "output_type": "execute_result"
    }
   ],
   "source": [
    "def fibo(n):\n",
    "    if n==0 or n==1:\n",
    "        return n\n",
    "    return fibo(n-1)+fibo(n-2)\n",
    "x = int(input())\n",
    "fibo(x)"
   ]
  },
  {
   "cell_type": "markdown",
   "metadata": {},
   "source": [
    "# Q3\n"
   ]
  },
  {
   "cell_type": "code",
   "execution_count": 54,
   "metadata": {},
   "outputs": [
    {
     "name": "stdin",
     "output_type": "stream",
     "text": [
      " 1 2 3 4 5\n",
      " 1 2 3 4 5\n"
     ]
    },
    {
     "data": {
      "text/plain": [
       "[(1, 1), (2, 2), (3, 3), (4, 4), (5, 5)]"
      ]
     },
     "execution_count": 54,
     "metadata": {},
     "output_type": "execute_result"
    }
   ],
   "source": [
    "l = list(map(int,input().split(' ')))\n",
    "m = list(map(int,input().split(' ')))\n",
    "ans = []\n",
    "for i in range(len(l)):\n",
    "    ans.append(tuple([l[i],m[i]]))\n",
    "ans   "
   ]
  },
  {
   "cell_type": "markdown",
   "metadata": {},
   "source": [
    "# Q4"
   ]
  },
  {
   "cell_type": "code",
   "execution_count": 58,
   "metadata": {},
   "outputs": [
    {
     "name": "stdout",
     "output_type": "stream",
     "text": [
      "4\n"
     ]
    }
   ],
   "source": [
    "M = [\n",
    "   [0, 0, 1, 1, 0],\n",
    "   [1, 0, 0, 1, 1],\n",
    "   [0, 0, 0, 0, 0],\n",
    "   [1, 1, 0, 0, 1],\n",
    "   [1, 0, 0, 1, 1]\n",
    "]\n",
    "def floodFill(r, c, M):\n",
    "    if (r<0 or c<0 or r>len(M)-1 or c>len(M[0])-1 or M[r][c]==0):\n",
    "         return\n",
    "    M[r][c] = 0\n",
    "    floodFill(r + 1, c, M)\n",
    "    floodFill(r - 1, c, M)\n",
    "    floodFill(r, c + 1, M)\n",
    "    floodFill(r, c - 1, M)\n",
    "def res(M):\n",
    "    if not M:\n",
    "        return 0\n",
    "    ans = 0\n",
    "    for r in range(len(M)):\n",
    "        for c in range(len(M[0])):\n",
    "            if M[r][c] == 1:\n",
    "                ans += 1\n",
    "                floodFill(r, c, M)          \n",
    "#     for row in range(len(M)):\n",
    "#         for col in range(len(M[0])):\n",
    "#             print(M[row][col],end=\"\")\n",
    "#         print()\n",
    "    return ans\n",
    "print(res(M))"
   ]
  },
  {
   "cell_type": "code",
   "execution_count": null,
   "metadata": {},
   "outputs": [],
   "source": []
  }
 ],
 "metadata": {
  "kernelspec": {
   "display_name": "Python 3",
   "language": "python",
   "name": "python3"
  },
  "language_info": {
   "codemirror_mode": {
    "name": "ipython",
    "version": 3
   },
   "file_extension": ".py",
   "mimetype": "text/x-python",
   "name": "python",
   "nbconvert_exporter": "python",
   "pygments_lexer": "ipython3",
   "version": "3.8.5"
  }
 },
 "nbformat": 4,
 "nbformat_minor": 4
}
