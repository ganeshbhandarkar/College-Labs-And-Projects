{
 "cells": [
  {
   "cell_type": "markdown",
   "metadata": {},
   "source": [
    "# Homework 1806554 Assignment 2 Python"
   ]
  },
  {
   "cell_type": "code",
   "execution_count": 1,
   "metadata": {},
   "outputs": [
    {
     "name": "stdout",
     "output_type": "stream",
     "text": [
      "ganesh\n",
      "6\n"
     ]
    }
   ],
   "source": [
    "s = input()\n",
    "cnt = 0\n",
    "for i in s:\n",
    "    cnt = cnt + 1\n",
    "print(cnt)"
   ]
  },
  {
   "cell_type": "code",
   "execution_count": 2,
   "metadata": {},
   "outputs": [
    {
     "name": "stdout",
     "output_type": "stream",
     "text": [
      "ganesh\n",
      "hsenag\n"
     ]
    }
   ],
   "source": [
    "s = input()\n",
    "print(s[::-1])"
   ]
  },
  {
   "cell_type": "code",
   "execution_count": 3,
   "metadata": {},
   "outputs": [
    {
     "name": "stdout",
     "output_type": "stream",
     "text": [
      "ganesh\n",
      "Not palindrome\n"
     ]
    }
   ],
   "source": [
    "s = input()\n",
    "rev = s[::-1]\n",
    "if rev == s:\n",
    "    print(\"Palindrome\")\n",
    "else:\n",
    "    print(\"Not palindrome\")"
   ]
  },
  {
   "cell_type": "code",
   "execution_count": 10,
   "metadata": {},
   "outputs": [
    {
     "name": "stdout",
     "output_type": "stream",
     "text": [
      "ganesh\n",
      "ane\n",
      "present at index 1\n",
      "present at index 1\n"
     ]
    }
   ],
   "source": [
    "# with library \n",
    "x = input()\n",
    "y = input()\n",
    "ans = x.find(y)\n",
    "if(ans == -1):\n",
    "    print(\"doesnt contain\")\n",
    "else:\n",
    "    print(f'present at index {ans}')\n",
    "    \n",
    "# without library\n",
    "\n",
    "def index(s, sub):\n",
    "    start = 0\n",
    "    end = 0\n",
    "    while start < len(s):\n",
    "        if s[start+end] != sub[end]:\n",
    "            start += 1\n",
    "            end = 0\n",
    "            continue\n",
    "        end += 1\n",
    "        if end == len(sub):\n",
    "            return start\n",
    "    return -1\n",
    "ans = index(x,y)\n",
    "print(f'present at index {ans}')"
   ]
  },
  {
   "cell_type": "code",
   "execution_count": 7,
   "metadata": {},
   "outputs": [
    {
     "name": "stdout",
     "output_type": "stream",
     "text": [
      "ganesh(),\n",
      "vowels = 2 , cons = 4 , num = 0 , special c = 3\n"
     ]
    }
   ],
   "source": [
    "s = input()\n",
    "cnt,cntn,cnts,cntv = 0,0,0,0\n",
    "for i in range(0,len(s)):\n",
    "    x = ord(s[i])\n",
    "    if s[i] in \"aeiou\" :\n",
    "        cntv = cntv + 1\n",
    "    elif x>37 and x<48:\n",
    "        cnts = cnts + 1\n",
    "    elif x>58 and x<65:\n",
    "        cnts = cnts + 1\n",
    "    elif x>48 and x<57:\n",
    "        cntn = cntn + 1\n",
    "    else:\n",
    "        cnt = cnt + 1\n",
    "print(f'vowels = {cntv} , cons = {cnt} , num = {cntn} , special c = {cnts}')"
   ]
  },
  {
   "cell_type": "code",
   "execution_count": 4,
   "metadata": {},
   "outputs": [
    {
     "name": "stdout",
     "output_type": "stream",
     "text": [
      "gAnesH\n",
      "GaNESh\n",
      "GaNESh\n"
     ]
    }
   ],
   "source": [
    "# with lib\n",
    "s = input()\n",
    "\n",
    "x = \"\"\n",
    "for i in s:\n",
    "    if i.islower() == True:\n",
    "        i = i.upper()\n",
    "        x = x + i\n",
    "    else:\n",
    "        i = i.lower()\n",
    "        x = x + i\n",
    "print(x)  \n",
    "\n",
    "# without lib\n",
    "\n",
    "x = \"\"\n",
    "for i in s:\n",
    "    m = ord(i)\n",
    "    if (m>=97 and m<=122) == True:\n",
    "        m = m - 32\n",
    "        x = x + chr(m)\n",
    "    else:\n",
    "        m = m + 32\n",
    "        x = x + chr(m)\n",
    "print(x) "
   ]
  },
  {
   "cell_type": "code",
   "execution_count": 18,
   "metadata": {},
   "outputs": [
    {
     "name": "stdout",
     "output_type": "stream",
     "text": [
      "5\n",
      "4\n",
      "3\n",
      "2\n",
      "d\n",
      "s\n",
      "[2, 3, 4, 'd', 's']\n"
     ]
    }
   ],
   "source": [
    "lst = []\n",
    "n = int(input())\n",
    "for i in range(0,n):\n",
    "    x = input()\n",
    "    lst.append(str(x))\n",
    "#lst = [str(i) for i in lst] \n",
    "lst.sort()\n",
    "lst = [int(i) if i.isdigit() else i for i in lst ] \n",
    "print(lst) "
   ]
  },
  {
   "cell_type": "code",
   "execution_count": 18,
   "metadata": {},
   "outputs": [
    {
     "name": "stdout",
     "output_type": "stream",
     "text": [
      "ganesh\n",
      "g\n",
      "1\n"
     ]
    }
   ],
   "source": [
    "s = input()\n",
    "x = input()\n",
    "cnt = 0\n",
    "for i in s:\n",
    "    if i == x:\n",
    "        cnt = cnt + 1\n",
    "print(cnt)"
   ]
  },
  {
   "cell_type": "code",
   "execution_count": 60,
   "metadata": {},
   "outputs": [
    {
     "name": "stdout",
     "output_type": "stream",
     "text": [
      "India is a Great Country\n",
      "India was a Great Country\n"
     ]
    },
    {
     "data": {
      "text/plain": [
       "'India was Great Country'"
      ]
     },
     "execution_count": 60,
     "metadata": {},
     "output_type": "execute_result"
    }
   ],
   "source": [
    "#with lib\n",
    "s = input()\n",
    "s = s.replace(\"is\",\"was\")\n",
    "print(s)\n",
    "\n",
    "#without lib\n",
    "\n",
    "def replstr(orig, old, new):\n",
    "    i = 0\n",
    "    ans = ''\n",
    "    temp = ''\n",
    "    for c in orig:\n",
    "        if c == old[i]:\n",
    "            i += 1\n",
    "            temp += c\n",
    "        else:\n",
    "            i = 0\n",
    "            if temp:\n",
    "                ans += temp\n",
    "                temp = ''\n",
    "            ans += c\n",
    "        if len(temp) == len(old):\n",
    "            ans += new\n",
    "            temp = ''\n",
    "            i = 0\n",
    "    else:\n",
    "        if temp:\n",
    "            ans += temp\n",
    "    return ans\n",
    "replstr(\"India is Great Country\",\"is\",\"was\")\n"
   ]
  },
  {
   "cell_type": "code",
   "execution_count": 49,
   "metadata": {},
   "outputs": [
    {
     "name": "stdout",
     "output_type": "stream",
     "text": [
      "India was a Great Country\n",
      "India is a Great Country\n"
     ]
    },
    {
     "data": {
      "text/plain": [
       "'India is a Great Country'"
      ]
     },
     "execution_count": 49,
     "metadata": {},
     "output_type": "execute_result"
    }
   ],
   "source": [
    "#with lib\n",
    "s = input()\n",
    "s = s.replace(\"was\",\"is\")\n",
    "print(s)\n",
    "\n",
    "#without lib\n",
    "\n",
    "def replstr(orig, old, new):\n",
    "    i = 0\n",
    "    ans = ''\n",
    "    temp = ''\n",
    "    for c in orig:\n",
    "        if c == old[i]:\n",
    "            i += 1\n",
    "            temp += c\n",
    "        else:\n",
    "            i = 0\n",
    "            if temp:\n",
    "                ans += temp\n",
    "                temp = ''\n",
    "            ans += c\n",
    "        if len(temp) == len(old):\n",
    "            ans += new\n",
    "            temp = ''\n",
    "            i = 0\n",
    "    else:\n",
    "        if temp:\n",
    "            ans += temp\n",
    "    return ans\n",
    "replstr(\"India was a Great Country\",\"was\",\"is\")"
   ]
  },
  {
   "cell_type": "code",
   "execution_count": 8,
   "metadata": {},
   "outputs": [
    {
     "name": "stdout",
     "output_type": "stream",
     "text": [
      "4\n",
      "India \n",
      "Stands\n",
      "For\n",
      "Unity\n",
      "India  For "
     ]
    }
   ],
   "source": [
    "s = []\n",
    "n = int(input())\n",
    "for i in range(0,n):\n",
    "    x = input()\n",
    "    s.append(x)\n",
    "for i in range(0,len(s)):\n",
    "    if i%2==0:\n",
    "        print(s[i],end = \" \")"
   ]
  },
  {
   "cell_type": "code",
   "execution_count": 54,
   "metadata": {},
   "outputs": [
    {
     "name": "stdout",
     "output_type": "stream",
     "text": [
      "INDIA\n",
      "patna\n",
      "IpNaDtInAa\n"
     ]
    }
   ],
   "source": [
    "s1 = input()\n",
    "s2 = input()\n",
    "ans = \"\"\n",
    "x = 0\n",
    "y = 0\n",
    "for i in range(0,len(s1+s2)-1):\n",
    "    if i%2==0:\n",
    "        ans = ans + s1[x]\n",
    "        x = x + 1\n",
    "    else:\n",
    "        ans = ans + s2[y]\n",
    "        y = y + 1\n",
    "if len(s1+s2)%2==0:\n",
    "    ans = ans + s2[-1]\n",
    "else:\n",
    "    ans = ans + s1[-1]\n",
    "print(ans)"
   ]
  },
  {
   "cell_type": "code",
   "execution_count": 32,
   "metadata": {},
   "outputs": [
    {
     "name": "stdout",
     "output_type": "stream",
     "text": [
      "ganesh\n",
      "g\n",
      "a\n",
      "n\n",
      "e\n",
      "s\n",
      "h\n",
      "ga\n",
      "an\n",
      "ne\n",
      "es\n",
      "sh\n",
      "gan\n",
      "ane\n",
      "nes\n",
      "esh\n",
      "gane\n",
      "anes\n",
      "nesh\n",
      "ganes\n",
      "anesh\n",
      "ganesh\n"
     ]
    }
   ],
   "source": [
    "def subset(s,n):\n",
    "    for Len in range(1,n + 1):\n",
    "        for i in range(n - Len + 1):\n",
    "            j = i + Len - 1\n",
    "            for k in range(i,j + 1):\n",
    "                print(s[k],end=\"\")\n",
    "            print()\n",
    "s = input()\n",
    "subset(s,len(s))\n"
   ]
  },
  {
   "cell_type": "markdown",
   "metadata": {},
   "source": [
    "# File Management"
   ]
  },
  {
   "cell_type": "code",
   "execution_count": 60,
   "metadata": {},
   "outputs": [],
   "source": [
    "my_file = open(\"myfile.txt\", \"w\")\n",
    "my_file.write(\"abc\\n\")\n",
    "my_file.write(\"123\")\n",
    "my_file = open(\"myfile.txt\")\n",
    "content = my_file.read()\n",
    "my_file.close()"
   ]
  },
  {
   "cell_type": "code",
   "execution_count": 61,
   "metadata": {},
   "outputs": [
    {
     "name": "stdout",
     "output_type": "stream",
     "text": [
      "abc\n",
      "123\n"
     ]
    }
   ],
   "source": [
    "print(content) # Printing itself que 15"
   ]
  },
  {
   "cell_type": "code",
   "execution_count": 22,
   "metadata": {},
   "outputs": [
    {
     "name": "stdout",
     "output_type": "stream",
     "text": [
      "abc\n",
      "123"
     ]
    }
   ],
   "source": [
    "# my_file = open(\"test.txt\", \"w\")\n",
    "# my_file.write(\"abc\\n\")\n",
    "# my_file.write(\"123\")\n",
    "\n",
    "with open(\"myfile.txt\") as f:\n",
    "    with open(\"out.txt\", \"w\") as f1:\n",
    "        for line in f:\n",
    "            f1.write(line)           \n",
    "# my_file = open(\"out.txt\")\n",
    "# content = my_file.read()\n",
    "# my_file.close()\n",
    "with open(\"out.txt\") as f:\n",
    "    for line in f:\n",
    "        print(line,end = \"\")"
   ]
  },
  {
   "cell_type": "code",
   "execution_count": 126,
   "metadata": {},
   "outputs": [
    {
     "name": "stdout",
     "output_type": "stream",
     "text": [
      "Moti\n"
     ]
    }
   ],
   "source": [
    "# import csv\n",
    "# with open(\"info_large.csv\") as f:\n",
    "#     with open(\"info_names.csv\",\"r\") as f1:\n",
    "#         try:\n",
    "#             for rows in f1:\n",
    "#     #             print(rows)\n",
    "#                 x = csv.reader(f, delimiter=\" \")\n",
    "#                 y = csv.reader(f1,delimiter=\" \")\n",
    "#                 xx = list(x)\n",
    "#                 yy = list(y)\n",
    "#                 x = str(xx[1][0])\n",
    "#                 y = str(yy[0])\n",
    "#                 print(x)\n",
    "#                 if(x==y):\n",
    "#                     print(x)\n",
    "# #                 print(xx[1][0])\n",
    "# #                 print(yy[0])\n",
    "                 \n",
    "#     #             row = csv.reader(f1, delimiter=\" \")\n",
    "#     #             print(f.search(rows))\n",
    "#     #             if next(row) in rows:\n",
    "#     #                 print(\"its present\")\n",
    "#         except IndexError:\n",
    "#             pass\n",
    "    "
   ]
  },
  {
   "cell_type": "code",
   "execution_count": 150,
   "metadata": {},
   "outputs": [],
   "source": [
    "import csv"
   ]
  },
  {
   "cell_type": "code",
   "execution_count": 178,
   "metadata": {},
   "outputs": [
    {
     "name": "stdout",
     "output_type": "stream",
     "text": [
      "Ganesh ['Ganesh', 'Bhandarkar', '1806554']\n",
      "Moti ['Moti', 'Doggy', '13']\n",
      "Ram ['Ram', 'Turtle', '11']\n"
     ]
    }
   ],
   "source": [
    "with open('info_names.csv') as f:\n",
    "    reader = csv.reader(f)\n",
    "    for row in reader:\n",
    "        x = row[0]\n",
    "        with open('info_large.csv') as f1:\n",
    "            reader1 = csv.reader(f1,delimiter=\",\")\n",
    "            for row1 in reader1:\n",
    "#                 print(row1[0])\n",
    "                if x == row1[0]:\n",
    "                    print(x,row1)"
   ]
  },
  {
   "cell_type": "code",
   "execution_count": null,
   "metadata": {},
   "outputs": [],
   "source": []
  }
 ],
 "metadata": {
  "kernelspec": {
   "display_name": "Python 3",
   "language": "python",
   "name": "python3"
  },
  "language_info": {
   "codemirror_mode": {
    "name": "ipython",
    "version": 3
   },
   "file_extension": ".py",
   "mimetype": "text/x-python",
   "name": "python",
   "nbconvert_exporter": "python",
   "pygments_lexer": "ipython3",
   "version": "3.7.1"
  }
 },
 "nbformat": 4,
 "nbformat_minor": 4
}
