{
 "cells": [
  {
   "cell_type": "markdown",
   "metadata": {},
   "source": [
    "# Ganesh Bhandarkar 1806554 Python Assignment 6 "
   ]
  },
  {
   "cell_type": "markdown",
   "metadata": {},
   "source": [
    "### Graph Theory"
   ]
  },
  {
   "cell_type": "code",
   "execution_count": 94,
   "metadata": {},
   "outputs": [
    {
     "name": "stdout",
     "output_type": "stream",
     "text": [
      "a  -> c , d , \n",
      "c  -> a , \n",
      "b  -> d , e , \n",
      "d  -> b , a , \n",
      "e  -> b , \n"
     ]
    }
   ],
   "source": [
    "from collections import defaultdict\n",
    "g = defaultdict(list)\n",
    "edges = []\n",
    "\n",
    "def addEdge(g,u,v):\n",
    "    g[u].append(v)\n",
    "    g[v].append(u)\n",
    "\n",
    "def createGraph(g):\n",
    "    for node in g:\n",
    "        for neighbour in g[node]:\n",
    "            edges.append((node,neighbour))\n",
    "\n",
    "def printGraph():\n",
    "    for j in g:\n",
    "        print(j,\" -> \",end = \"\")\n",
    "        for i in g[j]:\n",
    "            print(i,\", \",end = '')\n",
    "        print()\n",
    "\n",
    "addEdge(g,'a','c') \n",
    "addEdge(g,'b','d') \n",
    "addEdge(g,'b','e')  \n",
    "addEdge(g,'a','d')\n",
    "printGraph()"
   ]
  },
  {
   "cell_type": "code",
   "execution_count": 95,
   "metadata": {},
   "outputs": [
    {
     "name": "stdout",
     "output_type": "stream",
     "text": [
      "a  -> ('c', 4) , \n",
      "b  -> ('c', 3) , ('e', 2) , \n",
      "c  -> ('d', 7) , ('e', 1) , ('a', 11) , \n"
     ]
    }
   ],
   "source": [
    "from collections import defaultdict\n",
    "g = defaultdict(list)\n",
    "edges = []\n",
    "\n",
    "def addEdge(g,u,v,w):\n",
    "    g[u].append(tuple({v,w}))\n",
    "\n",
    "def createGraph(g):\n",
    "    for node in g:\n",
    "        for neighbour in g[node]:\n",
    "            edges.append((node,neighbour))\n",
    "    return g\n",
    "\n",
    "def printGraph():\n",
    "    for j in g:\n",
    "        print(j,\" -> \",end = \"\")\n",
    "        for i in g[j]:\n",
    "            print(i,\", \",end = '')\n",
    "        print()\n",
    "addEdge(g,'a','c',4) \n",
    "addEdge(g,'b','c',3) \n",
    "addEdge(g,'b','e',2) \n",
    "addEdge(g,'c','d',7) \n",
    "addEdge(g,'c','e',1) \n",
    "addEdge(g,'c','a',11)\n",
    "printGraph()\n",
    "#createGraph(g)"
   ]
  },
  {
   "cell_type": "markdown",
   "metadata": {},
   "source": [
    "### Class and Data Structure"
   ]
  },
  {
   "cell_type": "code",
   "execution_count": 97,
   "metadata": {},
   "outputs": [
    {
     "name": "stdin",
     "output_type": "stream",
     "text": [
      " 2\n",
      "enter name ganesh\n",
      "enter roll 20\n",
      "enter cgpa 9\n",
      "enter name raju\n",
      "enter roll 22\n",
      "enter cgpa 10\n"
     ]
    },
    {
     "name": "stdout",
     "output_type": "stream",
     "text": [
      "\n",
      "\n",
      "\n",
      "List of Students\n",
      "\n",
      "Name   :  ganesh\n",
      "RollNo :  20\n",
      "CGPA :  9\n",
      "\n",
      "\n",
      "Name   :  raju\n",
      "RollNo :  22\n",
      "CGPA :  10\n",
      "\n",
      "\n"
     ]
    }
   ],
   "source": [
    "class Student: \n",
    "    def __init__(self, name, rollno, cgpa): \n",
    "        self.name = name \n",
    "        self.rollno = rollno \n",
    "        self.cgpa = cgpa    \n",
    "    def readdata(self, Name, Rollno, cgpa ):  \n",
    "        ob = Student(Name, Rollno, cgpa ) \n",
    "        ls.append(ob)        \n",
    "    def printdata(self, ob): \n",
    "            print(\"Name   : \", ob.name) \n",
    "            print(\"RollNo : \", ob.rollno) \n",
    "            print(\"CGPA : \", ob.cgpa)  \n",
    "            print(\"\\n\")      \n",
    "ls =[] \n",
    "stud = Student('', 0, 0) \n",
    "n = int(input())\n",
    "for i in range(0,n):\n",
    "    name = input(\"enter name\")\n",
    "    roll = int(input(\"enter roll\"))\n",
    "    cgpa = int(input(\"enter cgpa\"))\n",
    "    stud.readdata(name, roll, cgpa) \n",
    "print(\"\\n\") \n",
    "print(\"\\nList of Students\\n\") \n",
    "for i in range(ls.__len__()):     \n",
    "    stud.printdata(ls[i])"
   ]
  },
  {
   "cell_type": "code",
   "execution_count": 98,
   "metadata": {},
   "outputs": [
    {
     "name": "stdout",
     "output_type": "stream",
     "text": [
      "Name :  Rahul \n",
      "Age :  20 \n",
      "Gender :  male\n",
      "Empid : 345 \n",
      "Designation : intern \n",
      "Salary : 200000\n"
     ]
    },
    {
     "data": {
      "text/plain": [
       "<__main__.Employee at 0x241f054ea30>"
      ]
     },
     "execution_count": 98,
     "metadata": {},
     "output_type": "execute_result"
    }
   ],
   "source": [
    "class Person():\n",
    "    def __init__(self, name, age, gender): \n",
    "        self.name = name \n",
    "        self.age = age \n",
    "        self.gender = gender \n",
    "#     def readdata(self, name, age, gender ):  \n",
    "#         ob = Person( name, age, gender ) \n",
    "#         person.append(ob) \n",
    "    def tell(self):\n",
    "        print('Name : ', self.name,\"\\nAge : \",self.age, '\\nGender : ',self.gender)\n",
    "        print('Empid :',self.empid,\"\\nDesignation :\",self.desi,\"\\nSalary :\",self.salary)\n",
    "#     def printdata(self, ob): \n",
    "#             print(ob.name) \n",
    "#             print(ob.age) \n",
    "#             print(ob.gender)  \n",
    "#             print(\"\\n\")\n",
    "class Employee(Person):\n",
    "    def __init__(self,name,age,gender, empid, desi, salary): \n",
    "        Person.__init__(self, name, age, gender)\n",
    "        self.empid = empid \n",
    "        self.desi = desi \n",
    "        self.salary = salary\n",
    "        Person.tell(self)\n",
    "#     def readdata(self, name, age, gender ):  \n",
    "#         ob = Employee(name, age, gender , empid, desi, salary) \n",
    "#         employ.append(ob)\n",
    "Employee('Rahul', 20, 'male',345,\"intern\", 200000)\n"
   ]
  },
  {
   "cell_type": "code",
   "execution_count": 99,
   "metadata": {},
   "outputs": [
    {
     "name": "stdout",
     "output_type": "stream",
     "text": [
      "push \n",
      "pop\n",
      "quit\n"
     ]
    },
    {
     "name": "stdin",
     "output_type": "stream",
     "text": [
      "What would you like to do?  push 10\n"
     ]
    },
    {
     "name": "stdout",
     "output_type": "stream",
     "text": [
      "[10]\n",
      "push \n",
      "pop\n",
      "quit\n"
     ]
    },
    {
     "name": "stdin",
     "output_type": "stream",
     "text": [
      "What would you like to do?  push 20\n"
     ]
    },
    {
     "name": "stdout",
     "output_type": "stream",
     "text": [
      "[10, 20]\n",
      "push \n",
      "pop\n",
      "quit\n"
     ]
    },
    {
     "name": "stdin",
     "output_type": "stream",
     "text": [
      "What would you like to do?  push 30\n"
     ]
    },
    {
     "name": "stdout",
     "output_type": "stream",
     "text": [
      "[10, 20, 30]\n",
      "push \n",
      "pop\n",
      "quit\n"
     ]
    },
    {
     "name": "stdin",
     "output_type": "stream",
     "text": [
      "What would you like to do?  push 40\n"
     ]
    },
    {
     "name": "stdout",
     "output_type": "stream",
     "text": [
      "[10, 20, 30, 40]\n",
      "push \n",
      "pop\n",
      "quit\n"
     ]
    },
    {
     "name": "stdin",
     "output_type": "stream",
     "text": [
      "What would you like to do?  pop\n"
     ]
    },
    {
     "name": "stdout",
     "output_type": "stream",
     "text": [
      "Popped value:  40\n",
      "[10, 20, 30]\n",
      "push \n",
      "pop\n",
      "quit\n"
     ]
    },
    {
     "name": "stdin",
     "output_type": "stream",
     "text": [
      "What would you like to do?  pop\n"
     ]
    },
    {
     "name": "stdout",
     "output_type": "stream",
     "text": [
      "Popped value:  30\n",
      "[10, 20]\n",
      "push \n",
      "pop\n",
      "quit\n"
     ]
    },
    {
     "name": "stdin",
     "output_type": "stream",
     "text": [
      "What would you like to do?  quit\n"
     ]
    }
   ],
   "source": [
    "class Stack():\n",
    "    def __init__(self):\n",
    "        self.stack = []\n",
    "    def isEmpty(self):\n",
    "        return self.stack == []\n",
    "    def PUSH(self,x):\n",
    "        self.stack.append(x)\n",
    "    def POP(self):\n",
    "        return self.stack.pop()\n",
    "    def printStack(self):\n",
    "        return self.stack\n",
    "s = Stack()\n",
    "\n",
    "while True:\n",
    "    print('push ')\n",
    "    print('pop')\n",
    "    print('quit')\n",
    "    do = input('What would you like to do? ').split() \n",
    "    operation = do[0].strip().lower()\n",
    "    if operation == 'push':\n",
    "        s.PUSH(int(do[1]))\n",
    "    elif operation == 'pop':\n",
    "        if s.isEmpty():\n",
    "            print('Stack is empty.')\n",
    "        else:\n",
    "            print('Popped value: ', s.POP())\n",
    "    elif operation == 'quit':\n",
    "        break\n",
    "    print(s.printStack(),end = \"\")\n",
    "    print()"
   ]
  },
  {
   "cell_type": "code",
   "execution_count": 100,
   "metadata": {},
   "outputs": [
    {
     "name": "stdout",
     "output_type": "stream",
     "text": [
      "push enter value\n",
      "pop\n",
      "quit\n"
     ]
    },
    {
     "name": "stdin",
     "output_type": "stream",
     "text": [
      "What would you like to do?  push 10\n"
     ]
    },
    {
     "name": "stdout",
     "output_type": "stream",
     "text": [
      "[10]\n",
      "push enter value\n",
      "pop\n",
      "quit\n"
     ]
    },
    {
     "name": "stdin",
     "output_type": "stream",
     "text": [
      "What would you like to do?  push 30\n"
     ]
    },
    {
     "name": "stdout",
     "output_type": "stream",
     "text": [
      "[10, 30]\n",
      "push enter value\n",
      "pop\n",
      "quit\n"
     ]
    },
    {
     "name": "stdin",
     "output_type": "stream",
     "text": [
      "What would you like to do?  push 40\n"
     ]
    },
    {
     "name": "stdout",
     "output_type": "stream",
     "text": [
      "[10, 30, 40]\n",
      "push enter value\n",
      "pop\n",
      "quit\n"
     ]
    },
    {
     "name": "stdin",
     "output_type": "stream",
     "text": [
      "What would you like to do?  push 100\n"
     ]
    },
    {
     "name": "stdout",
     "output_type": "stream",
     "text": [
      "[10, 30, 40, 100]\n",
      "push enter value\n",
      "pop\n",
      "quit\n"
     ]
    },
    {
     "name": "stdin",
     "output_type": "stream",
     "text": [
      "What would you like to do?  pop\n"
     ]
    },
    {
     "name": "stdout",
     "output_type": "stream",
     "text": [
      "Popped value:  10\n",
      "[30, 40, 100]\n",
      "push enter value\n",
      "pop\n",
      "quit\n"
     ]
    },
    {
     "name": "stdin",
     "output_type": "stream",
     "text": [
      "What would you like to do?  pop\n"
     ]
    },
    {
     "name": "stdout",
     "output_type": "stream",
     "text": [
      "Popped value:  30\n",
      "[40, 100]\n",
      "push enter value\n",
      "pop\n",
      "quit\n"
     ]
    },
    {
     "name": "stdin",
     "output_type": "stream",
     "text": [
      "What would you like to do?  quit\n"
     ]
    }
   ],
   "source": [
    "class Queue():\n",
    "    def __init__(self):\n",
    "        self.queue = []\n",
    "    def isEmpty(self):\n",
    "        return self.queue == []\n",
    "    def INSERT(self,x):\n",
    "        self.queue.append(x)\n",
    "    def REMOVE(self):\n",
    "        return self.queue.pop(0)\n",
    "    def printQueue(self):\n",
    "        return self.queue\n",
    "s = Queue()\n",
    "\n",
    "while True:\n",
    "    print('push enter value')\n",
    "    print('pop')\n",
    "    print('quit')\n",
    "    do = input('What would you like to do? ').split() \n",
    "    operation = do[0].strip().lower()\n",
    "    if operation == 'push':\n",
    "        s.INSERT(int(do[1]))\n",
    "    elif operation == 'pop':\n",
    "        if s.isEmpty():\n",
    "            print('Stack is empty.')\n",
    "        else:\n",
    "            print('Popped value: ', s.REMOVE())\n",
    "    elif operation == 'quit':\n",
    "        break\n",
    "    print(s.printQueue(),end = \"\")\n",
    "    print()"
   ]
  },
  {
   "cell_type": "code",
   "execution_count": null,
   "metadata": {},
   "outputs": [],
   "source": []
  }
 ],
 "metadata": {
  "kernelspec": {
   "display_name": "Python 3",
   "language": "python",
   "name": "python3"
  },
  "language_info": {
   "codemirror_mode": {
    "name": "ipython",
    "version": 3
   },
   "file_extension": ".py",
   "mimetype": "text/x-python",
   "name": "python",
   "nbconvert_exporter": "python",
   "pygments_lexer": "ipython3",
   "version": "3.8.5"
  }
 },
 "nbformat": 4,
 "nbformat_minor": 4
}
