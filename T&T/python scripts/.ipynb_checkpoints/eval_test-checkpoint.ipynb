{
 "cells": [
  {
   "cell_type": "markdown",
   "metadata": {},
   "source": [
    "# Ganesh Bhandarkar 1806554 (T&T lab) Test"
   ]
  },
  {
   "cell_type": "code",
   "execution_count": null,
   "metadata": {},
   "outputs": [],
   "source": [
    "with open(\"words.txt\", \"r\") as file: \n",
    "    allopt = file.read()\n",
    "    choices = list(map(str, allopt.split()))"
   ]
  },
  {
   "cell_type": "markdown",
   "metadata": {},
   "source": [
    "# 2"
   ]
  },
  {
   "cell_type": "code",
   "execution_count": 10,
   "metadata": {},
   "outputs": [
    {
     "name": "stdout",
     "output_type": "stream",
     "text": [
      "['ram', 'sham', 'cool', 'folo', 'empty', 'hut']\n"
     ]
    }
   ],
   "source": [
    "x = [\"ram\",\"sham\",\"cool\",\"folo\",\"empty\",\"hut\"]\n",
    "words = [\"ram\"]\n",
    "lambda x: x not in words\n",
    "print(x)\n",
    "#x = lambda x: [x for x in x if x not in [\"name\", \"is\", \"m\"]]"
   ]
  },
  {
   "cell_type": "code",
   "execution_count": null,
   "metadata": {},
   "outputs": [],
   "source": []
  }
 ],
 "metadata": {
  "kernelspec": {
   "display_name": "Python 3",
   "language": "python",
   "name": "python3"
  },
  "language_info": {
   "codemirror_mode": {
    "name": "ipython",
    "version": 3
   },
   "file_extension": ".py",
   "mimetype": "text/x-python",
   "name": "python",
   "nbconvert_exporter": "python",
   "pygments_lexer": "ipython3",
   "version": "3.8.5"
  }
 },
 "nbformat": 4,
 "nbformat_minor": 4
}
