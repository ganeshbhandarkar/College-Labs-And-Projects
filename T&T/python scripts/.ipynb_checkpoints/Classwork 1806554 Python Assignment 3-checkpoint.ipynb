{
 "cells": [
  {
   "cell_type": "markdown",
   "metadata": {},
   "source": [
    "# 1806554 Python Assignment 3 Classwork "
   ]
  },
  {
   "cell_type": "code",
   "execution_count": null,
   "metadata": {},
   "outputs": [],
   "source": [
    "def avg(a,b,c):\n",
    "    return (a+b+c)/3\n",
    "x = int(input())\n",
    "y = int(input())\n",
    "z = int(input())\n",
    "avg(x,y,z)\n",
    "\n"
   ]
  },
  {
   "cell_type": "code",
   "execution_count": 2,
   "metadata": {},
   "outputs": [
    {
     "name": "stdout",
     "output_type": "stream",
     "text": [
      "5\n",
      "120\n"
     ]
    }
   ],
   "source": [
    "def fact():  \n",
    "    x = int(input())\n",
    "    fact = 1\n",
    "    for i in range(1,x+1):\n",
    "        fact *= i\n",
    "    print(fact)\n",
    "fact()"
   ]
  },
  {
   "cell_type": "code",
   "execution_count": 8,
   "metadata": {},
   "outputs": [
    {
     "name": "stdout",
     "output_type": "stream",
     "text": [
      "100\n",
      "5\n",
      "lcm : 100.0   hcf : 5\n"
     ]
    }
   ],
   "source": [
    "import math\n",
    "def hl(a,b):\n",
    "    gcd = math.gcd(a,b)\n",
    "    lcm = (a*b)/gcd\n",
    "    return lcm,gcd\n",
    "a = int(input())\n",
    "b = int(input())\n",
    "lcm,hcf = hl(a,b)\n",
    "print(f'lcm : {lcm}   hcf : {hcf}')"
   ]
  },
  {
   "cell_type": "code",
   "execution_count": 13,
   "metadata": {},
   "outputs": [
    {
     "name": "stdout",
     "output_type": "stream",
     "text": [
      "150\n"
     ]
    },
    {
     "data": {
      "text/plain": [
       "11325"
      ]
     },
     "execution_count": 13,
     "metadata": {},
     "output_type": "execute_result"
    }
   ],
   "source": [
    "def addSum(a):\n",
    "    if a == 0:\n",
    "        return 0\n",
    "    return a + addSum(a-1)\n",
    "a = int(input())\n",
    "addSum(a)\n"
   ]
  },
  {
   "cell_type": "code",
   "execution_count": 26,
   "metadata": {},
   "outputs": [
    {
     "name": "stdout",
     "output_type": "stream",
     "text": [
      "199\n"
     ]
    },
    {
     "data": {
      "text/plain": [
       "991"
      ]
     },
     "execution_count": 26,
     "metadata": {},
     "output_type": "execute_result"
    }
   ],
   "source": [
    "rev = 0\n",
    "p = 1\n",
    "def reverse(n): \n",
    "    global rev\n",
    "    global p \n",
    "    if(n > 0): \n",
    "        reverse(n//10) \n",
    "        rev += (n % 10) * p \n",
    "        p *= 10\n",
    "    return rev \n",
    "n = int(input())\n",
    "reverse(n)"
   ]
  },
  {
   "cell_type": "code",
   "execution_count": null,
   "metadata": {},
   "outputs": [],
   "source": []
  }
 ],
 "metadata": {
  "kernelspec": {
   "display_name": "Python 3",
   "language": "python",
   "name": "python3"
  },
  "language_info": {
   "codemirror_mode": {
    "name": "ipython",
    "version": 3
   },
   "file_extension": ".py",
   "mimetype": "text/x-python",
   "name": "python",
   "nbconvert_exporter": "python",
   "pygments_lexer": "ipython3",
   "version": "3.7.1"
  }
 },
 "nbformat": 4,
 "nbformat_minor": 4
}
