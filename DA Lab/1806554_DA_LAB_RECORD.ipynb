{
 "cells": [
  {
   "cell_type": "markdown",
   "metadata": {},
   "source": [
    "# 1806554 Ganesh Bhandarkar (DA LAB RECORD)"
   ]
  },
  {
   "cell_type": "code",
   "execution_count": 2,
   "metadata": {},
   "outputs": [],
   "source": [
    "#=====================================================================================================================#"
   ]
  },
  {
   "cell_type": "markdown",
   "metadata": {},
   "source": [
    "# 1806554 Ganesh Bhandarkar Lab 1"
   ]
  },
  {
   "cell_type": "code",
   "execution_count": 14,
   "metadata": {},
   "outputs": [
    {
     "name": "stdout",
     "output_type": "stream",
     "text": [
      "[1] \"Hello World\"\n"
     ]
    },
    {
     "data": {
      "text/html": [
       "'Thu Apr 08 13:28:31 2021'"
      ],
      "text/latex": [
       "'Thu Apr 08 13:28:31 2021'"
      ],
      "text/markdown": [
       "'Thu Apr 08 13:28:31 2021'"
      ],
      "text/plain": [
       "[1] \"Thu Apr 08 13:28:31 2021\""
      ]
     },
     "metadata": {},
     "output_type": "display_data"
    },
    {
     "name": "stdout",
     "output_type": "stream",
     "text": [
      "[1] 3\n"
     ]
    },
    {
     "data": {
      "text/html": [
       "1"
      ],
      "text/latex": [
       "1"
      ],
      "text/markdown": [
       "1"
      ],
      "text/plain": [
       "[1] 1"
      ]
     },
     "metadata": {},
     "output_type": "display_data"
    },
    {
     "name": "stdout",
     "output_type": "stream",
     "text": [
      "[1] \"red\"    \"green\"  \"yellow\"\n",
      "[1] \"character\"\n"
     ]
    }
   ],
   "source": [
    "print(\"Hello World\")\n",
    "date()\n",
    "print(mean(1:5))\n",
    "x <- 1\n",
    "x\n",
    "apple <-c('red','green',\"yellow\")\n",
    "print(apple)\n",
    "print(class(apple))\n",
    "list1 <-list(c(2,5,3),21.3,sin)\n",
    "M = matrix(c('a','a','b','c','b','a'),nrow=2,ncol=3,byrow =TRUE)  "
   ]
  },
  {
   "cell_type": "code",
   "execution_count": 2,
   "metadata": {},
   "outputs": [
    {
     "name": "stdout",
     "output_type": "stream",
     "text": [
      "[1] green  green  yellow red    red    red    green \n",
      "Levels: green red yellow\n",
      "[1] 3\n"
     ]
    }
   ],
   "source": [
    "apple_colors <-c('green','green','yellow','red','red','red','green')\n",
    "# Create a factor object.\n",
    "factor_apple <-factor(apple_colors)\n",
    "# Print the factor.\n",
    "print(factor_apple)\n",
    "print(nlevels(factor_apple))"
   ]
  },
  {
   "cell_type": "code",
   "execution_count": 3,
   "metadata": {},
   "outputs": [
    {
     "name": "stdout",
     "output_type": "stream",
     "text": [
      "  gender height weight age\n",
      "1   Male  152.0     81  42\n",
      "2   Male  171.5     93  38\n",
      "3 Female  165.0     78  26\n"
     ]
    }
   ],
   "source": [
    "BMI <-data.frame(gender =c(\"Male\",\"Male\",\"Female\"),\n",
    "                 height =c(152,171.5,165),\n",
    "                 weight =c(81,93,78),\n",
    "                 age=c(42,38,26))\n",
    "print(BMI)"
   ]
  },
  {
   "cell_type": "code",
   "execution_count": 4,
   "metadata": {},
   "outputs": [
    {
     "name": "stdout",
     "output_type": "stream",
     "text": [
      "The class of var_x is  character \n",
      "Now the class of var_x is  numeric \n",
      " Next the class of var_x becomes  integer \n"
     ]
    }
   ],
   "source": [
    "var_x <-\"Hello\"\n",
    "cat(\"The class of var_x is \",class(var_x),\"\\n\")\n",
    "var_x <-34.5\n",
    "cat(\"Now the class of var_x is \",class(var_x),\"\\n\")\n",
    "var_x <-27L\n",
    "cat(\" Next the class of var_x becomes \",class(var_x),\"\\n\")"
   ]
  },
  {
   "cell_type": "code",
   "execution_count": 5,
   "metadata": {},
   "outputs": [
    {
     "name": "stdout",
     "output_type": "stream",
     "text": [
      "[1] 10.0  8.5 10.0\n",
      "[1] -6.0  2.5  2.0\n",
      "[1] 16.0 16.5 24.0\n",
      "[1] 0.250000 1.833333 1.500000\n",
      "[1] 2.0 2.5 2.0\n",
      "[1] 0 1 1\n",
      "[1]  256.000  166.375 1296.000\n"
     ]
    }
   ],
   "source": [
    "v <-c(2,5.5,6)\n",
    "t <-c(8,3,4)\n",
    "print(v+t)\n",
    "print(v-t)\n",
    "print(v*t)\n",
    "print(v/t)\n",
    "print(v%%t)\n",
    "print(v%/%t) \n",
    "print(v^t)"
   ]
  },
  {
   "cell_type": "code",
   "execution_count": 6,
   "metadata": {},
   "outputs": [
    {
     "name": "stdout",
     "output_type": "stream",
     "text": [
      "[1] FALSE  TRUE  TRUE\n",
      "[1]  TRUE FALSE FALSE\n",
      "[1] FALSE FALSE FALSE\n",
      "[1]  TRUE FALSE FALSE\n",
      "[1] FALSE  TRUE  TRUE\n",
      "[1] TRUE TRUE TRUE\n"
     ]
    }
   ],
   "source": [
    "v <-c(2,5.5,6)\n",
    "t <-c(8,3,4)\n",
    "print(v>t)\n",
    "print(v<t)\n",
    "print(v==t)\n",
    "print(v<=t)\n",
    "print(v>=t)\n",
    "print(v!=t)"
   ]
  },
  {
   "cell_type": "code",
   "execution_count": 8,
   "metadata": {},
   "outputs": [
    {
     "name": "stdout",
     "output_type": "stream",
     "text": [
      "[1] 2.0 5.5 6.0\n",
      "[1] 8 3 4\n",
      "[1] 18 13 14\n"
     ]
    }
   ],
   "source": [
    "v <-c(2,5.5,6)\n",
    "u = c(18,13,14)\n",
    "print(v)\n",
    "print(t)\n",
    "print(u)"
   ]
  },
  {
   "cell_type": "code",
   "execution_count": 10,
   "metadata": {},
   "outputs": [
    {
     "name": "stdout",
     "output_type": "stream",
     "text": [
      "[1] 2.0 5.5 6.0\n",
      "[1] 8 3 4\n"
     ]
    }
   ],
   "source": [
    "c(2,5.5,6) -> v\n",
    "print(v)\n",
    "print(t)"
   ]
  },
  {
   "cell_type": "code",
   "execution_count": 12,
   "metadata": {},
   "outputs": [
    {
     "name": "stdout",
     "output_type": "stream",
     "text": [
      "[1] 2 3 4 5 6 7 8\n"
     ]
    }
   ],
   "source": [
    "v <-2:8\n",
    "print(v)"
   ]
  },
  {
   "cell_type": "code",
   "execution_count": 13,
   "metadata": {},
   "outputs": [
    {
     "name": "stdout",
     "output_type": "stream",
     "text": [
      "[1] TRUE\n",
      "[1] FALSE\n"
     ]
    }
   ],
   "source": [
    "v1 <-8\n",
    "v2 <-12\n",
    "t <-1:10\n",
    "print(v1 %in% t)\n",
    "print(v2 %in% t)"
   ]
  },
  {
   "cell_type": "code",
   "execution_count": null,
   "metadata": {},
   "outputs": [],
   "source": []
  },
  {
   "cell_type": "markdown",
   "metadata": {},
   "source": [
    "# 1806554 Ganesh Bhandarkar Lab 2"
   ]
  },
  {
   "cell_type": "code",
   "execution_count": 1,
   "metadata": {},
   "outputs": [
    {
     "name": "stdin",
     "output_type": "stream",
     "text": [
      "name Ganesh Bhandarkar\n",
      "age 20\n"
     ]
    },
    {
     "name": "stdout",
     "output_type": "stream",
     "text": [
      "Name :  Ganesh Bhandarkar \n",
      " Age :  20"
     ]
    }
   ],
   "source": [
    "name <- as.character(readline(prompt = \"name\"))\n",
    "age <- as.integer(readline(prompt = \"age\"))\n",
    "cat(\"Name : \", name,\"\\n\",\"Age : \", age)"
   ]
  },
  {
   "cell_type": "code",
   "execution_count": 16,
   "metadata": {},
   "outputs": [
    {
     "name": "stdin",
     "output_type": "stream",
     "text": [
      "roll no 1806554\n",
      "name Ganesh Bhandakar\n",
      "branch IT\n"
     ]
    },
    {
     "name": "stdout",
     "output_type": "stream",
     "text": [
      "roll-> 1806554 \n",
      " name-> Ganesh Bhandakar \n",
      " branch-> IT"
     ]
    }
   ],
   "source": [
    "roll <- as.integer(readline(prompt = \"roll no\"))\n",
    "name <- as.character(readline(prompt = \"name\"))\n",
    "branch <- as.character(readline(prompt = \"branch\"))\n",
    "cat(\"roll->\",roll,\"\\n\",\"name->\",name,\"\\n\",\"branch->\",branch)"
   ]
  },
  {
   "cell_type": "code",
   "execution_count": 23,
   "metadata": {},
   "outputs": [
    {
     "name": "stdin",
     "output_type": "stream",
     "text": [
      " 5 2\n"
     ]
    },
    {
     "name": "stdout",
     "output_type": "stream",
     "text": [
      "sum :  7 \t mul :  10 \t div :  2.5 \t sub :  3"
     ]
    }
   ],
   "source": [
    "x <- readline()\n",
    "x <- strsplit(x,\" \")\n",
    "x <- as.integer(x[[1]])\n",
    "cat(\"sum : \",x[1]+x[2],\"\\t\",\"mul : \",x[1]*x[2],\"\\t\",\"div : \",x[1]/x[2],\"\\t\",\"sub : \",x[1]-x[2])"
   ]
  },
  {
   "cell_type": "code",
   "execution_count": 27,
   "metadata": {},
   "outputs": [
    {
     "name": "stdin",
     "output_type": "stream",
     "text": [
      " 234\n"
     ]
    },
    {
     "name": "stdout",
     "output_type": "stream",
     "text": [
      "sum of 3 digits of number :  9"
     ]
    }
   ],
   "source": [
    "x <- as.character(readline())\n",
    "x <- strsplit(x,\"\")\n",
    "x <- as.integer(x[[1]])\n",
    "cat(\"sum of 3 digits of number : \",x[1]+x[2]+x[3])"
   ]
  },
  {
   "cell_type": "code",
   "execution_count": 28,
   "metadata": {},
   "outputs": [
    {
     "name": "stdin",
     "output_type": "stream",
     "text": [
      " 3\n"
     ]
    },
    {
     "name": "stdout",
     "output_type": "stream",
     "text": [
      "area :  28.26 \n",
      " circumference :  18.84"
     ]
    }
   ],
   "source": [
    "x <- as.integer(readline())\n",
    "area = 3.14*x*x\n",
    "circumference = 2*3.14*x\n",
    "cat(\"area : \",area,\"\\n\",\"circumference : \",circumference)"
   ]
  },
  {
   "cell_type": "code",
   "execution_count": 35,
   "metadata": {},
   "outputs": [
    {
     "name": "stdout",
     "output_type": "stream",
     "text": [
      "seq bet 20 to 50 :  20 21 22 23 24 25 26 27 28 29 30 31 32 33 34 35 36 37 38 39 40 41 42 43 44 45 46 47 48 49 50\n",
      "mean bet 20 to 60 :  40\n",
      "sum for 51 to 91 :  2911"
     ]
    }
   ],
   "source": [
    "cat(\"seq bet 20 to 50 : \",c(20:50))\n",
    "cat(\"\\n\")\n",
    "cat(\"mean bet 20 to 60 : \",mean(20:60))\n",
    "cat(\"\\n\")\n",
    "cat(\"sum for 51 to 91 : \",sum(51:91))"
   ]
  },
  {
   "cell_type": "code",
   "execution_count": 38,
   "metadata": {},
   "outputs": [
    {
     "data": {
      "text/html": [
       "<ol class=list-inline>\n",
       "\t<li>-33</li>\n",
       "\t<li>22</li>\n",
       "\t<li>-6</li>\n",
       "\t<li>-44</li>\n",
       "\t<li>0</li>\n",
       "\t<li>-16</li>\n",
       "\t<li>2</li>\n",
       "\t<li>13</li>\n",
       "\t<li>-24</li>\n",
       "\t<li>13</li>\n",
       "</ol>\n"
      ],
      "text/latex": [
       "\\begin{enumerate*}\n",
       "\\item -33\n",
       "\\item 22\n",
       "\\item -6\n",
       "\\item -44\n",
       "\\item 0\n",
       "\\item -16\n",
       "\\item 2\n",
       "\\item 13\n",
       "\\item -24\n",
       "\\item 13\n",
       "\\end{enumerate*}\n"
      ],
      "text/markdown": [
       "1. -33\n",
       "2. 22\n",
       "3. -6\n",
       "4. -44\n",
       "5. 0\n",
       "6. -16\n",
       "7. 2\n",
       "8. 13\n",
       "9. -24\n",
       "10. 13\n",
       "\n",
       "\n"
      ],
      "text/plain": [
       " [1] -33  22  -6 -44   0 -16   2  13 -24  13"
      ]
     },
     "metadata": {},
     "output_type": "display_data"
    }
   ],
   "source": [
    "round(runif(10,-50,50))"
   ]
  },
  {
   "cell_type": "code",
   "execution_count": 41,
   "metadata": {},
   "outputs": [
    {
     "name": "stdin",
     "output_type": "stream",
     "text": [
      " 1 70 11 34 21 45\n"
     ]
    },
    {
     "data": {
      "text/html": [
       "70"
      ],
      "text/latex": [
       "70"
      ],
      "text/markdown": [
       "70"
      ],
      "text/plain": [
       "[1] 70"
      ]
     },
     "metadata": {},
     "output_type": "display_data"
    },
    {
     "data": {
      "text/html": [
       "1"
      ],
      "text/latex": [
       "1"
      ],
      "text/markdown": [
       "1"
      ],
      "text/plain": [
       "[1] 1"
      ]
     },
     "metadata": {},
     "output_type": "display_data"
    }
   ],
   "source": [
    "x <- readline()\n",
    "x <- strsplit(x,\" \")\n",
    "x <- as.integer(x[[1]])\n",
    "max(x)\n",
    "min(x)"
   ]
  },
  {
   "cell_type": "code",
   "execution_count": 48,
   "metadata": {},
   "outputs": [
    {
     "data": {
      "text/html": [
       "'numeric'"
      ],
      "text/latex": [
       "'numeric'"
      ],
      "text/markdown": [
       "'numeric'"
      ],
      "text/plain": [
       "[1] \"numeric\""
      ]
     },
     "metadata": {},
     "output_type": "display_data"
    },
    {
     "name": "stdout",
     "output_type": "stream",
     "text": [
      "1 2 3 4 5 \n"
     ]
    },
    {
     "data": {
      "text/html": [
       "'character'"
      ],
      "text/latex": [
       "'character'"
      ],
      "text/markdown": [
       "'character'"
      ],
      "text/plain": [
       "[1] \"character\""
      ]
     },
     "metadata": {},
     "output_type": "display_data"
    },
    {
     "name": "stdout",
     "output_type": "stream",
     "text": [
      "hey how are you bruh \n"
     ]
    },
    {
     "data": {
      "text/html": [
       "'logical'"
      ],
      "text/latex": [
       "'logical'"
      ],
      "text/markdown": [
       "'logical'"
      ],
      "text/plain": [
       "[1] \"logical\""
      ]
     },
     "metadata": {},
     "output_type": "display_data"
    },
    {
     "name": "stdout",
     "output_type": "stream",
     "text": [
      "FALSE TRUE TRUE TRUE TRUE"
     ]
    }
   ],
   "source": [
    "x <- c(1,2,3,4,5)\n",
    "y <- c(\"hey\",\"how\",\"are\",\"you\",\"bruh\")\n",
    "z <- x > 1\n",
    "class(x)\n",
    "cat(x,\"\\n\")\n",
    "class(y)\n",
    "cat(y,\"\\n\")\n",
    "class(z)\n",
    "cat(z)"
   ]
  },
  {
   "cell_type": "code",
   "execution_count": 51,
   "metadata": {},
   "outputs": [
    {
     "name": "stdin",
     "output_type": "stream",
     "text": [
      " 1 2 3 4 5\n"
     ]
    },
    {
     "name": "stdout",
     "output_type": "stream",
     "text": [
      "sum :  15 \n",
      " mean :  3 \n",
      " product :  120"
     ]
    }
   ],
   "source": [
    "x <- readline()\n",
    "x <- strsplit(x,\" \")\n",
    "x <- as.integer(x[[1]])\n",
    "cat(\"sum : \",sum(x),\"\\n\",\"mean : \",mean(x),\"\\n\",\"product : \",prod(x))"
   ]
  },
  {
   "cell_type": "code",
   "execution_count": 58,
   "metadata": {},
   "outputs": [
    {
     "name": "stdout",
     "output_type": "stream",
     "text": [
      " [1]  1  2  3  4  5  6  7  8  9 10 11 12 13 14 15 16 17 18 19 20\n",
      " [1] 20 19 18 17 16 15 14 13 12 11 10  9  8  7  6  5  4  3  2  1\n",
      " [1]  1  2  3  4  5  6  7  8  9 10 11 12 13 14 15 16 17 18 19 20 20 19 18 17 16\n",
      "[26] 15 14 13 12 11 10  9  8  7  6  5  4  3  2  1\n",
      "[1] 4 6 3\n"
     ]
    }
   ],
   "source": [
    "tmp <- c(1:20)\n",
    "print(tmp)\n",
    "tmp <- c(20:1)\n",
    "print(tmp)\n",
    "tmp <- c(1:20,20:1)\n",
    "print(tmp)\n",
    "tmp <- c(4,6,3)\n",
    "print(tmp)"
   ]
  },
  {
   "cell_type": "code",
   "execution_count": null,
   "metadata": {},
   "outputs": [],
   "source": []
  },
  {
   "cell_type": "markdown",
   "metadata": {},
   "source": [
    "# 1806554 Ganesh Bhandarkar Lab 3"
   ]
  },
  {
   "cell_type": "code",
   "execution_count": 8,
   "metadata": {},
   "outputs": [
    {
     "data": {
      "text/html": [
       "<table>\n",
       "<tbody>\n",
       "\t<tr><td> 3</td><td> 4</td><td> 5</td></tr>\n",
       "\t<tr><td> 6</td><td> 7</td><td> 8</td></tr>\n",
       "\t<tr><td> 9</td><td>10</td><td>11</td></tr>\n",
       "\t<tr><td>12</td><td>13</td><td>14</td></tr>\n",
       "</tbody>\n",
       "</table>\n"
      ],
      "text/latex": [
       "\\begin{tabular}{lll}\n",
       "\t  3 &  4 &  5\\\\\n",
       "\t  6 &  7 &  8\\\\\n",
       "\t  9 & 10 & 11\\\\\n",
       "\t 12 & 13 & 14\\\\\n",
       "\\end{tabular}\n"
      ],
      "text/markdown": [
       "\n",
       "|  3 |  4 |  5 |\n",
       "|  6 |  7 |  8 |\n",
       "|  9 | 10 | 11 |\n",
       "| 12 | 13 | 14 |\n",
       "\n"
      ],
      "text/plain": [
       "     [,1] [,2] [,3]\n",
       "[1,]  3    4    5  \n",
       "[2,]  6    7    8  \n",
       "[3,]  9   10   11  \n",
       "[4,] 12   13   14  "
      ]
     },
     "metadata": {},
     "output_type": "display_data"
    }
   ],
   "source": [
    "mat = matrix(c(3:14),nrow = 4, byrow = TRUE)\n",
    "mat"
   ]
  },
  {
   "cell_type": "code",
   "execution_count": 17,
   "metadata": {},
   "outputs": [
    {
     "data": {
      "text/html": [
       "<table>\n",
       "<tbody>\n",
       "\t<tr><td>3 </td><td> 7</td><td>11</td></tr>\n",
       "\t<tr><td>4 </td><td> 8</td><td>12</td></tr>\n",
       "\t<tr><td>5 </td><td> 9</td><td>13</td></tr>\n",
       "\t<tr><td>6 </td><td>10</td><td>14</td></tr>\n",
       "</tbody>\n",
       "</table>\n"
      ],
      "text/latex": [
       "\\begin{tabular}{lll}\n",
       "\t 3  &  7 & 11\\\\\n",
       "\t 4  &  8 & 12\\\\\n",
       "\t 5  &  9 & 13\\\\\n",
       "\t 6  & 10 & 14\\\\\n",
       "\\end{tabular}\n"
      ],
      "text/markdown": [
       "\n",
       "| 3  |  7 | 11 |\n",
       "| 4  |  8 | 12 |\n",
       "| 5  |  9 | 13 |\n",
       "| 6  | 10 | 14 |\n",
       "\n"
      ],
      "text/plain": [
       "     [,1] [,2] [,3]\n",
       "[1,] 3     7   11  \n",
       "[2,] 4     8   12  \n",
       "[3,] 5     9   13  \n",
       "[4,] 6    10   14  "
      ]
     },
     "metadata": {},
     "output_type": "display_data"
    }
   ],
   "source": [
    "mat = matrix(c(3:14),nrow = 4, byrow = FALSE)\n",
    "mat"
   ]
  },
  {
   "cell_type": "code",
   "execution_count": 18,
   "metadata": {},
   "outputs": [
    {
     "data": {
      "text/html": [
       "<table>\n",
       "<thead><tr><th></th><th scope=col>a</th><th scope=col>b</th><th scope=col>c</th></tr></thead>\n",
       "<tbody>\n",
       "\t<tr><th scope=row>a</th><td>3 </td><td> 7</td><td>11</td></tr>\n",
       "\t<tr><th scope=row>b</th><td>4 </td><td> 8</td><td>12</td></tr>\n",
       "\t<tr><th scope=row>c</th><td>5 </td><td> 9</td><td>13</td></tr>\n",
       "\t<tr><th scope=row>d</th><td>6 </td><td>10</td><td>14</td></tr>\n",
       "</tbody>\n",
       "</table>\n"
      ],
      "text/latex": [
       "\\begin{tabular}{r|lll}\n",
       "  & a & b & c\\\\\n",
       "\\hline\n",
       "\ta & 3  &  7 & 11\\\\\n",
       "\tb & 4  &  8 & 12\\\\\n",
       "\tc & 5  &  9 & 13\\\\\n",
       "\td & 6  & 10 & 14\\\\\n",
       "\\end{tabular}\n"
      ],
      "text/markdown": [
       "\n",
       "| <!--/--> | a | b | c |\n",
       "|---|---|---|---|\n",
       "| a | 3  |  7 | 11 |\n",
       "| b | 4  |  8 | 12 |\n",
       "| c | 5  |  9 | 13 |\n",
       "| d | 6  | 10 | 14 |\n",
       "\n"
      ],
      "text/plain": [
       "  a b  c \n",
       "a 3  7 11\n",
       "b 4  8 12\n",
       "c 5  9 13\n",
       "d 6 10 14"
      ]
     },
     "metadata": {},
     "output_type": "display_data"
    }
   ],
   "source": [
    "dimnames(mat) <- list(letters[1:4],letters[1:3])\n",
    "mat"
   ]
  },
  {
   "cell_type": "code",
   "execution_count": 19,
   "metadata": {},
   "outputs": [
    {
     "name": "stdout",
     "output_type": "stream",
     "text": [
      "[1] 11\n"
     ]
    }
   ],
   "source": [
    "print(mat[1,3])"
   ]
  },
  {
   "cell_type": "code",
   "execution_count": 20,
   "metadata": {},
   "outputs": [
    {
     "name": "stdout",
     "output_type": "stream",
     "text": [
      "[1] 10\n"
     ]
    }
   ],
   "source": [
    "print(mat[4,2])"
   ]
  },
  {
   "cell_type": "code",
   "execution_count": 21,
   "metadata": {},
   "outputs": [
    {
     "name": "stdout",
     "output_type": "stream",
     "text": [
      " a  b  c \n",
      " 4  8 12 \n"
     ]
    }
   ],
   "source": [
    "print(mat[2,])"
   ]
  },
  {
   "cell_type": "code",
   "execution_count": 22,
   "metadata": {},
   "outputs": [
    {
     "name": "stdout",
     "output_type": "stream",
     "text": [
      " a  b  c  d \n",
      "11 12 13 14 \n"
     ]
    }
   ],
   "source": [
    "print(mat[,3])"
   ]
  },
  {
   "cell_type": "code",
   "execution_count": 23,
   "metadata": {},
   "outputs": [
    {
     "data": {
      "text/html": [
       "<table>\n",
       "<thead><tr><th></th><th scope=col>a</th><th scope=col>b</th><th scope=col>c</th></tr></thead>\n",
       "<tbody>\n",
       "\t<tr><th scope=row>a</th><td>1</td><td>2</td><td>3</td></tr>\n",
       "\t<tr><th scope=row>b</th><td>4</td><td>5</td><td>6</td></tr>\n",
       "</tbody>\n",
       "</table>\n"
      ],
      "text/latex": [
       "\\begin{tabular}{r|lll}\n",
       "  & a & b & c\\\\\n",
       "\\hline\n",
       "\ta & 1 & 2 & 3\\\\\n",
       "\tb & 4 & 5 & 6\\\\\n",
       "\\end{tabular}\n"
      ],
      "text/markdown": [
       "\n",
       "| <!--/--> | a | b | c |\n",
       "|---|---|---|---|\n",
       "| a | 1 | 2 | 3 |\n",
       "| b | 4 | 5 | 6 |\n",
       "\n"
      ],
      "text/plain": [
       "  a b c\n",
       "a 1 2 3\n",
       "b 4 5 6"
      ]
     },
     "metadata": {},
     "output_type": "display_data"
    }
   ],
   "source": [
    "m1 = matrix(c(1:6),nrow = 2,ncol = 3, byrow = TRUE, dimnames = list(letters[1:2],letters[1:3]))\n",
    "m1"
   ]
  },
  {
   "cell_type": "code",
   "execution_count": 24,
   "metadata": {},
   "outputs": [
    {
     "data": {
      "text/html": [
       "<table>\n",
       "<thead><tr><th></th><th scope=col>a</th><th scope=col>b</th><th scope=col>c</th></tr></thead>\n",
       "<tbody>\n",
       "\t<tr><th scope=row>a</th><td>7 </td><td> 9</td><td>11</td></tr>\n",
       "\t<tr><th scope=row>b</th><td>8 </td><td>10</td><td>12</td></tr>\n",
       "</tbody>\n",
       "</table>\n"
      ],
      "text/latex": [
       "\\begin{tabular}{r|lll}\n",
       "  & a & b & c\\\\\n",
       "\\hline\n",
       "\ta & 7  &  9 & 11\\\\\n",
       "\tb & 8  & 10 & 12\\\\\n",
       "\\end{tabular}\n"
      ],
      "text/markdown": [
       "\n",
       "| <!--/--> | a | b | c |\n",
       "|---|---|---|---|\n",
       "| a | 7  |  9 | 11 |\n",
       "| b | 8  | 10 | 12 |\n",
       "\n"
      ],
      "text/plain": [
       "  a b  c \n",
       "a 7  9 11\n",
       "b 8 10 12"
      ]
     },
     "metadata": {},
     "output_type": "display_data"
    }
   ],
   "source": [
    "m2 = matrix(c(7:12),nrow = 2,ncol = 3, byrow = FALSE, dimnames = list(letters[1:2],letters[1:3]))\n",
    "m2"
   ]
  },
  {
   "cell_type": "code",
   "execution_count": 26,
   "metadata": {},
   "outputs": [
    {
     "data": {
      "text/html": [
       "<table>\n",
       "<thead><tr><th></th><th scope=col>a</th><th scope=col>b</th><th scope=col>c</th></tr></thead>\n",
       "<tbody>\n",
       "\t<tr><th scope=row>a</th><td> 8</td><td>11</td><td>14</td></tr>\n",
       "\t<tr><th scope=row>b</th><td>12</td><td>15</td><td>18</td></tr>\n",
       "</tbody>\n",
       "</table>\n"
      ],
      "text/latex": [
       "\\begin{tabular}{r|lll}\n",
       "  & a & b & c\\\\\n",
       "\\hline\n",
       "\ta &  8 & 11 & 14\\\\\n",
       "\tb & 12 & 15 & 18\\\\\n",
       "\\end{tabular}\n"
      ],
      "text/markdown": [
       "\n",
       "| <!--/--> | a | b | c |\n",
       "|---|---|---|---|\n",
       "| a |  8 | 11 | 14 |\n",
       "| b | 12 | 15 | 18 |\n",
       "\n"
      ],
      "text/plain": [
       "  a  b  c \n",
       "a  8 11 14\n",
       "b 12 15 18"
      ]
     },
     "metadata": {},
     "output_type": "display_data"
    }
   ],
   "source": [
    "matadd <- m1 + m2\n",
    "matadd"
   ]
  },
  {
   "cell_type": "code",
   "execution_count": 27,
   "metadata": {},
   "outputs": [
    {
     "data": {
      "text/html": [
       "<table>\n",
       "<thead><tr><th></th><th scope=col>a</th><th scope=col>b</th><th scope=col>c</th></tr></thead>\n",
       "<tbody>\n",
       "\t<tr><th scope=row>a</th><td>-6</td><td>-7</td><td>-8</td></tr>\n",
       "\t<tr><th scope=row>b</th><td>-4</td><td>-5</td><td>-6</td></tr>\n",
       "</tbody>\n",
       "</table>\n"
      ],
      "text/latex": [
       "\\begin{tabular}{r|lll}\n",
       "  & a & b & c\\\\\n",
       "\\hline\n",
       "\ta & -6 & -7 & -8\\\\\n",
       "\tb & -4 & -5 & -6\\\\\n",
       "\\end{tabular}\n"
      ],
      "text/markdown": [
       "\n",
       "| <!--/--> | a | b | c |\n",
       "|---|---|---|---|\n",
       "| a | -6 | -7 | -8 |\n",
       "| b | -4 | -5 | -6 |\n",
       "\n"
      ],
      "text/plain": [
       "  a  b  c \n",
       "a -6 -7 -8\n",
       "b -4 -5 -6"
      ]
     },
     "metadata": {},
     "output_type": "display_data"
    }
   ],
   "source": [
    "matsub <- m1 - m2\n",
    "matsub"
   ]
  },
  {
   "cell_type": "code",
   "execution_count": 28,
   "metadata": {},
   "outputs": [
    {
     "data": {
      "text/html": [
       "<table>\n",
       "<thead><tr><th></th><th scope=col>a</th><th scope=col>b</th><th scope=col>c</th></tr></thead>\n",
       "<tbody>\n",
       "\t<tr><th scope=row>a</th><td> 7</td><td>18</td><td>33</td></tr>\n",
       "\t<tr><th scope=row>b</th><td>32</td><td>50</td><td>72</td></tr>\n",
       "</tbody>\n",
       "</table>\n"
      ],
      "text/latex": [
       "\\begin{tabular}{r|lll}\n",
       "  & a & b & c\\\\\n",
       "\\hline\n",
       "\ta &  7 & 18 & 33\\\\\n",
       "\tb & 32 & 50 & 72\\\\\n",
       "\\end{tabular}\n"
      ],
      "text/markdown": [
       "\n",
       "| <!--/--> | a | b | c |\n",
       "|---|---|---|---|\n",
       "| a |  7 | 18 | 33 |\n",
       "| b | 32 | 50 | 72 |\n",
       "\n"
      ],
      "text/plain": [
       "  a  b  c \n",
       "a  7 18 33\n",
       "b 32 50 72"
      ]
     },
     "metadata": {},
     "output_type": "display_data"
    }
   ],
   "source": [
    "matmul <- m1 * m2\n",
    "matmul"
   ]
  },
  {
   "cell_type": "code",
   "execution_count": 31,
   "metadata": {},
   "outputs": [
    {
     "data": {
      "text/html": [
       "<table>\n",
       "<thead><tr><th></th><th scope=col>a</th><th scope=col>b</th><th scope=col>c</th></tr></thead>\n",
       "<tbody>\n",
       "\t<tr><th scope=row>a</th><td>0.14</td><td>0.22</td><td>0.27</td></tr>\n",
       "\t<tr><th scope=row>b</th><td>0.50</td><td>0.50</td><td>0.50</td></tr>\n",
       "</tbody>\n",
       "</table>\n"
      ],
      "text/latex": [
       "\\begin{tabular}{r|lll}\n",
       "  & a & b & c\\\\\n",
       "\\hline\n",
       "\ta & 0.14 & 0.22 & 0.27\\\\\n",
       "\tb & 0.50 & 0.50 & 0.50\\\\\n",
       "\\end{tabular}\n"
      ],
      "text/markdown": [
       "\n",
       "| <!--/--> | a | b | c |\n",
       "|---|---|---|---|\n",
       "| a | 0.14 | 0.22 | 0.27 |\n",
       "| b | 0.50 | 0.50 | 0.50 |\n",
       "\n"
      ],
      "text/plain": [
       "  a    b    c   \n",
       "a 0.14 0.22 0.27\n",
       "b 0.50 0.50 0.50"
      ]
     },
     "metadata": {},
     "output_type": "display_data"
    }
   ],
   "source": [
    "matdiv <- m1 / m2\n",
    "round(matdiv,digits = 2)"
   ]
  },
  {
   "cell_type": "code",
   "execution_count": 36,
   "metadata": {},
   "outputs": [
    {
     "name": "stdin",
     "output_type": "stream",
     "text": [
      " 1 2 3 4 5 6\n",
      " 7 8 9 10 11 12\n"
     ]
    },
    {
     "data": {
      "text/html": [
       "<table>\n",
       "<thead><tr><th></th><th scope=col>d</th><th scope=col>e</th><th scope=col>f</th><th scope=col>g</th></tr></thead>\n",
       "<tbody>\n",
       "\t<tr><th scope=row>a</th><td>7 </td><td>10</td><td>1 </td><td>4 </td></tr>\n",
       "\t<tr><th scope=row>b</th><td>8 </td><td>11</td><td>2 </td><td>5 </td></tr>\n",
       "\t<tr><th scope=row>c</th><td>9 </td><td>12</td><td>3 </td><td>6 </td></tr>\n",
       "</tbody>\n",
       "</table>\n"
      ],
      "text/latex": [
       "\\begin{tabular}{r|llll}\n",
       "  & d & e & f & g\\\\\n",
       "\\hline\n",
       "\ta & 7  & 10 & 1  & 4 \\\\\n",
       "\tb & 8  & 11 & 2  & 5 \\\\\n",
       "\tc & 9  & 12 & 3  & 6 \\\\\n",
       "\\end{tabular}\n"
      ],
      "text/markdown": [
       "\n",
       "| <!--/--> | d | e | f | g |\n",
       "|---|---|---|---|---|\n",
       "| a | 7  | 10 | 1  | 4  |\n",
       "| b | 8  | 11 | 2  | 5  |\n",
       "| c | 9  | 12 | 3  | 6  |\n",
       "\n"
      ],
      "text/plain": [
       "  d e  f g\n",
       "a 7 10 1 4\n",
       "b 8 11 2 5\n",
       "c 9 12 3 6"
      ]
     },
     "metadata": {},
     "output_type": "display_data"
    }
   ],
   "source": [
    "v <- readline()\n",
    "v <- strsplit(v,\" \")\n",
    "v <- as.integer(v[[1]])\n",
    "\n",
    "w <- readline()\n",
    "w <- strsplit(w,\" \")\n",
    "w <- as.integer(w[[1]])\n",
    "\n",
    "maat <- matrix(c(w,v),nrow = 3, byrow = FALSE)\n",
    "dimnames(maat) <- list(letters[1:3],letters[4:7])\n",
    "maat\n",
    "\n"
   ]
  },
  {
   "cell_type": "code",
   "execution_count": null,
   "metadata": {},
   "outputs": [],
   "source": []
  },
  {
   "cell_type": "markdown",
   "metadata": {},
   "source": [
    "# 1806554 Ganesh Bhandarkar Lab 4"
   ]
  },
  {
   "cell_type": "code",
   "execution_count": 3,
   "metadata": {},
   "outputs": [
    {
     "name": "stdin",
     "output_type": "stream",
     "text": [
      " 1\n",
      " 2\n",
      " 3\n"
     ]
    },
    {
     "name": "stdout",
     "output_type": "stream",
     "text": [
      "[1] \"2  is average of  1   2   3\"\n"
     ]
    }
   ],
   "source": [
    "average <- function(){\n",
    "    a <- as.double(readline())\n",
    "    b <- as.double(readline())\n",
    "    c <- as.double(readline())\n",
    "    y = (a+b+c)/3\n",
    "    print(paste(y,\" is average of \",a,\" \",b,\" \",c))\n",
    "}\n",
    "average()"
   ]
  },
  {
   "cell_type": "code",
   "execution_count": 5,
   "metadata": {},
   "outputs": [
    {
     "data": {
      "text/html": [
       "120"
      ],
      "text/latex": [
       "120"
      ],
      "text/markdown": [
       "120"
      ],
      "text/plain": [
       "[1] 120"
      ]
     },
     "metadata": {},
     "output_type": "display_data"
    }
   ],
   "source": [
    "factorial <- function(n){\n",
    "     fact = 1\n",
    "    while(n>0){\n",
    "        fact = fact*n\n",
    "        n = n-1\n",
    "    }\n",
    "    return(fact)\n",
    "}\n",
    "factorial(5)"
   ]
  },
  {
   "cell_type": "code",
   "execution_count": 20,
   "metadata": {},
   "outputs": [
    {
     "data": {
      "text/html": [
       "<ol>\n",
       "\t<li>6</li>\n",
       "\t<li>2</li>\n",
       "</ol>\n"
      ],
      "text/latex": [
       "\\begin{enumerate}\n",
       "\\item 6\n",
       "\\item 2\n",
       "\\end{enumerate}\n"
      ],
      "text/markdown": [
       "1. 6\n",
       "2. 2\n",
       "\n",
       "\n"
      ],
      "text/plain": [
       "[[1]]\n",
       "[1] 6\n",
       "\n",
       "[[2]]\n",
       "[1] 2\n"
      ]
     },
     "metadata": {},
     "output_type": "display_data"
    }
   ],
   "source": [
    "hl <- function(x,y){\n",
    "    if(x > y) {\n",
    "        smaller = y\n",
    "    } else {\n",
    "        smaller = x\n",
    "    }\n",
    "    for(i in 1:smaller) {\n",
    "        if((x %% i == 0) && (y %% i == 0)) {\n",
    "            hcf = i\n",
    "        }\n",
    "    }\n",
    "    lcm = x*y/hcf\n",
    "    return(list(lcm,hcf))\n",
    "}\n",
    "hl(2,6)"
   ]
  },
  {
   "cell_type": "code",
   "execution_count": 23,
   "metadata": {},
   "outputs": [
    {
     "data": {
      "text/html": [
       "15"
      ],
      "text/latex": [
       "15"
      ],
      "text/markdown": [
       "15"
      ],
      "text/plain": [
       "[1] 15"
      ]
     },
     "metadata": {},
     "output_type": "display_data"
    }
   ],
   "source": [
    "seq <- function(n){\n",
    "    if(n==0){\n",
    "        return(0); \n",
    "    }\n",
    "    return(seq(n-1)+n)\n",
    "}\n",
    "seq(5)"
   ]
  },
  {
   "cell_type": "code",
   "execution_count": 37,
   "metadata": {},
   "outputs": [
    {
     "data": {
      "text/html": [
       "322"
      ],
      "text/latex": [
       "322"
      ],
      "text/markdown": [
       "322"
      ],
      "text/plain": [
       "[1] 322"
      ]
     },
     "metadata": {},
     "output_type": "display_data"
    }
   ],
   "source": [
    "rev = 0\n",
    "reverseofnum <- function(n){\n",
    "#     if(n==0){\n",
    "#         return(0);\n",
    "#     }\n",
    "    \n",
    "    while (n > 0) {\n",
    "      r = n %% 10\n",
    "      rev = rev * 10 + r\n",
    "      n = n %/% 10\n",
    "    }\n",
    "    #reverseofnum(n)\n",
    "    return(rev)\n",
    "}\n",
    "reverseofnum(223)"
   ]
  },
  {
   "cell_type": "code",
   "execution_count": 54,
   "metadata": {},
   "outputs": [
    {
     "name": "stdin",
     "output_type": "stream",
     "text": [
      " 2 3 4\n"
     ]
    },
    {
     "data": {
      "text/html": [
       "0.24"
      ],
      "text/latex": [
       "0.24"
      ],
      "text/markdown": [
       "0.24"
      ],
      "text/plain": [
       "[1] 0.24"
      ]
     },
     "metadata": {},
     "output_type": "display_data"
    }
   ],
   "source": [
    "Si <- function(x){\n",
    "    si = (x[1] * x[2] * x[3])/100\n",
    "    return(si)\n",
    "}\n",
    "x <- readline()\n",
    "x <- strsplit(x,\" \")\n",
    "x <- as.integer(x[[1]])\n",
    "Si(x)"
   ]
  },
  {
   "cell_type": "code",
   "execution_count": 39,
   "metadata": {},
   "outputs": [
    {
     "name": "stdout",
     "output_type": "stream",
     "text": [
      "110100"
     ]
    }
   ],
   "source": [
    "dtob <- function(n) {\n",
    "    if(n > 1) {\n",
    "    dtob(as.integer(n/2))\n",
    "    }\n",
    "    cat(n %% 2)\n",
    "}\n",
    "dtob(52)"
   ]
  },
  {
   "cell_type": "code",
   "execution_count": 40,
   "metadata": {},
   "outputs": [
    {
     "data": {
      "text/html": [
       "120"
      ],
      "text/latex": [
       "120"
      ],
      "text/markdown": [
       "120"
      ],
      "text/plain": [
       "[1] 120"
      ]
     },
     "metadata": {},
     "output_type": "display_data"
    }
   ],
   "source": [
    "fact = 1\n",
    "factorial <- function(n){\n",
    "    if(n==0) return(1)\n",
    "    return(factorial(n-1)*n)\n",
    "}\n",
    "factorial(5)"
   ]
  },
  {
   "cell_type": "code",
   "execution_count": 43,
   "metadata": {},
   "outputs": [
    {
     "data": {
      "text/html": [
       "385"
      ],
      "text/latex": [
       "385"
      ],
      "text/markdown": [
       "385"
      ],
      "text/plain": [
       "[1] 385"
      ]
     },
     "metadata": {},
     "output_type": "display_data"
    }
   ],
   "source": [
    "sumofs <- function(n){\n",
    "    if(n==0) return(0)\n",
    "    return(sumofs(n-1)+n**2)\n",
    "}\n",
    "sumofs(10)"
   ]
  },
  {
   "cell_type": "code",
   "execution_count": 55,
   "metadata": {},
   "outputs": [
    {
     "name": "stdin",
     "output_type": "stream",
     "text": [
      " 1 2 3 4 5\n"
     ]
    },
    {
     "name": "stdout",
     "output_type": "stream",
     "text": [
      "[1] 15\n",
      "[1] 3\n",
      "[1] 1.58\n"
     ]
    }
   ],
   "source": [
    "xx <- function(x){\n",
    "    sum = sum(x[1:5])\n",
    "    print(sum)\n",
    "    avg = sum/5\n",
    "    print(avg)\n",
    "    Si = round(sd(x[1:5]),2)\n",
    "    print(Si)\n",
    "}\n",
    "x <- readline()\n",
    "x <- strsplit(x,\" \")\n",
    "x <- as.integer(x[[1]])\n",
    "xx(x)"
   ]
  },
  {
   "cell_type": "markdown",
   "metadata": {},
   "source": [
    "# Questions"
   ]
  },
  {
   "cell_type": "code",
   "execution_count": 56,
   "metadata": {},
   "outputs": [
    {
     "data": {
      "text/html": [
       "<ol class=list-inline>\n",
       "\t<li>1</li>\n",
       "\t<li>3</li>\n",
       "\t<li>6</li>\n",
       "\t<li>10</li>\n",
       "\t<li>15</li>\n",
       "</ol>\n"
      ],
      "text/latex": [
       "\\begin{enumerate*}\n",
       "\\item 1\n",
       "\\item 3\n",
       "\\item 6\n",
       "\\item 10\n",
       "\\item 15\n",
       "\\end{enumerate*}\n"
      ],
      "text/markdown": [
       "1. 1\n",
       "2. 3\n",
       "3. 6\n",
       "4. 10\n",
       "5. 15\n",
       "\n",
       "\n"
      ],
      "text/plain": [
       "[1]  1  3  6 10 15"
      ]
     },
     "metadata": {},
     "output_type": "display_data"
    }
   ],
   "source": [
    "cumsum(c(1:5))"
   ]
  },
  {
   "cell_type": "code",
   "execution_count": 58,
   "metadata": {},
   "outputs": [
    {
     "data": {
      "text/html": [
       "<ol class=list-inline>\n",
       "\t<li>10</li>\n",
       "\t<li>9</li>\n",
       "\t<li>8</li>\n",
       "\t<li>7</li>\n",
       "\t<li>6</li>\n",
       "\t<li>5</li>\n",
       "\t<li>4</li>\n",
       "\t<li>3</li>\n",
       "\t<li>2</li>\n",
       "\t<li>1</li>\n",
       "</ol>\n"
      ],
      "text/latex": [
       "\\begin{enumerate*}\n",
       "\\item 10\n",
       "\\item 9\n",
       "\\item 8\n",
       "\\item 7\n",
       "\\item 6\n",
       "\\item 5\n",
       "\\item 4\n",
       "\\item 3\n",
       "\\item 2\n",
       "\\item 1\n",
       "\\end{enumerate*}\n"
      ],
      "text/markdown": [
       "1. 10\n",
       "2. 9\n",
       "3. 8\n",
       "4. 7\n",
       "5. 6\n",
       "6. 5\n",
       "7. 4\n",
       "8. 3\n",
       "9. 2\n",
       "10. 1\n",
       "\n",
       "\n"
      ],
      "text/plain": [
       " [1] 10  9  8  7  6  5  4  3  2  1"
      ]
     },
     "metadata": {},
     "output_type": "display_data"
    }
   ],
   "source": [
    "rev(c(1:10))"
   ]
  },
  {
   "cell_type": "code",
   "execution_count": 59,
   "metadata": {},
   "outputs": [
    {
     "data": {
      "text/html": [
       "<ol class=list-inline>\n",
       "\t<li>55</li>\n",
       "\t<li>45</li>\n",
       "\t<li>36</li>\n",
       "\t<li>28</li>\n",
       "\t<li>21</li>\n",
       "\t<li>15</li>\n",
       "\t<li>10</li>\n",
       "\t<li>6</li>\n",
       "\t<li>3</li>\n",
       "\t<li>1</li>\n",
       "</ol>\n"
      ],
      "text/latex": [
       "\\begin{enumerate*}\n",
       "\\item 55\n",
       "\\item 45\n",
       "\\item 36\n",
       "\\item 28\n",
       "\\item 21\n",
       "\\item 15\n",
       "\\item 10\n",
       "\\item 6\n",
       "\\item 3\n",
       "\\item 1\n",
       "\\end{enumerate*}\n"
      ],
      "text/markdown": [
       "1. 55\n",
       "2. 45\n",
       "3. 36\n",
       "4. 28\n",
       "5. 21\n",
       "6. 15\n",
       "7. 10\n",
       "8. 6\n",
       "9. 3\n",
       "10. 1\n",
       "\n",
       "\n"
      ],
      "text/plain": [
       " [1] 55 45 36 28 21 15 10  6  3  1"
      ]
     },
     "metadata": {},
     "output_type": "display_data"
    }
   ],
   "source": [
    "rev(cumsum(c(1:10)))"
   ]
  },
  {
   "cell_type": "code",
   "execution_count": 62,
   "metadata": {},
   "outputs": [
    {
     "data": {
      "text/html": [
       "<ol class=list-inline>\n",
       "\t<li>55</li>\n",
       "\t<li>33</li>\n",
       "\t<li>63</li>\n",
       "\t<li>66</li>\n",
       "\t<li>7</li>\n",
       "\t<li>88</li>\n",
       "\t<li>95</li>\n",
       "\t<li>58</li>\n",
       "\t<li>53</li>\n",
       "\t<li>86</li>\n",
       "</ol>\n"
      ],
      "text/latex": [
       "\\begin{enumerate*}\n",
       "\\item 55\n",
       "\\item 33\n",
       "\\item 63\n",
       "\\item 66\n",
       "\\item 7\n",
       "\\item 88\n",
       "\\item 95\n",
       "\\item 58\n",
       "\\item 53\n",
       "\\item 86\n",
       "\\end{enumerate*}\n"
      ],
      "text/markdown": [
       "1. 55\n",
       "2. 33\n",
       "3. 63\n",
       "4. 66\n",
       "5. 7\n",
       "6. 88\n",
       "7. 95\n",
       "8. 58\n",
       "9. 53\n",
       "10. 86\n",
       "\n",
       "\n"
      ],
      "text/plain": [
       " [1] 55 33 63 66  7 88 95 58 53 86"
      ]
     },
     "metadata": {},
     "output_type": "display_data"
    }
   ],
   "source": [
    "sample(1:100,10)"
   ]
  },
  {
   "cell_type": "code",
   "execution_count": 63,
   "metadata": {},
   "outputs": [
    {
     "data": {
      "text/html": [
       "1"
      ],
      "text/latex": [
       "1"
      ],
      "text/markdown": [
       "1"
      ],
      "text/plain": [
       "[1] 1"
      ]
     },
     "metadata": {},
     "output_type": "display_data"
    }
   ],
   "source": [
    "log10(sqrt(100))"
   ]
  },
  {
   "cell_type": "markdown",
   "metadata": {},
   "source": [
    "### Static Functions\n"
   ]
  },
  {
   "cell_type": "code",
   "execution_count": 2,
   "metadata": {},
   "outputs": [],
   "source": [
    "x <- c(1:5)"
   ]
  },
  {
   "cell_type": "code",
   "execution_count": 3,
   "metadata": {},
   "outputs": [
    {
     "data": {
      "text/html": [
       "3"
      ],
      "text/latex": [
       "3"
      ],
      "text/markdown": [
       "3"
      ],
      "text/plain": [
       "[1] 3"
      ]
     },
     "metadata": {},
     "output_type": "display_data"
    }
   ],
   "source": [
    "mean(x)"
   ]
  },
  {
   "cell_type": "code",
   "execution_count": 4,
   "metadata": {},
   "outputs": [
    {
     "data": {
      "text/html": [
       "3"
      ],
      "text/latex": [
       "3"
      ],
      "text/markdown": [
       "3"
      ],
      "text/plain": [
       "[1] 3"
      ]
     },
     "metadata": {},
     "output_type": "display_data"
    }
   ],
   "source": [
    "median(x)"
   ]
  },
  {
   "cell_type": "code",
   "execution_count": 5,
   "metadata": {},
   "outputs": [
    {
     "data": {
      "text/html": [
       "2.5"
      ],
      "text/latex": [
       "2.5"
      ],
      "text/markdown": [
       "2.5"
      ],
      "text/plain": [
       "[1] 2.5"
      ]
     },
     "metadata": {},
     "output_type": "display_data"
    }
   ],
   "source": [
    "var(x)"
   ]
  },
  {
   "cell_type": "code",
   "execution_count": 6,
   "metadata": {},
   "outputs": [
    {
     "data": {
      "text/html": [
       "1.58113883008419"
      ],
      "text/latex": [
       "1.58113883008419"
      ],
      "text/markdown": [
       "1.58113883008419"
      ],
      "text/plain": [
       "[1] 1.581139"
      ]
     },
     "metadata": {},
     "output_type": "display_data"
    }
   ],
   "source": [
    "sd(x)"
   ]
  },
  {
   "cell_type": "code",
   "execution_count": 7,
   "metadata": {},
   "outputs": [
    {
     "data": {
      "text/html": [
       "<table>\n",
       "<tbody>\n",
       "\t<tr><td>-1.2649111</td></tr>\n",
       "\t<tr><td>-0.6324555</td></tr>\n",
       "\t<tr><td> 0.0000000</td></tr>\n",
       "\t<tr><td> 0.6324555</td></tr>\n",
       "\t<tr><td> 1.2649111</td></tr>\n",
       "</tbody>\n",
       "</table>\n"
      ],
      "text/latex": [
       "\\begin{tabular}{l}\n",
       "\t -1.2649111\\\\\n",
       "\t -0.6324555\\\\\n",
       "\t  0.0000000\\\\\n",
       "\t  0.6324555\\\\\n",
       "\t  1.2649111\\\\\n",
       "\\end{tabular}\n"
      ],
      "text/markdown": [
       "\n",
       "| -1.2649111 |\n",
       "| -0.6324555 |\n",
       "|  0.0000000 |\n",
       "|  0.6324555 |\n",
       "|  1.2649111 |\n",
       "\n"
      ],
      "text/plain": [
       "     [,1]      \n",
       "[1,] -1.2649111\n",
       "[2,] -0.6324555\n",
       "[3,]  0.0000000\n",
       "[4,]  0.6324555\n",
       "[5,]  1.2649111"
      ]
     },
     "metadata": {},
     "output_type": "display_data"
    }
   ],
   "source": [
    "scale(x)"
   ]
  },
  {
   "cell_type": "code",
   "execution_count": 10,
   "metadata": {},
   "outputs": [
    {
     "data": {
      "text/plain": [
       "   Min. 1st Qu.  Median    Mean 3rd Qu.    Max. \n",
       "      1       2       3       3       4       5 "
      ]
     },
     "metadata": {},
     "output_type": "display_data"
    }
   ],
   "source": [
    "summary(x)"
   ]
  },
  {
   "cell_type": "code",
   "execution_count": 11,
   "metadata": {},
   "outputs": [
    {
     "data": {
      "text/html": [
       "<ol class=list-inline>\n",
       "\t<li>1</li>\n",
       "\t<li>2</li>\n",
       "\t<li>3</li>\n",
       "\t<li>4</li>\n",
       "\t<li>5</li>\n",
       "</ol>\n"
      ],
      "text/latex": [
       "\\begin{enumerate*}\n",
       "\\item 1\n",
       "\\item 2\n",
       "\\item 3\n",
       "\\item 4\n",
       "\\item 5\n",
       "\\end{enumerate*}\n"
      ],
      "text/markdown": [
       "1. 1\n",
       "2. 2\n",
       "3. 3\n",
       "4. 4\n",
       "5. 5\n",
       "\n",
       "\n"
      ],
      "text/plain": [
       "[1] 1 2 3 4 5"
      ]
     },
     "metadata": {},
     "output_type": "display_data"
    }
   ],
   "source": [
    "rank(x)"
   ]
  },
  {
   "cell_type": "code",
   "execution_count": 12,
   "metadata": {},
   "outputs": [
    {
     "data": {
      "text/html": [
       "<dl class=dl-horizontal>\n",
       "\t<dt>0%</dt>\n",
       "\t\t<dd>1</dd>\n",
       "\t<dt>25%</dt>\n",
       "\t\t<dd>2</dd>\n",
       "\t<dt>50%</dt>\n",
       "\t\t<dd>3</dd>\n",
       "\t<dt>75%</dt>\n",
       "\t\t<dd>4</dd>\n",
       "\t<dt>100%</dt>\n",
       "\t\t<dd>5</dd>\n",
       "</dl>\n"
      ],
      "text/latex": [
       "\\begin{description*}\n",
       "\\item[0\\textbackslash{}\\%] 1\n",
       "\\item[25\\textbackslash{}\\%] 2\n",
       "\\item[50\\textbackslash{}\\%] 3\n",
       "\\item[75\\textbackslash{}\\%] 4\n",
       "\\item[100\\textbackslash{}\\%] 5\n",
       "\\end{description*}\n"
      ],
      "text/markdown": [
       "0%\n",
       ":   125%\n",
       ":   250%\n",
       ":   375%\n",
       ":   4100%\n",
       ":   5\n",
       "\n"
      ],
      "text/plain": [
       "  0%  25%  50%  75% 100% \n",
       "   1    2    3    4    5 "
      ]
     },
     "metadata": {},
     "output_type": "display_data"
    }
   ],
   "source": [
    "quantile(x)"
   ]
  },
  {
   "cell_type": "code",
   "execution_count": null,
   "metadata": {},
   "outputs": [],
   "source": []
  },
  {
   "cell_type": "markdown",
   "metadata": {},
   "source": [
    "# 1806554 Ganesh Bhandarkar Lab 5"
   ]
  },
  {
   "cell_type": "code",
   "execution_count": 1,
   "metadata": {},
   "outputs": [],
   "source": [
    "height <- c(132,151,162,139,166,147,122) \n",
    "weight <- c(48,49,66,53,67,52,40) \n",
    "gender<- c(\"male\",\"male\",\"female\",\"female\",\"male\",\"female\",\"male\")"
   ]
  },
  {
   "cell_type": "code",
   "execution_count": 6,
   "metadata": {},
   "outputs": [
    {
     "name": "stdout",
     "output_type": "stream",
     "text": [
      "  height weight gender\n",
      "1    132     48   male\n",
      "2    151     49   male\n",
      "3    162     66 female\n",
      "4    139     53 female\n",
      "5    166     67   male\n",
      "6    147     52 female\n",
      "7    122     40   male\n",
      "[1] TRUE\n",
      "[1] male   male   female female male   female male  \n",
      "Levels: female male\n"
     ]
    }
   ],
   "source": [
    "input_data <- data.frame(height,weight,gender)\n",
    "print(input_data)\n",
    "print(is.factor(input_data$gender)) \n",
    "print(input_data$gender)"
   ]
  },
  {
   "cell_type": "markdown",
   "metadata": {},
   "source": [
    "### Questions "
   ]
  },
  {
   "cell_type": "code",
   "execution_count": 32,
   "metadata": {},
   "outputs": [
    {
     "name": "stdout",
     "output_type": "stream",
     "text": [
      "[1] \"Details of the Players:\"\n",
      "       Name Num Age      Profession Grade\n",
      "1       Tom   1  23          Golfer     A\n",
      "2     Jerry   2  22        Crickter     A\n",
      "3 Spiderman   3  25    Chess Player     B\n",
      "4    Batman   4  26   Tennis Player     O\n",
      "5   Aquaman   5  32 HandBall Player     C\n"
     ]
    }
   ],
   "source": [
    "Players = data.frame(Name=c(\"Tom\",\"Jerry\",\"Spiderman\", \"Batman\",\"Aquaman\"),\n",
    "                      Num=c(\"1\",\"2\",\"3\",\"4\",\"5\"),\n",
    "                      Age=c(23,22,25,26,32),\n",
    "                      Profession=c(\"Golfer\",\"Crickter\",\"Chess Player\",\"Tennis Player\",\"HandBall Player\"),\n",
    "                      Grade=c(\"A\",\"A\",\"B\",\"O\",\"C\")\n",
    "                      )\n",
    "print(\"Details of the Players:\")                      \n",
    "print(Players)"
   ]
  },
  {
   "cell_type": "code",
   "execution_count": 33,
   "metadata": {},
   "outputs": [
    {
     "name": "stdout",
     "output_type": "stream",
     "text": [
      "[1] Tom       Jerry     Spiderman Batman    Aquaman  \n",
      "Levels: Aquaman Batman Jerry Spiderman Tom\n"
     ]
    }
   ],
   "source": [
    "print(Players$Name)\n"
   ]
  },
  {
   "cell_type": "code",
   "execution_count": 34,
   "metadata": {},
   "outputs": [
    {
     "name": "stdout",
     "output_type": "stream",
     "text": [
      "[1] A A B O C\n",
      "Levels: A B C O\n"
     ]
    }
   ],
   "source": [
    "print(Players$Grade)"
   ]
  },
  {
   "cell_type": "code",
   "execution_count": 35,
   "metadata": {},
   "outputs": [
    {
     "name": "stdout",
     "output_type": "stream",
     "text": [
      "       Name Num Age   Profession Grade\n",
      "1       Tom   1  23       Golfer     A\n",
      "2     Jerry   2  22     Crickter     A\n",
      "3 Spiderman   3  25 Chess Player     B\n"
     ]
    }
   ],
   "source": [
    "print(head(Players,3))"
   ]
  },
  {
   "cell_type": "code",
   "execution_count": 36,
   "metadata": {},
   "outputs": [
    {
     "name": "stdout",
     "output_type": "stream",
     "text": [
      "     Name Age\n",
      "2   Jerry  22\n",
      "5 Aquaman  32\n"
     ]
    }
   ],
   "source": [
    "print(Players[c(2,5),c(1,3)])"
   ]
  },
  {
   "cell_type": "code",
   "execution_count": null,
   "metadata": {},
   "outputs": [],
   "source": []
  },
  {
   "cell_type": "markdown",
   "metadata": {},
   "source": [
    "# 1806554 Ganesh Bhandarkar Lab 6"
   ]
  },
  {
   "cell_type": "code",
   "execution_count": 50,
   "metadata": {},
   "outputs": [],
   "source": [
    "data <- read.csv(\"students.csv\",nrows = 8)"
   ]
  },
  {
   "cell_type": "code",
   "execution_count": 51,
   "metadata": {},
   "outputs": [
    {
     "data": {
      "text/html": [
       "<table>\n",
       "<thead><tr><th scope=col>roll</th><th scope=col>name</th><th scope=col>doa</th><th scope=col>per</th><th scope=col>branch</th></tr></thead>\n",
       "<tbody>\n",
       "\t<tr><td>1         </td><td>Rick      </td><td>6-2-14    </td><td>91        </td><td>IT        </td></tr>\n",
       "\t<tr><td>2         </td><td>Dan       </td><td>6-4-15    </td><td>90        </td><td>Operations</td></tr>\n",
       "\t<tr><td>3         </td><td>Michelle  </td><td>5-4-12    </td><td>72        </td><td>IT        </td></tr>\n",
       "\t<tr><td>4         </td><td>Ryan      </td><td>19-4-17   </td><td>76        </td><td>HR        </td></tr>\n",
       "\t<tr><td>5         </td><td>Gary      </td><td>20-5-17   </td><td>98        </td><td>Finance   </td></tr>\n",
       "\t<tr><td>6         </td><td>Nina      </td><td>21-10-17  </td><td>81        </td><td>IT        </td></tr>\n",
       "\t<tr><td>7         </td><td>Simon     </td><td>2-2-12    </td><td>83        </td><td>Operations</td></tr>\n",
       "\t<tr><td>8         </td><td>Guru      </td><td>31-1-17   </td><td>89        </td><td>CSE       </td></tr>\n",
       "</tbody>\n",
       "</table>\n"
      ],
      "text/latex": [
       "\\begin{tabular}{r|lllll}\n",
       " roll & name & doa & per & branch\\\\\n",
       "\\hline\n",
       "\t 1          & Rick       & 6-2-14     & 91         & IT        \\\\\n",
       "\t 2          & Dan        & 6-4-15     & 90         & Operations\\\\\n",
       "\t 3          & Michelle   & 5-4-12     & 72         & IT        \\\\\n",
       "\t 4          & Ryan       & 19-4-17    & 76         & HR        \\\\\n",
       "\t 5          & Gary       & 20-5-17    & 98         & Finance   \\\\\n",
       "\t 6          & Nina       & 21-10-17   & 81         & IT        \\\\\n",
       "\t 7          & Simon      & 2-2-12     & 83         & Operations\\\\\n",
       "\t 8          & Guru       & 31-1-17    & 89         & CSE       \\\\\n",
       "\\end{tabular}\n"
      ],
      "text/markdown": [
       "\n",
       "| roll | name | doa | per | branch |\n",
       "|---|---|---|---|---|\n",
       "| 1          | Rick       | 6-2-14     | 91         | IT         |\n",
       "| 2          | Dan        | 6-4-15     | 90         | Operations |\n",
       "| 3          | Michelle   | 5-4-12     | 72         | IT         |\n",
       "| 4          | Ryan       | 19-4-17    | 76         | HR         |\n",
       "| 5          | Gary       | 20-5-17    | 98         | Finance    |\n",
       "| 6          | Nina       | 21-10-17   | 81         | IT         |\n",
       "| 7          | Simon      | 2-2-12     | 83         | Operations |\n",
       "| 8          | Guru       | 31-1-17    | 89         | CSE        |\n",
       "\n"
      ],
      "text/plain": [
       "  roll name     doa      per branch    \n",
       "1 1    Rick     6-2-14   91  IT        \n",
       "2 2    Dan      6-4-15   90  Operations\n",
       "3 3    Michelle 5-4-12   72  IT        \n",
       "4 4    Ryan     19-4-17  76  HR        \n",
       "5 5    Gary     20-5-17  98  Finance   \n",
       "6 6    Nina     21-10-17 81  IT        \n",
       "7 7    Simon    2-2-12   83  Operations\n",
       "8 8    Guru     31-1-17  89  CSE       "
      ]
     },
     "metadata": {},
     "output_type": "display_data"
    }
   ],
   "source": [
    "data"
   ]
  },
  {
   "cell_type": "code",
   "execution_count": 52,
   "metadata": {},
   "outputs": [
    {
     "name": "stdout",
     "output_type": "stream",
     "text": [
      "  roll name     doa per  branch\n",
      "5    5 Gary 20-5-17  98 Finance\n"
     ]
    }
   ],
   "source": [
    "retval <- subset(data, per == max(per))\n",
    "print(retval)"
   ]
  },
  {
   "cell_type": "code",
   "execution_count": 53,
   "metadata": {},
   "outputs": [
    {
     "name": "stdout",
     "output_type": "stream",
     "text": [
      "  roll     name      doa per branch\n",
      "1    1     Rick   6-2-14  91     IT\n",
      "3    3 Michelle   5-4-12  72     IT\n",
      "6    6     Nina 21-10-17  81     IT\n",
      "8    8     Guru  31-1-17  89    CSE\n"
     ]
    }
   ],
   "source": [
    "retval <- subset(data, branch == \"IT\" | branch == \"CSE\")\n",
    "print(retval)"
   ]
  },
  {
   "cell_type": "code",
   "execution_count": 54,
   "metadata": {},
   "outputs": [
    {
     "name": "stdout",
     "output_type": "stream",
     "text": [
      "  roll  name      doa per     branch\n",
      "1    1  Rick   6-2-14  91         IT\n",
      "2    2   Dan   6-4-15  90 Operations\n",
      "5    5  Gary  20-5-17  98    Finance\n",
      "6    6  Nina 21-10-17  81         IT\n",
      "7    7 Simon   2-2-12  83 Operations\n",
      "8    8  Guru  31-1-17  89        CSE\n"
     ]
    }
   ],
   "source": [
    "retval <- subset(data, per > 80)\n",
    "print(retval)"
   ]
  },
  {
   "cell_type": "code",
   "execution_count": 55,
   "metadata": {},
   "outputs": [
    {
     "name": "stdout",
     "output_type": "stream",
     "text": [
      "  roll     name      doa per     branch\n",
      "1    1     Rick   6-2-14  91         IT\n",
      "2    2      Dan   6-4-15  90 Operations\n",
      "3    3 Michelle   5-4-12  72         IT\n",
      "4    4     Ryan  19-4-17  76         HR\n",
      "5    5     Gary  20-5-17  98    Finance\n",
      "6    6     Nina 21-10-17  81         IT\n",
      "7    7    Simon   2-2-12  83 Operations\n",
      "8    8     Guru  31-1-17  89        CSE\n"
     ]
    }
   ],
   "source": [
    "retval <- subset(data, as.Date(doa) > as.Date(\"1-5-17\"))\n",
    "print(retval)"
   ]
  },
  {
   "cell_type": "code",
   "execution_count": 56,
   "metadata": {},
   "outputs": [
    {
     "name": "stderr",
     "output_type": "stream",
     "text": [
      "also installing the dependencies 'rJava', 'xlsxjars'\n",
      "\n"
     ]
    },
    {
     "name": "stdout",
     "output_type": "stream",
     "text": [
      "package 'rJava' successfully unpacked and MD5 sums checked\n",
      "package 'xlsxjars' successfully unpacked and MD5 sums checked\n",
      "package 'xlsx' successfully unpacked and MD5 sums checked\n",
      "\n",
      "The downloaded binary packages are in\n",
      "\tC:\\Users\\KIIT\\AppData\\Local\\Temp\\RtmpC4r8PH\\downloaded_packages\n"
     ]
    },
    {
     "name": "stderr",
     "output_type": "stream",
     "text": [
      "Warning message:\n",
      "\"package 'xlsx' was built under R version 3.6.3\""
     ]
    }
   ],
   "source": [
    "install.packages(\"xlsx\")\n",
    "library(\"xlsx\")"
   ]
  },
  {
   "cell_type": "code",
   "execution_count": 74,
   "metadata": {},
   "outputs": [
    {
     "data": {
      "text/html": [
       "<table>\n",
       "<thead><tr><th scope=col>roll</th><th scope=col>name</th><th scope=col>per</th><th scope=col>branch</th></tr></thead>\n",
       "<tbody>\n",
       "\t<tr><td>1         </td><td>Rick      </td><td>91        </td><td>IT        </td></tr>\n",
       "\t<tr><td>2         </td><td>Dan       </td><td>90        </td><td>Operations</td></tr>\n",
       "\t<tr><td>3         </td><td>Michelle  </td><td>72        </td><td>IT        </td></tr>\n",
       "\t<tr><td>4         </td><td>Ryan      </td><td>76        </td><td>HR        </td></tr>\n",
       "\t<tr><td>5         </td><td>Gary      </td><td>98        </td><td>Finance   </td></tr>\n",
       "\t<tr><td>6         </td><td>Nina      </td><td>81        </td><td>IT        </td></tr>\n",
       "\t<tr><td>7         </td><td>Simon     </td><td>83        </td><td>Operations</td></tr>\n",
       "\t<tr><td>8         </td><td>Guru      </td><td>89        </td><td>CSE       </td></tr>\n",
       "</tbody>\n",
       "</table>\n"
      ],
      "text/latex": [
       "\\begin{tabular}{r|llll}\n",
       " roll & name & per & branch\\\\\n",
       "\\hline\n",
       "\t 1          & Rick       & 91         & IT        \\\\\n",
       "\t 2          & Dan        & 90         & Operations\\\\\n",
       "\t 3          & Michelle   & 72         & IT        \\\\\n",
       "\t 4          & Ryan       & 76         & HR        \\\\\n",
       "\t 5          & Gary       & 98         & Finance   \\\\\n",
       "\t 6          & Nina       & 81         & IT        \\\\\n",
       "\t 7          & Simon      & 83         & Operations\\\\\n",
       "\t 8          & Guru       & 89         & CSE       \\\\\n",
       "\\end{tabular}\n"
      ],
      "text/markdown": [
       "\n",
       "| roll | name | per | branch |\n",
       "|---|---|---|---|\n",
       "| 1          | Rick       | 91         | IT         |\n",
       "| 2          | Dan        | 90         | Operations |\n",
       "| 3          | Michelle   | 72         | IT         |\n",
       "| 4          | Ryan       | 76         | HR         |\n",
       "| 5          | Gary       | 98         | Finance    |\n",
       "| 6          | Nina       | 81         | IT         |\n",
       "| 7          | Simon      | 83         | Operations |\n",
       "| 8          | Guru       | 89         | CSE        |\n",
       "\n"
      ],
      "text/plain": [
       "  roll name     per branch    \n",
       "1 1    Rick     91  IT        \n",
       "2 2    Dan      90  Operations\n",
       "3 3    Michelle 72  IT        \n",
       "4 4    Ryan     76  HR        \n",
       "5 5    Gary     98  Finance   \n",
       "6 6    Nina     81  IT        \n",
       "7 7    Simon    83  Operations\n",
       "8 8    Guru     89  CSE       "
      ]
     },
     "metadata": {},
     "output_type": "display_data"
    }
   ],
   "source": [
    "library(xlsx)\n",
    "res1 <- read.xlsx2('C:/Users/KIIT/Documents/College-Stuff/DA Lab/student.xlsx', 1)\n",
    "res1"
   ]
  },
  {
   "cell_type": "code",
   "execution_count": 75,
   "metadata": {},
   "outputs": [
    {
     "data": {
      "text/html": [
       "<table>\n",
       "<thead><tr><th scope=col>name</th><th scope=col>doa</th></tr></thead>\n",
       "<tbody>\n",
       "\t<tr><td>Rick    </td><td>6-2-14  </td></tr>\n",
       "\t<tr><td>Dan     </td><td>6-4-15  </td></tr>\n",
       "\t<tr><td>Michelle</td><td>5-4-12  </td></tr>\n",
       "\t<tr><td>Ryan    </td><td>19-4-17 </td></tr>\n",
       "\t<tr><td>Gary    </td><td>20-5-17 </td></tr>\n",
       "\t<tr><td>Nina    </td><td>21-10-17</td></tr>\n",
       "\t<tr><td>Simon   </td><td>2-2-12  </td></tr>\n",
       "\t<tr><td>Guru    </td><td>31-1-17 </td></tr>\n",
       "</tbody>\n",
       "</table>\n"
      ],
      "text/latex": [
       "\\begin{tabular}{r|ll}\n",
       " name & doa\\\\\n",
       "\\hline\n",
       "\t Rick     & 6-2-14  \\\\\n",
       "\t Dan      & 6-4-15  \\\\\n",
       "\t Michelle & 5-4-12  \\\\\n",
       "\t Ryan     & 19-4-17 \\\\\n",
       "\t Gary     & 20-5-17 \\\\\n",
       "\t Nina     & 21-10-17\\\\\n",
       "\t Simon    & 2-2-12  \\\\\n",
       "\t Guru     & 31-1-17 \\\\\n",
       "\\end{tabular}\n"
      ],
      "text/markdown": [
       "\n",
       "| name | doa |\n",
       "|---|---|\n",
       "| Rick     | 6-2-14   |\n",
       "| Dan      | 6-4-15   |\n",
       "| Michelle | 5-4-12   |\n",
       "| Ryan     | 19-4-17  |\n",
       "| Gary     | 20-5-17  |\n",
       "| Nina     | 21-10-17 |\n",
       "| Simon    | 2-2-12   |\n",
       "| Guru     | 31-1-17  |\n",
       "\n"
      ],
      "text/plain": [
       "  name     doa     \n",
       "1 Rick     6-2-14  \n",
       "2 Dan      6-4-15  \n",
       "3 Michelle 5-4-12  \n",
       "4 Ryan     19-4-17 \n",
       "5 Gary     20-5-17 \n",
       "6 Nina     21-10-17\n",
       "7 Simon    2-2-12  \n",
       "8 Guru     31-1-17 "
      ]
     },
     "metadata": {},
     "output_type": "display_data"
    }
   ],
   "source": [
    "res2 <-read.xlsx2('C:/Users/KIIT/Documents/College-Stuff/DA Lab/student.xlsx', 2)\n",
    "res2"
   ]
  },
  {
   "cell_type": "code",
   "execution_count": 85,
   "metadata": {},
   "outputs": [],
   "source": [
    "library(readxl)\n",
    "library(tidyverse)\n",
    "setwd(\"C:/Users/KIIT/Documents/College-Stuff/DA Lab/\") ###set your working directory where your data resides\n",
    "sheet = excel_sheets(\"student.xlsx\")\n",
    "df = lapply(setNames(sheet, sheet), function(x) read_excel(\"student.xlsx\", sheet=x))\n",
    "df = bind_rows(df, .id=\"Sheet\")"
   ]
  },
  {
   "cell_type": "code",
   "execution_count": 84,
   "metadata": {},
   "outputs": [
    {
     "name": "stderr",
     "output_type": "stream",
     "text": [
      "Warning message:\n",
      "\"package 'readxl' is in use and will not be installed\""
     ]
    }
   ],
   "source": [
    "install.packages(\"readxl\")\n",
    "library(readxl)"
   ]
  },
  {
   "cell_type": "code",
   "execution_count": 86,
   "metadata": {},
   "outputs": [
    {
     "data": {
      "text/html": [
       "<table>\n",
       "<thead><tr><th scope=col>Sheet</th><th scope=col>roll</th><th scope=col>name</th><th scope=col>per</th><th scope=col>branch</th><th scope=col>doa</th></tr></thead>\n",
       "<tbody>\n",
       "\t<tr><td>Sheet1    </td><td> 1        </td><td>Rick      </td><td>91        </td><td>IT        </td><td>NA        </td></tr>\n",
       "\t<tr><td>Sheet1    </td><td> 2        </td><td>Dan       </td><td>90        </td><td>Operations</td><td>NA        </td></tr>\n",
       "\t<tr><td>Sheet1    </td><td> 3        </td><td>Michelle  </td><td>72        </td><td>IT        </td><td>NA        </td></tr>\n",
       "\t<tr><td>Sheet1    </td><td> 4        </td><td>Ryan      </td><td>76        </td><td>HR        </td><td>NA        </td></tr>\n",
       "\t<tr><td>Sheet1    </td><td> 5        </td><td>Gary      </td><td>98        </td><td>Finance   </td><td>NA        </td></tr>\n",
       "\t<tr><td>Sheet1    </td><td> 6        </td><td>Nina      </td><td>81        </td><td>IT        </td><td>NA        </td></tr>\n",
       "\t<tr><td>Sheet1    </td><td> 7        </td><td>Simon     </td><td>83        </td><td>Operations</td><td>NA        </td></tr>\n",
       "\t<tr><td>Sheet1    </td><td> 8        </td><td>Guru      </td><td>89        </td><td>CSE       </td><td>NA        </td></tr>\n",
       "\t<tr><td>Sheet2    </td><td>NA        </td><td>Rick      </td><td>NA        </td><td>NA        </td><td>6-2-14    </td></tr>\n",
       "\t<tr><td>Sheet2    </td><td>NA        </td><td>Dan       </td><td>NA        </td><td>NA        </td><td>6-4-15    </td></tr>\n",
       "\t<tr><td>Sheet2    </td><td>NA        </td><td>Michelle  </td><td>NA        </td><td>NA        </td><td>5-4-12    </td></tr>\n",
       "\t<tr><td>Sheet2    </td><td>NA        </td><td>Ryan      </td><td>NA        </td><td>NA        </td><td>19-4-17   </td></tr>\n",
       "\t<tr><td>Sheet2    </td><td>NA        </td><td>Gary      </td><td>NA        </td><td>NA        </td><td>20-5-17   </td></tr>\n",
       "\t<tr><td>Sheet2    </td><td>NA        </td><td>Nina      </td><td>NA        </td><td>NA        </td><td>21-10-17  </td></tr>\n",
       "\t<tr><td>Sheet2    </td><td>NA        </td><td>Simon     </td><td>NA        </td><td>NA        </td><td>2-2-12    </td></tr>\n",
       "\t<tr><td>Sheet2    </td><td>NA        </td><td>Guru      </td><td>NA        </td><td>NA        </td><td>31-1-17   </td></tr>\n",
       "</tbody>\n",
       "</table>\n"
      ],
      "text/latex": [
       "\\begin{tabular}{r|llllll}\n",
       " Sheet & roll & name & per & branch & doa\\\\\n",
       "\\hline\n",
       "\t Sheet1     &  1         & Rick       & 91         & IT         & NA        \\\\\n",
       "\t Sheet1     &  2         & Dan        & 90         & Operations & NA        \\\\\n",
       "\t Sheet1     &  3         & Michelle   & 72         & IT         & NA        \\\\\n",
       "\t Sheet1     &  4         & Ryan       & 76         & HR         & NA        \\\\\n",
       "\t Sheet1     &  5         & Gary       & 98         & Finance    & NA        \\\\\n",
       "\t Sheet1     &  6         & Nina       & 81         & IT         & NA        \\\\\n",
       "\t Sheet1     &  7         & Simon      & 83         & Operations & NA        \\\\\n",
       "\t Sheet1     &  8         & Guru       & 89         & CSE        & NA        \\\\\n",
       "\t Sheet2     & NA         & Rick       & NA         & NA         & 6-2-14    \\\\\n",
       "\t Sheet2     & NA         & Dan        & NA         & NA         & 6-4-15    \\\\\n",
       "\t Sheet2     & NA         & Michelle   & NA         & NA         & 5-4-12    \\\\\n",
       "\t Sheet2     & NA         & Ryan       & NA         & NA         & 19-4-17   \\\\\n",
       "\t Sheet2     & NA         & Gary       & NA         & NA         & 20-5-17   \\\\\n",
       "\t Sheet2     & NA         & Nina       & NA         & NA         & 21-10-17  \\\\\n",
       "\t Sheet2     & NA         & Simon      & NA         & NA         & 2-2-12    \\\\\n",
       "\t Sheet2     & NA         & Guru       & NA         & NA         & 31-1-17   \\\\\n",
       "\\end{tabular}\n"
      ],
      "text/markdown": [
       "\n",
       "| Sheet | roll | name | per | branch | doa |\n",
       "|---|---|---|---|---|---|\n",
       "| Sheet1     |  1         | Rick       | 91         | IT         | NA         |\n",
       "| Sheet1     |  2         | Dan        | 90         | Operations | NA         |\n",
       "| Sheet1     |  3         | Michelle   | 72         | IT         | NA         |\n",
       "| Sheet1     |  4         | Ryan       | 76         | HR         | NA         |\n",
       "| Sheet1     |  5         | Gary       | 98         | Finance    | NA         |\n",
       "| Sheet1     |  6         | Nina       | 81         | IT         | NA         |\n",
       "| Sheet1     |  7         | Simon      | 83         | Operations | NA         |\n",
       "| Sheet1     |  8         | Guru       | 89         | CSE        | NA         |\n",
       "| Sheet2     | NA         | Rick       | NA         | NA         | 6-2-14     |\n",
       "| Sheet2     | NA         | Dan        | NA         | NA         | 6-4-15     |\n",
       "| Sheet2     | NA         | Michelle   | NA         | NA         | 5-4-12     |\n",
       "| Sheet2     | NA         | Ryan       | NA         | NA         | 19-4-17    |\n",
       "| Sheet2     | NA         | Gary       | NA         | NA         | 20-5-17    |\n",
       "| Sheet2     | NA         | Nina       | NA         | NA         | 21-10-17   |\n",
       "| Sheet2     | NA         | Simon      | NA         | NA         | 2-2-12     |\n",
       "| Sheet2     | NA         | Guru       | NA         | NA         | 31-1-17    |\n",
       "\n"
      ],
      "text/plain": [
       "   Sheet  roll name     per branch     doa     \n",
       "1  Sheet1  1   Rick     91  IT         NA      \n",
       "2  Sheet1  2   Dan      90  Operations NA      \n",
       "3  Sheet1  3   Michelle 72  IT         NA      \n",
       "4  Sheet1  4   Ryan     76  HR         NA      \n",
       "5  Sheet1  5   Gary     98  Finance    NA      \n",
       "6  Sheet1  6   Nina     81  IT         NA      \n",
       "7  Sheet1  7   Simon    83  Operations NA      \n",
       "8  Sheet1  8   Guru     89  CSE        NA      \n",
       "9  Sheet2 NA   Rick     NA  NA         6-2-14  \n",
       "10 Sheet2 NA   Dan      NA  NA         6-4-15  \n",
       "11 Sheet2 NA   Michelle NA  NA         5-4-12  \n",
       "12 Sheet2 NA   Ryan     NA  NA         19-4-17 \n",
       "13 Sheet2 NA   Gary     NA  NA         20-5-17 \n",
       "14 Sheet2 NA   Nina     NA  NA         21-10-17\n",
       "15 Sheet2 NA   Simon    NA  NA         2-2-12  \n",
       "16 Sheet2 NA   Guru     NA  NA         31-1-17 "
      ]
     },
     "metadata": {},
     "output_type": "display_data"
    }
   ],
   "source": [
    "df"
   ]
  },
  {
   "cell_type": "code",
   "execution_count": 91,
   "metadata": {},
   "outputs": [
    {
     "ename": "ERROR",
     "evalue": "Error in do.call(rbind, df.list): object 'df.list' not found\n",
     "output_type": "error",
     "traceback": [
      "Error in do.call(rbind, df.list): object 'df.list' not found\nTraceback:\n",
      "1. do.call(rbind, df.list)"
     ]
    }
   ],
   "source": [
    "library(xlsx)\n",
    "df = do.call(rbind, df.list)\n",
    "write.xlsx(df, \"combinedData.xlsx\", sheetName=\"finaldata\", row.names=FALSE)"
   ]
  },
  {
   "cell_type": "code",
   "execution_count": null,
   "metadata": {},
   "outputs": [],
   "source": []
  },
  {
   "cell_type": "markdown",
   "metadata": {},
   "source": [
    "# 1806554 Ganesh Bhandarkar Lab 7"
   ]
  },
  {
   "cell_type": "code",
   "execution_count": 2,
   "metadata": {},
   "outputs": [
    {
     "name": "stdin",
     "output_type": "stream",
     "text": [
      " 5\n"
     ]
    },
    {
     "name": "stdout",
     "output_type": "stream",
     "text": [
      "1  4  9  16  25  "
     ]
    }
   ],
   "source": [
    "x <- as.integer(readline())\n",
    "i = 1\n",
    "while(i<=x){\n",
    "    cat(i*i,\" \")\n",
    "    i = i + 1\n",
    "}"
   ]
  },
  {
   "cell_type": "code",
   "execution_count": 15,
   "metadata": {},
   "outputs": [
    {
     "name": "stdin",
     "output_type": "stream",
     "text": [
      " 212\n"
     ]
    },
    {
     "name": "stdout",
     "output_type": "stream",
     "text": [
      "palindrome\n"
     ]
    }
   ],
   "source": [
    "library(stringi)\n",
    "x <- readline()\n",
    "y <- stri_reverse(x)\n",
    "if(x == y){\n",
    "    cat(\"palindrome\\n\")\n",
    "}else{\n",
    "    cat(\"not Pal\")\n",
    "}"
   ]
  },
  {
   "cell_type": "code",
   "execution_count": 23,
   "metadata": {},
   "outputs": [
    {
     "name": "stdin",
     "output_type": "stream",
     "text": [
      " 2\n",
      " 3\n"
     ]
    },
    {
     "data": {
      "text/html": [
       "<ol>\n",
       "\t<li>6</li>\n",
       "\t<li>1</li>\n",
       "</ol>\n"
      ],
      "text/latex": [
       "\\begin{enumerate}\n",
       "\\item 6\n",
       "\\item 1\n",
       "\\end{enumerate}\n"
      ],
      "text/markdown": [
       "1. 6\n",
       "2. 1\n",
       "\n",
       "\n"
      ],
      "text/plain": [
       "[[1]]\n",
       "[1] 6\n",
       "\n",
       "[[2]]\n",
       "[1] 1\n"
      ]
     },
     "metadata": {},
     "output_type": "display_data"
    }
   ],
   "source": [
    "hl <- function(x,y){\n",
    "    if(x > y) {\n",
    "        smaller = y\n",
    "    } else {\n",
    "        smaller = x\n",
    "    }\n",
    "    for(i in 1:smaller) {\n",
    "        if((x %% i == 0) && (y %% i == 0)) {\n",
    "            hcf = i\n",
    "        }\n",
    "    }\n",
    "    lcm = x*y/hcf\n",
    "    return(list(lcm,hcf))\n",
    "}\n",
    "x <- as.integer(readline())\n",
    "y <- as.integer(readline())\n",
    "hl(x,y)"
   ]
  },
  {
   "cell_type": "code",
   "execution_count": 24,
   "metadata": {},
   "outputs": [
    {
     "data": {
      "text/html": [
       "<table>\n",
       "<tbody>\n",
       "\t<tr><td>3 </td><td> 7</td><td>11</td></tr>\n",
       "\t<tr><td>4 </td><td> 8</td><td>12</td></tr>\n",
       "\t<tr><td>5 </td><td> 9</td><td>13</td></tr>\n",
       "\t<tr><td>6 </td><td>10</td><td>14</td></tr>\n",
       "</tbody>\n",
       "</table>\n"
      ],
      "text/latex": [
       "\\begin{tabular}{lll}\n",
       "\t 3  &  7 & 11\\\\\n",
       "\t 4  &  8 & 12\\\\\n",
       "\t 5  &  9 & 13\\\\\n",
       "\t 6  & 10 & 14\\\\\n",
       "\\end{tabular}\n"
      ],
      "text/markdown": [
       "\n",
       "| 3  |  7 | 11 |\n",
       "| 4  |  8 | 12 |\n",
       "| 5  |  9 | 13 |\n",
       "| 6  | 10 | 14 |\n",
       "\n"
      ],
      "text/plain": [
       "     [,1] [,2] [,3]\n",
       "[1,] 3     7   11  \n",
       "[2,] 4     8   12  \n",
       "[3,] 5     9   13  \n",
       "[4,] 6    10   14  "
      ]
     },
     "metadata": {},
     "output_type": "display_data"
    }
   ],
   "source": [
    "mat = matrix(c(3:14),nrow = 4, byrow = FALSE)\n",
    "mat"
   ]
  },
  {
   "cell_type": "code",
   "execution_count": 25,
   "metadata": {},
   "outputs": [
    {
     "data": {
      "text/html": [
       "<table>\n",
       "<tbody>\n",
       "\t<tr><td>0 </td><td> 7</td><td>11</td></tr>\n",
       "\t<tr><td>0 </td><td> 8</td><td>12</td></tr>\n",
       "\t<tr><td>5 </td><td> 9</td><td>13</td></tr>\n",
       "\t<tr><td>6 </td><td>10</td><td>14</td></tr>\n",
       "</tbody>\n",
       "</table>\n"
      ],
      "text/latex": [
       "\\begin{tabular}{lll}\n",
       "\t 0  &  7 & 11\\\\\n",
       "\t 0  &  8 & 12\\\\\n",
       "\t 5  &  9 & 13\\\\\n",
       "\t 6  & 10 & 14\\\\\n",
       "\\end{tabular}\n"
      ],
      "text/markdown": [
       "\n",
       "| 0  |  7 | 11 |\n",
       "| 0  |  8 | 12 |\n",
       "| 5  |  9 | 13 |\n",
       "| 6  | 10 | 14 |\n",
       "\n"
      ],
      "text/plain": [
       "     [,1] [,2] [,3]\n",
       "[1,] 0     7   11  \n",
       "[2,] 0     8   12  \n",
       "[3,] 5     9   13  \n",
       "[4,] 6    10   14  "
      ]
     },
     "metadata": {},
     "output_type": "display_data"
    }
   ],
   "source": [
    "for(row in 1:nrow(mat)) {\n",
    "    for(col in 1:ncol(mat)) {\n",
    "        if(mat[col] < 5){\n",
    "            mat[col] <- 0\n",
    "        }\n",
    "    }\n",
    "}\n",
    "mat"
   ]
  },
  {
   "cell_type": "code",
   "execution_count": 28,
   "metadata": {},
   "outputs": [
    {
     "data": {
      "text/html": [
       "'bcd'"
      ],
      "text/latex": [
       "'bcd'"
      ],
      "text/markdown": [
       "'bcd'"
      ],
      "text/plain": [
       "[1] \"bcd\""
      ]
     },
     "metadata": {},
     "output_type": "display_data"
    }
   ],
   "source": [
    "substr(\"abcdef\", 2, 4)"
   ]
  },
  {
   "cell_type": "code",
   "execution_count": 36,
   "metadata": {},
   "outputs": [
    {
     "data": {
      "text/html": [
       "<ol class=list-inline>\n",
       "\t<li>'abcd'</li>\n",
       "\t<li>'bcde'</li>\n",
       "\t<li>'cd'</li>\n",
       "\t<li>'de'</li>\n",
       "</ol>\n"
      ],
      "text/latex": [
       "\\begin{enumerate*}\n",
       "\\item 'abcd'\n",
       "\\item 'bcde'\n",
       "\\item 'cd'\n",
       "\\item 'de'\n",
       "\\end{enumerate*}\n"
      ],
      "text/markdown": [
       "1. 'abcd'\n",
       "2. 'bcde'\n",
       "3. 'cd'\n",
       "4. 'de'\n",
       "\n",
       "\n"
      ],
      "text/plain": [
       "[1] \"abcd\" \"bcde\" \"cd\"   \"de\"  "
      ]
     },
     "metadata": {},
     "output_type": "display_data"
    }
   ],
   "source": [
    "substr(rep(\"abcdef\", 4), 1:4, 4:5)"
   ]
  },
  {
   "cell_type": "code",
   "execution_count": 37,
   "metadata": {},
   "outputs": [
    {
     "name": "stdout",
     "output_type": "stream",
     "text": [
      "package 'stringr' successfully unpacked and MD5 sums checked\n",
      "\n",
      "The downloaded binary packages are in\n",
      "\tC:\\Users\\KIIT\\AppData\\Local\\Temp\\Rtmp0sUiF7\\downloaded_packages\n"
     ]
    }
   ],
   "source": [
    "install.packages(\"stringr\")"
   ]
  },
  {
   "cell_type": "code",
   "execution_count": 42,
   "metadata": {},
   "outputs": [],
   "source": [
    "x <- c(\"whxyz\")"
   ]
  },
  {
   "cell_type": "code",
   "execution_count": 45,
   "metadata": {},
   "outputs": [
    {
     "name": "stdout",
     "output_type": "stream",
     "text": [
      "wh???"
     ]
    }
   ],
   "source": [
    "library(stringr)\n",
    "pos <- str_replace(x, \"xyz\", \"???\") \n",
    "cat(pos)"
   ]
  },
  {
   "cell_type": "code",
   "execution_count": null,
   "metadata": {},
   "outputs": [],
   "source": []
  },
  {
   "cell_type": "markdown",
   "metadata": {},
   "source": [
    "# 1806554 Ganesh Bhandarkar Lab 8"
   ]
  },
  {
   "cell_type": "code",
   "execution_count": 50,
   "metadata": {},
   "outputs": [],
   "source": [
    "data <- read.csv(\"students.csv\",nrows = 8)"
   ]
  },
  {
   "cell_type": "code",
   "execution_count": 51,
   "metadata": {},
   "outputs": [
    {
     "data": {
      "text/html": [
       "<table>\n",
       "<thead><tr><th scope=col>roll</th><th scope=col>name</th><th scope=col>doa</th><th scope=col>per</th><th scope=col>branch</th></tr></thead>\n",
       "<tbody>\n",
       "\t<tr><td>1         </td><td>Rick      </td><td>6-2-14    </td><td>91        </td><td>IT        </td></tr>\n",
       "\t<tr><td>2         </td><td>Dan       </td><td>6-4-15    </td><td>90        </td><td>Operations</td></tr>\n",
       "\t<tr><td>3         </td><td>Michelle  </td><td>5-4-12    </td><td>72        </td><td>IT        </td></tr>\n",
       "\t<tr><td>4         </td><td>Ryan      </td><td>19-4-17   </td><td>76        </td><td>HR        </td></tr>\n",
       "\t<tr><td>5         </td><td>Gary      </td><td>20-5-17   </td><td>98        </td><td>Finance   </td></tr>\n",
       "\t<tr><td>6         </td><td>Nina      </td><td>21-10-17  </td><td>81        </td><td>IT        </td></tr>\n",
       "\t<tr><td>7         </td><td>Simon     </td><td>2-2-12    </td><td>83        </td><td>Operations</td></tr>\n",
       "\t<tr><td>8         </td><td>Guru      </td><td>31-1-17   </td><td>89        </td><td>CSE       </td></tr>\n",
       "</tbody>\n",
       "</table>\n"
      ],
      "text/latex": [
       "\\begin{tabular}{r|lllll}\n",
       " roll & name & doa & per & branch\\\\\n",
       "\\hline\n",
       "\t 1          & Rick       & 6-2-14     & 91         & IT        \\\\\n",
       "\t 2          & Dan        & 6-4-15     & 90         & Operations\\\\\n",
       "\t 3          & Michelle   & 5-4-12     & 72         & IT        \\\\\n",
       "\t 4          & Ryan       & 19-4-17    & 76         & HR        \\\\\n",
       "\t 5          & Gary       & 20-5-17    & 98         & Finance   \\\\\n",
       "\t 6          & Nina       & 21-10-17   & 81         & IT        \\\\\n",
       "\t 7          & Simon      & 2-2-12     & 83         & Operations\\\\\n",
       "\t 8          & Guru       & 31-1-17    & 89         & CSE       \\\\\n",
       "\\end{tabular}\n"
      ],
      "text/markdown": [
       "\n",
       "| roll | name | doa | per | branch |\n",
       "|---|---|---|---|---|\n",
       "| 1          | Rick       | 6-2-14     | 91         | IT         |\n",
       "| 2          | Dan        | 6-4-15     | 90         | Operations |\n",
       "| 3          | Michelle   | 5-4-12     | 72         | IT         |\n",
       "| 4          | Ryan       | 19-4-17    | 76         | HR         |\n",
       "| 5          | Gary       | 20-5-17    | 98         | Finance    |\n",
       "| 6          | Nina       | 21-10-17   | 81         | IT         |\n",
       "| 7          | Simon      | 2-2-12     | 83         | Operations |\n",
       "| 8          | Guru       | 31-1-17    | 89         | CSE        |\n",
       "\n"
      ],
      "text/plain": [
       "  roll name     doa      per branch    \n",
       "1 1    Rick     6-2-14   91  IT        \n",
       "2 2    Dan      6-4-15   90  Operations\n",
       "3 3    Michelle 5-4-12   72  IT        \n",
       "4 4    Ryan     19-4-17  76  HR        \n",
       "5 5    Gary     20-5-17  98  Finance   \n",
       "6 6    Nina     21-10-17 81  IT        \n",
       "7 7    Simon    2-2-12   83  Operations\n",
       "8 8    Guru     31-1-17  89  CSE       "
      ]
     },
     "metadata": {},
     "output_type": "display_data"
    }
   ],
   "source": [
    "data"
   ]
  },
  {
   "cell_type": "code",
   "execution_count": 52,
   "metadata": {},
   "outputs": [
    {
     "name": "stdout",
     "output_type": "stream",
     "text": [
      "  roll name     doa per  branch\n",
      "5    5 Gary 20-5-17  98 Finance\n"
     ]
    }
   ],
   "source": [
    "retval <- subset(data, per == max(per))\n",
    "print(retval)"
   ]
  },
  {
   "cell_type": "code",
   "execution_count": 53,
   "metadata": {},
   "outputs": [
    {
     "name": "stdout",
     "output_type": "stream",
     "text": [
      "  roll     name      doa per branch\n",
      "1    1     Rick   6-2-14  91     IT\n",
      "3    3 Michelle   5-4-12  72     IT\n",
      "6    6     Nina 21-10-17  81     IT\n",
      "8    8     Guru  31-1-17  89    CSE\n"
     ]
    }
   ],
   "source": [
    "retval <- subset(data, branch == \"IT\" | branch == \"CSE\")\n",
    "print(retval)"
   ]
  },
  {
   "cell_type": "code",
   "execution_count": 54,
   "metadata": {},
   "outputs": [
    {
     "name": "stdout",
     "output_type": "stream",
     "text": [
      "  roll  name      doa per     branch\n",
      "1    1  Rick   6-2-14  91         IT\n",
      "2    2   Dan   6-4-15  90 Operations\n",
      "5    5  Gary  20-5-17  98    Finance\n",
      "6    6  Nina 21-10-17  81         IT\n",
      "7    7 Simon   2-2-12  83 Operations\n",
      "8    8  Guru  31-1-17  89        CSE\n"
     ]
    }
   ],
   "source": [
    "retval <- subset(data, per > 80)\n",
    "print(retval)"
   ]
  },
  {
   "cell_type": "code",
   "execution_count": 55,
   "metadata": {},
   "outputs": [
    {
     "name": "stdout",
     "output_type": "stream",
     "text": [
      "  roll     name      doa per     branch\n",
      "1    1     Rick   6-2-14  91         IT\n",
      "2    2      Dan   6-4-15  90 Operations\n",
      "3    3 Michelle   5-4-12  72         IT\n",
      "4    4     Ryan  19-4-17  76         HR\n",
      "5    5     Gary  20-5-17  98    Finance\n",
      "6    6     Nina 21-10-17  81         IT\n",
      "7    7    Simon   2-2-12  83 Operations\n",
      "8    8     Guru  31-1-17  89        CSE\n"
     ]
    }
   ],
   "source": [
    "retval <- subset(data, as.Date(doa) > as.Date(\"1-5-17\"))\n",
    "print(retval)"
   ]
  },
  {
   "cell_type": "code",
   "execution_count": 56,
   "metadata": {},
   "outputs": [
    {
     "name": "stderr",
     "output_type": "stream",
     "text": [
      "also installing the dependencies 'rJava', 'xlsxjars'\n",
      "\n"
     ]
    },
    {
     "name": "stdout",
     "output_type": "stream",
     "text": [
      "package 'rJava' successfully unpacked and MD5 sums checked\n",
      "package 'xlsxjars' successfully unpacked and MD5 sums checked\n",
      "package 'xlsx' successfully unpacked and MD5 sums checked\n",
      "\n",
      "The downloaded binary packages are in\n",
      "\tC:\\Users\\KIIT\\AppData\\Local\\Temp\\RtmpC4r8PH\\downloaded_packages\n"
     ]
    },
    {
     "name": "stderr",
     "output_type": "stream",
     "text": [
      "Warning message:\n",
      "\"package 'xlsx' was built under R version 3.6.3\""
     ]
    }
   ],
   "source": [
    "install.packages(\"xlsx\")\n",
    "library(\"xlsx\")"
   ]
  },
  {
   "cell_type": "code",
   "execution_count": 74,
   "metadata": {},
   "outputs": [
    {
     "data": {
      "text/html": [
       "<table>\n",
       "<thead><tr><th scope=col>roll</th><th scope=col>name</th><th scope=col>per</th><th scope=col>branch</th></tr></thead>\n",
       "<tbody>\n",
       "\t<tr><td>1         </td><td>Rick      </td><td>91        </td><td>IT        </td></tr>\n",
       "\t<tr><td>2         </td><td>Dan       </td><td>90        </td><td>Operations</td></tr>\n",
       "\t<tr><td>3         </td><td>Michelle  </td><td>72        </td><td>IT        </td></tr>\n",
       "\t<tr><td>4         </td><td>Ryan      </td><td>76        </td><td>HR        </td></tr>\n",
       "\t<tr><td>5         </td><td>Gary      </td><td>98        </td><td>Finance   </td></tr>\n",
       "\t<tr><td>6         </td><td>Nina      </td><td>81        </td><td>IT        </td></tr>\n",
       "\t<tr><td>7         </td><td>Simon     </td><td>83        </td><td>Operations</td></tr>\n",
       "\t<tr><td>8         </td><td>Guru      </td><td>89        </td><td>CSE       </td></tr>\n",
       "</tbody>\n",
       "</table>\n"
      ],
      "text/latex": [
       "\\begin{tabular}{r|llll}\n",
       " roll & name & per & branch\\\\\n",
       "\\hline\n",
       "\t 1          & Rick       & 91         & IT        \\\\\n",
       "\t 2          & Dan        & 90         & Operations\\\\\n",
       "\t 3          & Michelle   & 72         & IT        \\\\\n",
       "\t 4          & Ryan       & 76         & HR        \\\\\n",
       "\t 5          & Gary       & 98         & Finance   \\\\\n",
       "\t 6          & Nina       & 81         & IT        \\\\\n",
       "\t 7          & Simon      & 83         & Operations\\\\\n",
       "\t 8          & Guru       & 89         & CSE       \\\\\n",
       "\\end{tabular}\n"
      ],
      "text/markdown": [
       "\n",
       "| roll | name | per | branch |\n",
       "|---|---|---|---|\n",
       "| 1          | Rick       | 91         | IT         |\n",
       "| 2          | Dan        | 90         | Operations |\n",
       "| 3          | Michelle   | 72         | IT         |\n",
       "| 4          | Ryan       | 76         | HR         |\n",
       "| 5          | Gary       | 98         | Finance    |\n",
       "| 6          | Nina       | 81         | IT         |\n",
       "| 7          | Simon      | 83         | Operations |\n",
       "| 8          | Guru       | 89         | CSE        |\n",
       "\n"
      ],
      "text/plain": [
       "  roll name     per branch    \n",
       "1 1    Rick     91  IT        \n",
       "2 2    Dan      90  Operations\n",
       "3 3    Michelle 72  IT        \n",
       "4 4    Ryan     76  HR        \n",
       "5 5    Gary     98  Finance   \n",
       "6 6    Nina     81  IT        \n",
       "7 7    Simon    83  Operations\n",
       "8 8    Guru     89  CSE       "
      ]
     },
     "metadata": {},
     "output_type": "display_data"
    }
   ],
   "source": [
    "library(xlsx)\n",
    "res1 <- read.xlsx2('C:/Users/KIIT/Documents/College-Stuff/DA Lab/student.xlsx', 1)\n",
    "res1"
   ]
  },
  {
   "cell_type": "code",
   "execution_count": 75,
   "metadata": {},
   "outputs": [
    {
     "data": {
      "text/html": [
       "<table>\n",
       "<thead><tr><th scope=col>name</th><th scope=col>doa</th></tr></thead>\n",
       "<tbody>\n",
       "\t<tr><td>Rick    </td><td>6-2-14  </td></tr>\n",
       "\t<tr><td>Dan     </td><td>6-4-15  </td></tr>\n",
       "\t<tr><td>Michelle</td><td>5-4-12  </td></tr>\n",
       "\t<tr><td>Ryan    </td><td>19-4-17 </td></tr>\n",
       "\t<tr><td>Gary    </td><td>20-5-17 </td></tr>\n",
       "\t<tr><td>Nina    </td><td>21-10-17</td></tr>\n",
       "\t<tr><td>Simon   </td><td>2-2-12  </td></tr>\n",
       "\t<tr><td>Guru    </td><td>31-1-17 </td></tr>\n",
       "</tbody>\n",
       "</table>\n"
      ],
      "text/latex": [
       "\\begin{tabular}{r|ll}\n",
       " name & doa\\\\\n",
       "\\hline\n",
       "\t Rick     & 6-2-14  \\\\\n",
       "\t Dan      & 6-4-15  \\\\\n",
       "\t Michelle & 5-4-12  \\\\\n",
       "\t Ryan     & 19-4-17 \\\\\n",
       "\t Gary     & 20-5-17 \\\\\n",
       "\t Nina     & 21-10-17\\\\\n",
       "\t Simon    & 2-2-12  \\\\\n",
       "\t Guru     & 31-1-17 \\\\\n",
       "\\end{tabular}\n"
      ],
      "text/markdown": [
       "\n",
       "| name | doa |\n",
       "|---|---|\n",
       "| Rick     | 6-2-14   |\n",
       "| Dan      | 6-4-15   |\n",
       "| Michelle | 5-4-12   |\n",
       "| Ryan     | 19-4-17  |\n",
       "| Gary     | 20-5-17  |\n",
       "| Nina     | 21-10-17 |\n",
       "| Simon    | 2-2-12   |\n",
       "| Guru     | 31-1-17  |\n",
       "\n"
      ],
      "text/plain": [
       "  name     doa     \n",
       "1 Rick     6-2-14  \n",
       "2 Dan      6-4-15  \n",
       "3 Michelle 5-4-12  \n",
       "4 Ryan     19-4-17 \n",
       "5 Gary     20-5-17 \n",
       "6 Nina     21-10-17\n",
       "7 Simon    2-2-12  \n",
       "8 Guru     31-1-17 "
      ]
     },
     "metadata": {},
     "output_type": "display_data"
    }
   ],
   "source": [
    "res2 <-read.xlsx2('C:/Users/KIIT/Documents/College-Stuff/DA Lab/student.xlsx', 2)\n",
    "res2"
   ]
  },
  {
   "cell_type": "code",
   "execution_count": 85,
   "metadata": {},
   "outputs": [],
   "source": [
    "library(readxl)\n",
    "library(tidyverse)\n",
    "setwd(\"C:/Users/KIIT/Documents/College-Stuff/DA Lab/\") ###set your working directory where your data resides\n",
    "sheet = excel_sheets(\"student.xlsx\")\n",
    "df = lapply(setNames(sheet, sheet), function(x) read_excel(\"student.xlsx\", sheet=x))\n",
    "df = bind_rows(df, .id=\"Sheet\")"
   ]
  },
  {
   "cell_type": "code",
   "execution_count": 84,
   "metadata": {},
   "outputs": [
    {
     "name": "stderr",
     "output_type": "stream",
     "text": [
      "Warning message:\n",
      "\"package 'readxl' is in use and will not be installed\""
     ]
    }
   ],
   "source": [
    "install.packages(\"readxl\")\n",
    "library(readxl)"
   ]
  },
  {
   "cell_type": "code",
   "execution_count": 86,
   "metadata": {},
   "outputs": [
    {
     "data": {
      "text/html": [
       "<table>\n",
       "<thead><tr><th scope=col>Sheet</th><th scope=col>roll</th><th scope=col>name</th><th scope=col>per</th><th scope=col>branch</th><th scope=col>doa</th></tr></thead>\n",
       "<tbody>\n",
       "\t<tr><td>Sheet1    </td><td> 1        </td><td>Rick      </td><td>91        </td><td>IT        </td><td>NA        </td></tr>\n",
       "\t<tr><td>Sheet1    </td><td> 2        </td><td>Dan       </td><td>90        </td><td>Operations</td><td>NA        </td></tr>\n",
       "\t<tr><td>Sheet1    </td><td> 3        </td><td>Michelle  </td><td>72        </td><td>IT        </td><td>NA        </td></tr>\n",
       "\t<tr><td>Sheet1    </td><td> 4        </td><td>Ryan      </td><td>76        </td><td>HR        </td><td>NA        </td></tr>\n",
       "\t<tr><td>Sheet1    </td><td> 5        </td><td>Gary      </td><td>98        </td><td>Finance   </td><td>NA        </td></tr>\n",
       "\t<tr><td>Sheet1    </td><td> 6        </td><td>Nina      </td><td>81        </td><td>IT        </td><td>NA        </td></tr>\n",
       "\t<tr><td>Sheet1    </td><td> 7        </td><td>Simon     </td><td>83        </td><td>Operations</td><td>NA        </td></tr>\n",
       "\t<tr><td>Sheet1    </td><td> 8        </td><td>Guru      </td><td>89        </td><td>CSE       </td><td>NA        </td></tr>\n",
       "\t<tr><td>Sheet2    </td><td>NA        </td><td>Rick      </td><td>NA        </td><td>NA        </td><td>6-2-14    </td></tr>\n",
       "\t<tr><td>Sheet2    </td><td>NA        </td><td>Dan       </td><td>NA        </td><td>NA        </td><td>6-4-15    </td></tr>\n",
       "\t<tr><td>Sheet2    </td><td>NA        </td><td>Michelle  </td><td>NA        </td><td>NA        </td><td>5-4-12    </td></tr>\n",
       "\t<tr><td>Sheet2    </td><td>NA        </td><td>Ryan      </td><td>NA        </td><td>NA        </td><td>19-4-17   </td></tr>\n",
       "\t<tr><td>Sheet2    </td><td>NA        </td><td>Gary      </td><td>NA        </td><td>NA        </td><td>20-5-17   </td></tr>\n",
       "\t<tr><td>Sheet2    </td><td>NA        </td><td>Nina      </td><td>NA        </td><td>NA        </td><td>21-10-17  </td></tr>\n",
       "\t<tr><td>Sheet2    </td><td>NA        </td><td>Simon     </td><td>NA        </td><td>NA        </td><td>2-2-12    </td></tr>\n",
       "\t<tr><td>Sheet2    </td><td>NA        </td><td>Guru      </td><td>NA        </td><td>NA        </td><td>31-1-17   </td></tr>\n",
       "</tbody>\n",
       "</table>\n"
      ],
      "text/latex": [
       "\\begin{tabular}{r|llllll}\n",
       " Sheet & roll & name & per & branch & doa\\\\\n",
       "\\hline\n",
       "\t Sheet1     &  1         & Rick       & 91         & IT         & NA        \\\\\n",
       "\t Sheet1     &  2         & Dan        & 90         & Operations & NA        \\\\\n",
       "\t Sheet1     &  3         & Michelle   & 72         & IT         & NA        \\\\\n",
       "\t Sheet1     &  4         & Ryan       & 76         & HR         & NA        \\\\\n",
       "\t Sheet1     &  5         & Gary       & 98         & Finance    & NA        \\\\\n",
       "\t Sheet1     &  6         & Nina       & 81         & IT         & NA        \\\\\n",
       "\t Sheet1     &  7         & Simon      & 83         & Operations & NA        \\\\\n",
       "\t Sheet1     &  8         & Guru       & 89         & CSE        & NA        \\\\\n",
       "\t Sheet2     & NA         & Rick       & NA         & NA         & 6-2-14    \\\\\n",
       "\t Sheet2     & NA         & Dan        & NA         & NA         & 6-4-15    \\\\\n",
       "\t Sheet2     & NA         & Michelle   & NA         & NA         & 5-4-12    \\\\\n",
       "\t Sheet2     & NA         & Ryan       & NA         & NA         & 19-4-17   \\\\\n",
       "\t Sheet2     & NA         & Gary       & NA         & NA         & 20-5-17   \\\\\n",
       "\t Sheet2     & NA         & Nina       & NA         & NA         & 21-10-17  \\\\\n",
       "\t Sheet2     & NA         & Simon      & NA         & NA         & 2-2-12    \\\\\n",
       "\t Sheet2     & NA         & Guru       & NA         & NA         & 31-1-17   \\\\\n",
       "\\end{tabular}\n"
      ],
      "text/markdown": [
       "\n",
       "| Sheet | roll | name | per | branch | doa |\n",
       "|---|---|---|---|---|---|\n",
       "| Sheet1     |  1         | Rick       | 91         | IT         | NA         |\n",
       "| Sheet1     |  2         | Dan        | 90         | Operations | NA         |\n",
       "| Sheet1     |  3         | Michelle   | 72         | IT         | NA         |\n",
       "| Sheet1     |  4         | Ryan       | 76         | HR         | NA         |\n",
       "| Sheet1     |  5         | Gary       | 98         | Finance    | NA         |\n",
       "| Sheet1     |  6         | Nina       | 81         | IT         | NA         |\n",
       "| Sheet1     |  7         | Simon      | 83         | Operations | NA         |\n",
       "| Sheet1     |  8         | Guru       | 89         | CSE        | NA         |\n",
       "| Sheet2     | NA         | Rick       | NA         | NA         | 6-2-14     |\n",
       "| Sheet2     | NA         | Dan        | NA         | NA         | 6-4-15     |\n",
       "| Sheet2     | NA         | Michelle   | NA         | NA         | 5-4-12     |\n",
       "| Sheet2     | NA         | Ryan       | NA         | NA         | 19-4-17    |\n",
       "| Sheet2     | NA         | Gary       | NA         | NA         | 20-5-17    |\n",
       "| Sheet2     | NA         | Nina       | NA         | NA         | 21-10-17   |\n",
       "| Sheet2     | NA         | Simon      | NA         | NA         | 2-2-12     |\n",
       "| Sheet2     | NA         | Guru       | NA         | NA         | 31-1-17    |\n",
       "\n"
      ],
      "text/plain": [
       "   Sheet  roll name     per branch     doa     \n",
       "1  Sheet1  1   Rick     91  IT         NA      \n",
       "2  Sheet1  2   Dan      90  Operations NA      \n",
       "3  Sheet1  3   Michelle 72  IT         NA      \n",
       "4  Sheet1  4   Ryan     76  HR         NA      \n",
       "5  Sheet1  5   Gary     98  Finance    NA      \n",
       "6  Sheet1  6   Nina     81  IT         NA      \n",
       "7  Sheet1  7   Simon    83  Operations NA      \n",
       "8  Sheet1  8   Guru     89  CSE        NA      \n",
       "9  Sheet2 NA   Rick     NA  NA         6-2-14  \n",
       "10 Sheet2 NA   Dan      NA  NA         6-4-15  \n",
       "11 Sheet2 NA   Michelle NA  NA         5-4-12  \n",
       "12 Sheet2 NA   Ryan     NA  NA         19-4-17 \n",
       "13 Sheet2 NA   Gary     NA  NA         20-5-17 \n",
       "14 Sheet2 NA   Nina     NA  NA         21-10-17\n",
       "15 Sheet2 NA   Simon    NA  NA         2-2-12  \n",
       "16 Sheet2 NA   Guru     NA  NA         31-1-17 "
      ]
     },
     "metadata": {},
     "output_type": "display_data"
    }
   ],
   "source": [
    "df"
   ]
  },
  {
   "cell_type": "code",
   "execution_count": null,
   "metadata": {},
   "outputs": [],
   "source": []
  },
  {
   "cell_type": "code",
   "execution_count": null,
   "metadata": {},
   "outputs": [],
   "source": []
  }
 ],
 "metadata": {
  "kernelspec": {
   "display_name": "R",
   "language": "R",
   "name": "ir"
  },
  "language_info": {
   "codemirror_mode": "r",
   "file_extension": ".r",
   "mimetype": "text/x-r-source",
   "name": "R",
   "pygments_lexer": "r",
   "version": "3.6.1"
  }
 },
 "nbformat": 4,
 "nbformat_minor": 4
}
