{
 "cells": [
  {
   "cell_type": "markdown",
   "metadata": {},
   "source": [
    "# 1806554 Ganesh Bhandarkar Lab 3"
   ]
  },
  {
   "cell_type": "code",
   "execution_count": 8,
   "metadata": {},
   "outputs": [
    {
     "data": {
      "text/html": [
       "<table>\n",
       "<tbody>\n",
       "\t<tr><td> 3</td><td> 4</td><td> 5</td></tr>\n",
       "\t<tr><td> 6</td><td> 7</td><td> 8</td></tr>\n",
       "\t<tr><td> 9</td><td>10</td><td>11</td></tr>\n",
       "\t<tr><td>12</td><td>13</td><td>14</td></tr>\n",
       "</tbody>\n",
       "</table>\n"
      ],
      "text/latex": [
       "\\begin{tabular}{lll}\n",
       "\t  3 &  4 &  5\\\\\n",
       "\t  6 &  7 &  8\\\\\n",
       "\t  9 & 10 & 11\\\\\n",
       "\t 12 & 13 & 14\\\\\n",
       "\\end{tabular}\n"
      ],
      "text/markdown": [
       "\n",
       "|  3 |  4 |  5 |\n",
       "|  6 |  7 |  8 |\n",
       "|  9 | 10 | 11 |\n",
       "| 12 | 13 | 14 |\n",
       "\n"
      ],
      "text/plain": [
       "     [,1] [,2] [,3]\n",
       "[1,]  3    4    5  \n",
       "[2,]  6    7    8  \n",
       "[3,]  9   10   11  \n",
       "[4,] 12   13   14  "
      ]
     },
     "metadata": {},
     "output_type": "display_data"
    }
   ],
   "source": [
    "mat = matrix(c(3:14),nrow = 4, byrow = TRUE)\n",
    "mat"
   ]
  },
  {
   "cell_type": "code",
   "execution_count": 17,
   "metadata": {},
   "outputs": [
    {
     "data": {
      "text/html": [
       "<table>\n",
       "<tbody>\n",
       "\t<tr><td>3 </td><td> 7</td><td>11</td></tr>\n",
       "\t<tr><td>4 </td><td> 8</td><td>12</td></tr>\n",
       "\t<tr><td>5 </td><td> 9</td><td>13</td></tr>\n",
       "\t<tr><td>6 </td><td>10</td><td>14</td></tr>\n",
       "</tbody>\n",
       "</table>\n"
      ],
      "text/latex": [
       "\\begin{tabular}{lll}\n",
       "\t 3  &  7 & 11\\\\\n",
       "\t 4  &  8 & 12\\\\\n",
       "\t 5  &  9 & 13\\\\\n",
       "\t 6  & 10 & 14\\\\\n",
       "\\end{tabular}\n"
      ],
      "text/markdown": [
       "\n",
       "| 3  |  7 | 11 |\n",
       "| 4  |  8 | 12 |\n",
       "| 5  |  9 | 13 |\n",
       "| 6  | 10 | 14 |\n",
       "\n"
      ],
      "text/plain": [
       "     [,1] [,2] [,3]\n",
       "[1,] 3     7   11  \n",
       "[2,] 4     8   12  \n",
       "[3,] 5     9   13  \n",
       "[4,] 6    10   14  "
      ]
     },
     "metadata": {},
     "output_type": "display_data"
    }
   ],
   "source": [
    "mat = matrix(c(3:14),nrow = 4, byrow = FALSE)\n",
    "mat"
   ]
  },
  {
   "cell_type": "code",
   "execution_count": 18,
   "metadata": {},
   "outputs": [
    {
     "data": {
      "text/html": [
       "<table>\n",
       "<thead><tr><th></th><th scope=col>a</th><th scope=col>b</th><th scope=col>c</th></tr></thead>\n",
       "<tbody>\n",
       "\t<tr><th scope=row>a</th><td>3 </td><td> 7</td><td>11</td></tr>\n",
       "\t<tr><th scope=row>b</th><td>4 </td><td> 8</td><td>12</td></tr>\n",
       "\t<tr><th scope=row>c</th><td>5 </td><td> 9</td><td>13</td></tr>\n",
       "\t<tr><th scope=row>d</th><td>6 </td><td>10</td><td>14</td></tr>\n",
       "</tbody>\n",
       "</table>\n"
      ],
      "text/latex": [
       "\\begin{tabular}{r|lll}\n",
       "  & a & b & c\\\\\n",
       "\\hline\n",
       "\ta & 3  &  7 & 11\\\\\n",
       "\tb & 4  &  8 & 12\\\\\n",
       "\tc & 5  &  9 & 13\\\\\n",
       "\td & 6  & 10 & 14\\\\\n",
       "\\end{tabular}\n"
      ],
      "text/markdown": [
       "\n",
       "| <!--/--> | a | b | c |\n",
       "|---|---|---|---|\n",
       "| a | 3  |  7 | 11 |\n",
       "| b | 4  |  8 | 12 |\n",
       "| c | 5  |  9 | 13 |\n",
       "| d | 6  | 10 | 14 |\n",
       "\n"
      ],
      "text/plain": [
       "  a b  c \n",
       "a 3  7 11\n",
       "b 4  8 12\n",
       "c 5  9 13\n",
       "d 6 10 14"
      ]
     },
     "metadata": {},
     "output_type": "display_data"
    }
   ],
   "source": [
    "dimnames(mat) <- list(letters[1:4],letters[1:3])\n",
    "mat"
   ]
  },
  {
   "cell_type": "code",
   "execution_count": 19,
   "metadata": {},
   "outputs": [
    {
     "name": "stdout",
     "output_type": "stream",
     "text": [
      "[1] 11\n"
     ]
    }
   ],
   "source": [
    "print(mat[1,3])"
   ]
  },
  {
   "cell_type": "code",
   "execution_count": 20,
   "metadata": {},
   "outputs": [
    {
     "name": "stdout",
     "output_type": "stream",
     "text": [
      "[1] 10\n"
     ]
    }
   ],
   "source": [
    "print(mat[4,2])"
   ]
  },
  {
   "cell_type": "code",
   "execution_count": 21,
   "metadata": {},
   "outputs": [
    {
     "name": "stdout",
     "output_type": "stream",
     "text": [
      " a  b  c \n",
      " 4  8 12 \n"
     ]
    }
   ],
   "source": [
    "print(mat[2,])"
   ]
  },
  {
   "cell_type": "code",
   "execution_count": 22,
   "metadata": {},
   "outputs": [
    {
     "name": "stdout",
     "output_type": "stream",
     "text": [
      " a  b  c  d \n",
      "11 12 13 14 \n"
     ]
    }
   ],
   "source": [
    "print(mat[,3])"
   ]
  },
  {
   "cell_type": "code",
   "execution_count": 23,
   "metadata": {},
   "outputs": [
    {
     "data": {
      "text/html": [
       "<table>\n",
       "<thead><tr><th></th><th scope=col>a</th><th scope=col>b</th><th scope=col>c</th></tr></thead>\n",
       "<tbody>\n",
       "\t<tr><th scope=row>a</th><td>1</td><td>2</td><td>3</td></tr>\n",
       "\t<tr><th scope=row>b</th><td>4</td><td>5</td><td>6</td></tr>\n",
       "</tbody>\n",
       "</table>\n"
      ],
      "text/latex": [
       "\\begin{tabular}{r|lll}\n",
       "  & a & b & c\\\\\n",
       "\\hline\n",
       "\ta & 1 & 2 & 3\\\\\n",
       "\tb & 4 & 5 & 6\\\\\n",
       "\\end{tabular}\n"
      ],
      "text/markdown": [
       "\n",
       "| <!--/--> | a | b | c |\n",
       "|---|---|---|---|\n",
       "| a | 1 | 2 | 3 |\n",
       "| b | 4 | 5 | 6 |\n",
       "\n"
      ],
      "text/plain": [
       "  a b c\n",
       "a 1 2 3\n",
       "b 4 5 6"
      ]
     },
     "metadata": {},
     "output_type": "display_data"
    }
   ],
   "source": [
    "m1 = matrix(c(1:6),nrow = 2,ncol = 3, byrow = TRUE, dimnames = list(letters[1:2],letters[1:3]))\n",
    "m1"
   ]
  },
  {
   "cell_type": "code",
   "execution_count": 24,
   "metadata": {},
   "outputs": [
    {
     "data": {
      "text/html": [
       "<table>\n",
       "<thead><tr><th></th><th scope=col>a</th><th scope=col>b</th><th scope=col>c</th></tr></thead>\n",
       "<tbody>\n",
       "\t<tr><th scope=row>a</th><td>7 </td><td> 9</td><td>11</td></tr>\n",
       "\t<tr><th scope=row>b</th><td>8 </td><td>10</td><td>12</td></tr>\n",
       "</tbody>\n",
       "</table>\n"
      ],
      "text/latex": [
       "\\begin{tabular}{r|lll}\n",
       "  & a & b & c\\\\\n",
       "\\hline\n",
       "\ta & 7  &  9 & 11\\\\\n",
       "\tb & 8  & 10 & 12\\\\\n",
       "\\end{tabular}\n"
      ],
      "text/markdown": [
       "\n",
       "| <!--/--> | a | b | c |\n",
       "|---|---|---|---|\n",
       "| a | 7  |  9 | 11 |\n",
       "| b | 8  | 10 | 12 |\n",
       "\n"
      ],
      "text/plain": [
       "  a b  c \n",
       "a 7  9 11\n",
       "b 8 10 12"
      ]
     },
     "metadata": {},
     "output_type": "display_data"
    }
   ],
   "source": [
    "m2 = matrix(c(7:12),nrow = 2,ncol = 3, byrow = FALSE, dimnames = list(letters[1:2],letters[1:3]))\n",
    "m2"
   ]
  },
  {
   "cell_type": "code",
   "execution_count": 26,
   "metadata": {},
   "outputs": [
    {
     "data": {
      "text/html": [
       "<table>\n",
       "<thead><tr><th></th><th scope=col>a</th><th scope=col>b</th><th scope=col>c</th></tr></thead>\n",
       "<tbody>\n",
       "\t<tr><th scope=row>a</th><td> 8</td><td>11</td><td>14</td></tr>\n",
       "\t<tr><th scope=row>b</th><td>12</td><td>15</td><td>18</td></tr>\n",
       "</tbody>\n",
       "</table>\n"
      ],
      "text/latex": [
       "\\begin{tabular}{r|lll}\n",
       "  & a & b & c\\\\\n",
       "\\hline\n",
       "\ta &  8 & 11 & 14\\\\\n",
       "\tb & 12 & 15 & 18\\\\\n",
       "\\end{tabular}\n"
      ],
      "text/markdown": [
       "\n",
       "| <!--/--> | a | b | c |\n",
       "|---|---|---|---|\n",
       "| a |  8 | 11 | 14 |\n",
       "| b | 12 | 15 | 18 |\n",
       "\n"
      ],
      "text/plain": [
       "  a  b  c \n",
       "a  8 11 14\n",
       "b 12 15 18"
      ]
     },
     "metadata": {},
     "output_type": "display_data"
    }
   ],
   "source": [
    "matadd <- m1 + m2\n",
    "matadd"
   ]
  },
  {
   "cell_type": "code",
   "execution_count": 27,
   "metadata": {},
   "outputs": [
    {
     "data": {
      "text/html": [
       "<table>\n",
       "<thead><tr><th></th><th scope=col>a</th><th scope=col>b</th><th scope=col>c</th></tr></thead>\n",
       "<tbody>\n",
       "\t<tr><th scope=row>a</th><td>-6</td><td>-7</td><td>-8</td></tr>\n",
       "\t<tr><th scope=row>b</th><td>-4</td><td>-5</td><td>-6</td></tr>\n",
       "</tbody>\n",
       "</table>\n"
      ],
      "text/latex": [
       "\\begin{tabular}{r|lll}\n",
       "  & a & b & c\\\\\n",
       "\\hline\n",
       "\ta & -6 & -7 & -8\\\\\n",
       "\tb & -4 & -5 & -6\\\\\n",
       "\\end{tabular}\n"
      ],
      "text/markdown": [
       "\n",
       "| <!--/--> | a | b | c |\n",
       "|---|---|---|---|\n",
       "| a | -6 | -7 | -8 |\n",
       "| b | -4 | -5 | -6 |\n",
       "\n"
      ],
      "text/plain": [
       "  a  b  c \n",
       "a -6 -7 -8\n",
       "b -4 -5 -6"
      ]
     },
     "metadata": {},
     "output_type": "display_data"
    }
   ],
   "source": [
    "matsub <- m1 - m2\n",
    "matsub"
   ]
  },
  {
   "cell_type": "code",
   "execution_count": 28,
   "metadata": {},
   "outputs": [
    {
     "data": {
      "text/html": [
       "<table>\n",
       "<thead><tr><th></th><th scope=col>a</th><th scope=col>b</th><th scope=col>c</th></tr></thead>\n",
       "<tbody>\n",
       "\t<tr><th scope=row>a</th><td> 7</td><td>18</td><td>33</td></tr>\n",
       "\t<tr><th scope=row>b</th><td>32</td><td>50</td><td>72</td></tr>\n",
       "</tbody>\n",
       "</table>\n"
      ],
      "text/latex": [
       "\\begin{tabular}{r|lll}\n",
       "  & a & b & c\\\\\n",
       "\\hline\n",
       "\ta &  7 & 18 & 33\\\\\n",
       "\tb & 32 & 50 & 72\\\\\n",
       "\\end{tabular}\n"
      ],
      "text/markdown": [
       "\n",
       "| <!--/--> | a | b | c |\n",
       "|---|---|---|---|\n",
       "| a |  7 | 18 | 33 |\n",
       "| b | 32 | 50 | 72 |\n",
       "\n"
      ],
      "text/plain": [
       "  a  b  c \n",
       "a  7 18 33\n",
       "b 32 50 72"
      ]
     },
     "metadata": {},
     "output_type": "display_data"
    }
   ],
   "source": [
    "matmul <- m1 * m2\n",
    "matmul"
   ]
  },
  {
   "cell_type": "code",
   "execution_count": 31,
   "metadata": {},
   "outputs": [
    {
     "data": {
      "text/html": [
       "<table>\n",
       "<thead><tr><th></th><th scope=col>a</th><th scope=col>b</th><th scope=col>c</th></tr></thead>\n",
       "<tbody>\n",
       "\t<tr><th scope=row>a</th><td>0.14</td><td>0.22</td><td>0.27</td></tr>\n",
       "\t<tr><th scope=row>b</th><td>0.50</td><td>0.50</td><td>0.50</td></tr>\n",
       "</tbody>\n",
       "</table>\n"
      ],
      "text/latex": [
       "\\begin{tabular}{r|lll}\n",
       "  & a & b & c\\\\\n",
       "\\hline\n",
       "\ta & 0.14 & 0.22 & 0.27\\\\\n",
       "\tb & 0.50 & 0.50 & 0.50\\\\\n",
       "\\end{tabular}\n"
      ],
      "text/markdown": [
       "\n",
       "| <!--/--> | a | b | c |\n",
       "|---|---|---|---|\n",
       "| a | 0.14 | 0.22 | 0.27 |\n",
       "| b | 0.50 | 0.50 | 0.50 |\n",
       "\n"
      ],
      "text/plain": [
       "  a    b    c   \n",
       "a 0.14 0.22 0.27\n",
       "b 0.50 0.50 0.50"
      ]
     },
     "metadata": {},
     "output_type": "display_data"
    }
   ],
   "source": [
    "matdiv <- m1 / m2\n",
    "round(matdiv,digits = 2)"
   ]
  },
  {
   "cell_type": "code",
   "execution_count": 36,
   "metadata": {},
   "outputs": [
    {
     "name": "stdin",
     "output_type": "stream",
     "text": [
      " 1 2 3 4 5 6\n",
      " 7 8 9 10 11 12\n"
     ]
    },
    {
     "data": {
      "text/html": [
       "<table>\n",
       "<thead><tr><th></th><th scope=col>d</th><th scope=col>e</th><th scope=col>f</th><th scope=col>g</th></tr></thead>\n",
       "<tbody>\n",
       "\t<tr><th scope=row>a</th><td>7 </td><td>10</td><td>1 </td><td>4 </td></tr>\n",
       "\t<tr><th scope=row>b</th><td>8 </td><td>11</td><td>2 </td><td>5 </td></tr>\n",
       "\t<tr><th scope=row>c</th><td>9 </td><td>12</td><td>3 </td><td>6 </td></tr>\n",
       "</tbody>\n",
       "</table>\n"
      ],
      "text/latex": [
       "\\begin{tabular}{r|llll}\n",
       "  & d & e & f & g\\\\\n",
       "\\hline\n",
       "\ta & 7  & 10 & 1  & 4 \\\\\n",
       "\tb & 8  & 11 & 2  & 5 \\\\\n",
       "\tc & 9  & 12 & 3  & 6 \\\\\n",
       "\\end{tabular}\n"
      ],
      "text/markdown": [
       "\n",
       "| <!--/--> | d | e | f | g |\n",
       "|---|---|---|---|---|\n",
       "| a | 7  | 10 | 1  | 4  |\n",
       "| b | 8  | 11 | 2  | 5  |\n",
       "| c | 9  | 12 | 3  | 6  |\n",
       "\n"
      ],
      "text/plain": [
       "  d e  f g\n",
       "a 7 10 1 4\n",
       "b 8 11 2 5\n",
       "c 9 12 3 6"
      ]
     },
     "metadata": {},
     "output_type": "display_data"
    }
   ],
   "source": [
    "v <- readline()\n",
    "v <- strsplit(v,\" \")\n",
    "v <- as.integer(v[[1]])\n",
    "\n",
    "w <- readline()\n",
    "w <- strsplit(w,\" \")\n",
    "w <- as.integer(w[[1]])\n",
    "\n",
    "maat <- matrix(c(w,v),nrow = 3, byrow = FALSE)\n",
    "dimnames(maat) <- list(letters[1:3],letters[4:7])\n",
    "maat\n",
    "\n"
   ]
  },
  {
   "cell_type": "code",
   "execution_count": null,
   "metadata": {},
   "outputs": [],
   "source": []
  }
 ],
 "metadata": {
  "kernelspec": {
   "display_name": "R",
   "language": "R",
   "name": "ir"
  },
  "language_info": {
   "codemirror_mode": "r",
   "file_extension": ".r",
   "mimetype": "text/x-r-source",
   "name": "R",
   "pygments_lexer": "r",
   "version": "3.6.1"
  }
 },
 "nbformat": 4,
 "nbformat_minor": 4
}
