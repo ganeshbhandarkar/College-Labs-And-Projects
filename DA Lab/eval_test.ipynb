{
 "cells": [
  {
   "cell_type": "markdown",
   "metadata": {},
   "source": [
    "# 1806554 Ganesh Bhandarkar (DA LAB)"
   ]
  },
  {
   "cell_type": "markdown",
   "metadata": {},
   "source": [
    "# 1"
   ]
  },
  {
   "cell_type": "code",
   "execution_count": 16,
   "metadata": {},
   "outputs": [
    {
     "name": "stdout",
     "output_type": "stream",
     "text": [
      "[1] 1.000000 1.414214 1.732051 2.000000 2.236068\n"
     ]
    }
   ],
   "source": [
    "x <- c(1,2,3,4,5)\n",
    "print(sqrt(x))"
   ]
  },
  {
   "cell_type": "code",
   "execution_count": 19,
   "metadata": {},
   "outputs": [
    {
     "data": {
      "text/html": [
       "'min : 4'"
      ],
      "text/latex": [
       "'min : 4'"
      ],
      "text/markdown": [
       "'min : 4'"
      ],
      "text/plain": [
       "[1] \"min : 4\""
      ]
     },
     "metadata": {},
     "output_type": "display_data"
    },
    {
     "data": {
      "text/html": [
       "'max : 23'"
      ],
      "text/latex": [
       "'max : 23'"
      ],
      "text/markdown": [
       "'max : 23'"
      ],
      "text/plain": [
       "[1] \"max : 23\""
      ]
     },
     "metadata": {},
     "output_type": "display_data"
    },
    {
     "data": {
      "text/html": [
       "'sum : 64'"
      ],
      "text/latex": [
       "'sum : 64'"
      ],
      "text/markdown": [
       "'sum : 64'"
      ],
      "text/plain": [
       "[1] \"sum : 64\""
      ]
     },
     "metadata": {},
     "output_type": "display_data"
    }
   ],
   "source": [
    "x <- c(11,23,12,14,4)\n",
    "paste(\"min :\",min(x))\n",
    "paste(\"max :\",max(x))\n",
    "paste(\"sum :\",sum(x))"
   ]
  },
  {
   "cell_type": "markdown",
   "metadata": {},
   "source": [
    "# 2"
   ]
  },
  {
   "cell_type": "code",
   "execution_count": 37,
   "metadata": {},
   "outputs": [
    {
     "name": "stdout",
     "output_type": "stream",
     "text": [
      "[1] \"Original Matrix:\"\n",
      "     col1 col2 col3\n",
      "row1    1    2    3\n",
      "row2    4    5    6\n",
      "row3    7    8    9\n",
      "row4   10   11   12\n"
     ]
    }
   ],
   "source": [
    "row_names = c(\"row1\", \"row2\", \"row3\", \"row4\")\n",
    "col_names = c(\"col1\", \"col2\", \"col3\")\n",
    "M = matrix(c(1:12), nrow = 4,ncol = 3, byrow = TRUE, dimnames = list(row_names, col_names))\n",
    "print(\"Original Matrix:\")\n",
    "print(M)"
   ]
  },
  {
   "cell_type": "code",
   "execution_count": 39,
   "metadata": {},
   "outputs": [
    {
     "name": "stdout",
     "output_type": "stream",
     "text": [
      "col1 col2 col3 \n",
      "   1    2    3 \n"
     ]
    }
   ],
   "source": [
    "print(M[1,])"
   ]
  },
  {
   "cell_type": "code",
   "execution_count": 40,
   "metadata": {},
   "outputs": [
    {
     "name": "stdout",
     "output_type": "stream",
     "text": [
      "col1 col2 col3 \n",
      "   7    8    9 \n"
     ]
    }
   ],
   "source": [
    "print(M[3,])"
   ]
  },
  {
   "cell_type": "code",
   "execution_count": 41,
   "metadata": {},
   "outputs": [
    {
     "name": "stdout",
     "output_type": "stream",
     "text": [
      "row1 row2 row3 row4 \n",
      "   2    5    8   11 \n"
     ]
    }
   ],
   "source": [
    "print(M[,2])"
   ]
  },
  {
   "cell_type": "markdown",
   "metadata": {},
   "source": [
    "# 3"
   ]
  },
  {
   "cell_type": "code",
   "execution_count": 21,
   "metadata": {},
   "outputs": [],
   "source": [
    "v1 <- c(5,9,3)\n",
    "v2 <- c(10,11,12,13,14,15)\n",
    "result <- array(c(v1,v2),dim = c(3,3,2))"
   ]
  },
  {
   "cell_type": "code",
   "execution_count": 23,
   "metadata": {},
   "outputs": [
    {
     "name": "stdout",
     "output_type": "stream",
     "text": [
      ", , 1\n",
      "\n",
      "     [,1] [,2] [,3]\n",
      "[1,]    5   10   13\n",
      "[2,]    9   11   14\n",
      "[3,]    3   12   15\n",
      "\n",
      ", , 2\n",
      "\n",
      "     [,1] [,2] [,3]\n",
      "[1,]    5   10   13\n",
      "[2,]    9   11   14\n",
      "[3,]    3   12   15\n",
      "\n"
     ]
    }
   ],
   "source": [
    "print(result)"
   ]
  },
  {
   "cell_type": "code",
   "execution_count": 24,
   "metadata": {},
   "outputs": [
    {
     "name": "stdout",
     "output_type": "stream",
     "text": [
      "[1]  3 12 15\n"
     ]
    }
   ],
   "source": [
    "print(result[3,,2])"
   ]
  },
  {
   "cell_type": "code",
   "execution_count": 25,
   "metadata": {},
   "outputs": [
    {
     "name": "stdout",
     "output_type": "stream",
     "text": [
      "[1] 13\n"
     ]
    }
   ],
   "source": [
    "print(result[1,3,1])"
   ]
  },
  {
   "cell_type": "code",
   "execution_count": 28,
   "metadata": {},
   "outputs": [
    {
     "name": "stdout",
     "output_type": "stream",
     "text": [
      "     [,1] [,2] [,3]\n",
      "[1,]    5   10   13\n",
      "[2,]    9   11   14\n",
      "[3,]    3   12   15\n"
     ]
    }
   ],
   "source": [
    "print(result[,,2])"
   ]
  },
  {
   "cell_type": "code",
   "execution_count": 29,
   "metadata": {},
   "outputs": [
    {
     "name": "stdout",
     "output_type": "stream",
     "text": [
      "     [,1] [,2] [,3]\n",
      "[1,]   10   20   26\n",
      "[2,]   18   22   28\n",
      "[3,]    6   24   30\n"
     ]
    }
   ],
   "source": [
    "print(result[,,1]+result[,,2])"
   ]
  },
  {
   "cell_type": "markdown",
   "metadata": {},
   "source": [
    "# 4"
   ]
  },
  {
   "cell_type": "code",
   "execution_count": 60,
   "metadata": {},
   "outputs": [
    {
     "name": "stdout",
     "output_type": "stream",
     "text": [
      "  players.name players.grade\n",
      "1       Ganesh             C\n",
      "2        Messi             A\n",
      "3      Michael             B\n",
      "4        Rohit             A\n",
      "5       Ronnie            A+\n"
     ]
    }
   ],
   "source": [
    "players <- data.frame(\n",
    "  player_no = c(1:5),\n",
    "  name = c(\"Ganesh\",\"Messi\",\"Michael\",\"Rohit\",\"Ronnie\"),\n",
    "  age = c(17,31,37,29,48),\n",
    "  profession= c(\"Sprinter\",\"Footballer\",\"Basketball\",\"Cricketer\",\"Snooker\"),\n",
    "  grade = c(\"C\",\"A\",\"B\",\"A\",\"A+\")\n",
    ")\n",
    "\n",
    "\n",
    "result <- data.frame(players$name,players$grade)\n",
    "\n",
    "print(result)"
   ]
  },
  {
   "cell_type": "code",
   "execution_count": 61,
   "metadata": {},
   "outputs": [
    {
     "name": "stdout",
     "output_type": "stream",
     "text": [
      "  player_no    name age profession grade\n",
      "1         1  Ganesh  17   Sprinter     C\n",
      "2         2   Messi  31 Footballer     A\n",
      "3         3 Michael  37 Basketball     B\n"
     ]
    }
   ],
   "source": [
    "result1 <- players[1:3,]\n",
    "print(result1)"
   ]
  },
  {
   "cell_type": "code",
   "execution_count": 62,
   "metadata": {},
   "outputs": [
    {
     "name": "stdout",
     "output_type": "stream",
     "text": [
      "  player_no age\n",
      "2         2  31\n",
      "5         5  48\n"
     ]
    }
   ],
   "source": [
    "result <- players[c(2,5),c(1,3)]\n",
    "print(result)"
   ]
  },
  {
   "cell_type": "code",
   "execution_count": null,
   "metadata": {},
   "outputs": [],
   "source": []
  },
  {
   "cell_type": "code",
   "execution_count": null,
   "metadata": {},
   "outputs": [],
   "source": []
  }
 ],
 "metadata": {
  "kernelspec": {
   "display_name": "R",
   "language": "R",
   "name": "ir"
  },
  "language_info": {
   "codemirror_mode": "r",
   "file_extension": ".r",
   "mimetype": "text/x-r-source",
   "name": "R",
   "pygments_lexer": "r",
   "version": "3.6.1"
  }
 },
 "nbformat": 4,
 "nbformat_minor": 4
}
