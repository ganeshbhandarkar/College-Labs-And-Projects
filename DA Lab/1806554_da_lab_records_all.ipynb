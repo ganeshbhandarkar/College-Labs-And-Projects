{
 "cells": [
  {
   "cell_type": "markdown",
   "metadata": {},
   "source": [
    "# 1806554 Ganesh Bhandarkar (DA LAB RECORD)"
   ]
  },
  {
   "cell_type": "markdown",
   "metadata": {},
   "source": [
    "## LAB 1"
   ]
  },
  {
   "cell_type": "code",
   "execution_count": 4,
   "metadata": {},
   "outputs": [
    {
     "name": "stdout",
     "output_type": "stream",
     "text": [
      "[1] \"Hello World\"\n"
     ]
    },
    {
     "data": {
      "text/html": [
       "'Thu Apr 08 13:16:42 2021'"
      ],
      "text/latex": [
       "'Thu Apr 08 13:16:42 2021'"
      ],
      "text/markdown": [
       "'Thu Apr 08 13:16:42 2021'"
      ],
      "text/plain": [
       "[1] \"Thu Apr 08 13:16:42 2021\""
      ]
     },
     "metadata": {},
     "output_type": "display_data"
    },
    {
     "name": "stdout",
     "output_type": "stream",
     "text": [
      "[1] 3\n"
     ]
    },
    {
     "data": {
      "text/html": [
       "1"
      ],
      "text/latex": [
       "1"
      ],
      "text/markdown": [
       "1"
      ],
      "text/plain": [
       "[1] 1"
      ]
     },
     "metadata": {},
     "output_type": "display_data"
    },
    {
     "name": "stdout",
     "output_type": "stream",
     "text": [
      "[1] \"red\"    \"green\"  \"yellow\"\n",
      "[1] \"character\"\n",
      "[1] green  green  yellow red    red    red    green \n",
      "Levels: green red yellow\n",
      "[1] 3\n",
      "  gender height weight age\n",
      "1   Male  152.0     81  42\n",
      "2   Male  171.5     93  38\n",
      "3 Female  165.0     78  26\n",
      "The class of var_x is  character \n",
      "Now the class of var_x is  numeric \n",
      " Next the class of var_x becomes  integer \n",
      "[1] 10.0  8.5 10.0\n",
      "[1] -6.0  2.5  2.0\n",
      "[1] 16.0 16.5 24.0\n",
      "[1] 0.250000 1.833333 1.500000\n",
      "[1] 2.0 2.5 2.0\n",
      "[1] 0 1 1\n",
      "[1]  256.000  166.375 1296.000\n",
      "[1] FALSE  TRUE  TRUE\n",
      "[1]  TRUE FALSE FALSE\n",
      "[1] FALSE FALSE FALSE\n",
      "[1]  TRUE FALSE FALSE\n",
      "[1] FALSE  TRUE  TRUE\n",
      "[1] TRUE TRUE TRUE\n",
      "[1] 2.0 5.5 6.0\n",
      "[1] 8 3 4\n",
      "[1] 18 13 14\n",
      "[1] 2.0 5.5 6.0\n",
      "[1] 8 3 4\n",
      "[1] 2 3 4 5 6 7 8\n"
     ]
    }
   ],
   "source": [
    "print(\"Hello World\")\n",
    "date()\n",
    "print(mean(1:5))\n",
    "x <- 1\n",
    "x\n",
    "apple <-c('red','green',\"yellow\")\n",
    "print(apple)\n",
    "print(class(apple))\n",
    "list1 <-list(c(2,5,3),21.3,sin)\n",
    "M = matrix(c('a','a','b','c','b','a'),nrow=2,ncol=3,byrow =TRUE)  \n",
    "\n",
    "apple_colors <-c('green','green','yellow','red','red','red','green')\n",
    "factor_apple <-factor(apple_colors)\n",
    "print(factor_apple)\n",
    "print(nlevels(factor_apple))\n",
    "\n",
    "BMI <-data.frame(gender =c(\"Male\",\"Male\",\"Female\"),\n",
    "                 height =c(152,171.5,165),\n",
    "                 weight =c(81,93,78),\n",
    "                 age=c(42,38,26))\n",
    "print(BMI)\n",
    "\n",
    "var_x <-\"Hello\"\n",
    "cat(\"The class of var_x is \",class(var_x),\"\\n\")\n",
    "var_x <-34.5\n",
    "cat(\"Now the class of var_x is \",class(var_x),\"\\n\")\n",
    "var_x <-27L\n",
    "cat(\" Next the class of var_x becomes \",class(var_x),\"\\n\")\n",
    "\n",
    "\n",
    "v <-c(2,5.5,6)\n",
    "t <-c(8,3,4)\n",
    "print(v+t)\n",
    "print(v-t)\n",
    "print(v*t)\n",
    "print(v/t)\n",
    "print(v%%t) # Give the remainder of the first vector with the second\n",
    "print(v%/%t) # Give the result of division of first vector with second (quotient)\n",
    "print(v^t) # The first vector raised to the exponent of second vector\n",
    "\n",
    "\n",
    "v <-c(2,5.5,6)\n",
    "t <-c(8,3,4)\n",
    "print(v>t)\n",
    "print(v<t)\n",
    "print(v==t)\n",
    "print(v<=t)\n",
    "print(v>=t)\n",
    "print(v!=t)\n",
    "\n",
    "v <-c(2,5.5,6)\n",
    "u = c(18,13,14)\n",
    "print(v)\n",
    "print(t)\n",
    "print(u)\n",
    "\n",
    "c(2,5.5,6) -> v\n",
    "print(v)\n",
    "print(t)\n",
    "\n",
    "v <-2:8\n",
    "print(v)"
   ]
  },
  {
   "cell_type": "code",
   "execution_count": null,
   "metadata": {},
   "outputs": [],
   "source": []
  },
  {
   "cell_type": "markdown",
   "metadata": {},
   "source": [
    "## LAB 2"
   ]
  },
  {
   "cell_type": "code",
   "execution_count": null,
   "metadata": {},
   "outputs": [],
   "source": []
  }
 ],
 "metadata": {
  "kernelspec": {
   "display_name": "R",
   "language": "R",
   "name": "ir"
  },
  "language_info": {
   "codemirror_mode": "r",
   "file_extension": ".r",
   "mimetype": "text/x-r-source",
   "name": "R",
   "pygments_lexer": "r",
   "version": "3.6.1"
  }
 },
 "nbformat": 4,
 "nbformat_minor": 4
}
