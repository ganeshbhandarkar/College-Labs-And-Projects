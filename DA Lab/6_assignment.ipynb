{
 "cells": [
  {
   "cell_type": "markdown",
   "metadata": {},
   "source": [
    "# 1806554 Ganesh Bhandarkar Lab 8"
   ]
  },
  {
   "cell_type": "code",
   "execution_count": 50,
   "metadata": {},
   "outputs": [],
   "source": [
    "data <- read.csv(\"students.csv\",nrows = 8)"
   ]
  },
  {
   "cell_type": "code",
   "execution_count": 51,
   "metadata": {},
   "outputs": [
    {
     "data": {
      "text/html": [
       "<table>\n",
       "<thead><tr><th scope=col>roll</th><th scope=col>name</th><th scope=col>doa</th><th scope=col>per</th><th scope=col>branch</th></tr></thead>\n",
       "<tbody>\n",
       "\t<tr><td>1         </td><td>Rick      </td><td>6-2-14    </td><td>91        </td><td>IT        </td></tr>\n",
       "\t<tr><td>2         </td><td>Dan       </td><td>6-4-15    </td><td>90        </td><td>Operations</td></tr>\n",
       "\t<tr><td>3         </td><td>Michelle  </td><td>5-4-12    </td><td>72        </td><td>IT        </td></tr>\n",
       "\t<tr><td>4         </td><td>Ryan      </td><td>19-4-17   </td><td>76        </td><td>HR        </td></tr>\n",
       "\t<tr><td>5         </td><td>Gary      </td><td>20-5-17   </td><td>98        </td><td>Finance   </td></tr>\n",
       "\t<tr><td>6         </td><td>Nina      </td><td>21-10-17  </td><td>81        </td><td>IT        </td></tr>\n",
       "\t<tr><td>7         </td><td>Simon     </td><td>2-2-12    </td><td>83        </td><td>Operations</td></tr>\n",
       "\t<tr><td>8         </td><td>Guru      </td><td>31-1-17   </td><td>89        </td><td>CSE       </td></tr>\n",
       "</tbody>\n",
       "</table>\n"
      ],
      "text/latex": [
       "\\begin{tabular}{r|lllll}\n",
       " roll & name & doa & per & branch\\\\\n",
       "\\hline\n",
       "\t 1          & Rick       & 6-2-14     & 91         & IT        \\\\\n",
       "\t 2          & Dan        & 6-4-15     & 90         & Operations\\\\\n",
       "\t 3          & Michelle   & 5-4-12     & 72         & IT        \\\\\n",
       "\t 4          & Ryan       & 19-4-17    & 76         & HR        \\\\\n",
       "\t 5          & Gary       & 20-5-17    & 98         & Finance   \\\\\n",
       "\t 6          & Nina       & 21-10-17   & 81         & IT        \\\\\n",
       "\t 7          & Simon      & 2-2-12     & 83         & Operations\\\\\n",
       "\t 8          & Guru       & 31-1-17    & 89         & CSE       \\\\\n",
       "\\end{tabular}\n"
      ],
      "text/markdown": [
       "\n",
       "| roll | name | doa | per | branch |\n",
       "|---|---|---|---|---|\n",
       "| 1          | Rick       | 6-2-14     | 91         | IT         |\n",
       "| 2          | Dan        | 6-4-15     | 90         | Operations |\n",
       "| 3          | Michelle   | 5-4-12     | 72         | IT         |\n",
       "| 4          | Ryan       | 19-4-17    | 76         | HR         |\n",
       "| 5          | Gary       | 20-5-17    | 98         | Finance    |\n",
       "| 6          | Nina       | 21-10-17   | 81         | IT         |\n",
       "| 7          | Simon      | 2-2-12     | 83         | Operations |\n",
       "| 8          | Guru       | 31-1-17    | 89         | CSE        |\n",
       "\n"
      ],
      "text/plain": [
       "  roll name     doa      per branch    \n",
       "1 1    Rick     6-2-14   91  IT        \n",
       "2 2    Dan      6-4-15   90  Operations\n",
       "3 3    Michelle 5-4-12   72  IT        \n",
       "4 4    Ryan     19-4-17  76  HR        \n",
       "5 5    Gary     20-5-17  98  Finance   \n",
       "6 6    Nina     21-10-17 81  IT        \n",
       "7 7    Simon    2-2-12   83  Operations\n",
       "8 8    Guru     31-1-17  89  CSE       "
      ]
     },
     "metadata": {},
     "output_type": "display_data"
    }
   ],
   "source": [
    "data"
   ]
  },
  {
   "cell_type": "code",
   "execution_count": 52,
   "metadata": {},
   "outputs": [
    {
     "name": "stdout",
     "output_type": "stream",
     "text": [
      "  roll name     doa per  branch\n",
      "5    5 Gary 20-5-17  98 Finance\n"
     ]
    }
   ],
   "source": [
    "retval <- subset(data, per == max(per))\n",
    "print(retval)"
   ]
  },
  {
   "cell_type": "code",
   "execution_count": 53,
   "metadata": {},
   "outputs": [
    {
     "name": "stdout",
     "output_type": "stream",
     "text": [
      "  roll     name      doa per branch\n",
      "1    1     Rick   6-2-14  91     IT\n",
      "3    3 Michelle   5-4-12  72     IT\n",
      "6    6     Nina 21-10-17  81     IT\n",
      "8    8     Guru  31-1-17  89    CSE\n"
     ]
    }
   ],
   "source": [
    "retval <- subset(data, branch == \"IT\" | branch == \"CSE\")\n",
    "print(retval)"
   ]
  },
  {
   "cell_type": "code",
   "execution_count": 54,
   "metadata": {},
   "outputs": [
    {
     "name": "stdout",
     "output_type": "stream",
     "text": [
      "  roll  name      doa per     branch\n",
      "1    1  Rick   6-2-14  91         IT\n",
      "2    2   Dan   6-4-15  90 Operations\n",
      "5    5  Gary  20-5-17  98    Finance\n",
      "6    6  Nina 21-10-17  81         IT\n",
      "7    7 Simon   2-2-12  83 Operations\n",
      "8    8  Guru  31-1-17  89        CSE\n"
     ]
    }
   ],
   "source": [
    "retval <- subset(data, per > 80)\n",
    "print(retval)"
   ]
  },
  {
   "cell_type": "code",
   "execution_count": 55,
   "metadata": {},
   "outputs": [
    {
     "name": "stdout",
     "output_type": "stream",
     "text": [
      "  roll     name      doa per     branch\n",
      "1    1     Rick   6-2-14  91         IT\n",
      "2    2      Dan   6-4-15  90 Operations\n",
      "3    3 Michelle   5-4-12  72         IT\n",
      "4    4     Ryan  19-4-17  76         HR\n",
      "5    5     Gary  20-5-17  98    Finance\n",
      "6    6     Nina 21-10-17  81         IT\n",
      "7    7    Simon   2-2-12  83 Operations\n",
      "8    8     Guru  31-1-17  89        CSE\n"
     ]
    }
   ],
   "source": [
    "retval <- subset(data, as.Date(doa) > as.Date(\"1-5-17\"))\n",
    "print(retval)"
   ]
  },
  {
   "cell_type": "code",
   "execution_count": 56,
   "metadata": {},
   "outputs": [
    {
     "name": "stderr",
     "output_type": "stream",
     "text": [
      "also installing the dependencies 'rJava', 'xlsxjars'\n",
      "\n"
     ]
    },
    {
     "name": "stdout",
     "output_type": "stream",
     "text": [
      "package 'rJava' successfully unpacked and MD5 sums checked\n",
      "package 'xlsxjars' successfully unpacked and MD5 sums checked\n",
      "package 'xlsx' successfully unpacked and MD5 sums checked\n",
      "\n",
      "The downloaded binary packages are in\n",
      "\tC:\\Users\\KIIT\\AppData\\Local\\Temp\\RtmpC4r8PH\\downloaded_packages\n"
     ]
    },
    {
     "name": "stderr",
     "output_type": "stream",
     "text": [
      "Warning message:\n",
      "\"package 'xlsx' was built under R version 3.6.3\""
     ]
    }
   ],
   "source": [
    "install.packages(\"xlsx\")\n",
    "library(\"xlsx\")"
   ]
  },
  {
   "cell_type": "code",
   "execution_count": 74,
   "metadata": {},
   "outputs": [
    {
     "data": {
      "text/html": [
       "<table>\n",
       "<thead><tr><th scope=col>roll</th><th scope=col>name</th><th scope=col>per</th><th scope=col>branch</th></tr></thead>\n",
       "<tbody>\n",
       "\t<tr><td>1         </td><td>Rick      </td><td>91        </td><td>IT        </td></tr>\n",
       "\t<tr><td>2         </td><td>Dan       </td><td>90        </td><td>Operations</td></tr>\n",
       "\t<tr><td>3         </td><td>Michelle  </td><td>72        </td><td>IT        </td></tr>\n",
       "\t<tr><td>4         </td><td>Ryan      </td><td>76        </td><td>HR        </td></tr>\n",
       "\t<tr><td>5         </td><td>Gary      </td><td>98        </td><td>Finance   </td></tr>\n",
       "\t<tr><td>6         </td><td>Nina      </td><td>81        </td><td>IT        </td></tr>\n",
       "\t<tr><td>7         </td><td>Simon     </td><td>83        </td><td>Operations</td></tr>\n",
       "\t<tr><td>8         </td><td>Guru      </td><td>89        </td><td>CSE       </td></tr>\n",
       "</tbody>\n",
       "</table>\n"
      ],
      "text/latex": [
       "\\begin{tabular}{r|llll}\n",
       " roll & name & per & branch\\\\\n",
       "\\hline\n",
       "\t 1          & Rick       & 91         & IT        \\\\\n",
       "\t 2          & Dan        & 90         & Operations\\\\\n",
       "\t 3          & Michelle   & 72         & IT        \\\\\n",
       "\t 4          & Ryan       & 76         & HR        \\\\\n",
       "\t 5          & Gary       & 98         & Finance   \\\\\n",
       "\t 6          & Nina       & 81         & IT        \\\\\n",
       "\t 7          & Simon      & 83         & Operations\\\\\n",
       "\t 8          & Guru       & 89         & CSE       \\\\\n",
       "\\end{tabular}\n"
      ],
      "text/markdown": [
       "\n",
       "| roll | name | per | branch |\n",
       "|---|---|---|---|\n",
       "| 1          | Rick       | 91         | IT         |\n",
       "| 2          | Dan        | 90         | Operations |\n",
       "| 3          | Michelle   | 72         | IT         |\n",
       "| 4          | Ryan       | 76         | HR         |\n",
       "| 5          | Gary       | 98         | Finance    |\n",
       "| 6          | Nina       | 81         | IT         |\n",
       "| 7          | Simon      | 83         | Operations |\n",
       "| 8          | Guru       | 89         | CSE        |\n",
       "\n"
      ],
      "text/plain": [
       "  roll name     per branch    \n",
       "1 1    Rick     91  IT        \n",
       "2 2    Dan      90  Operations\n",
       "3 3    Michelle 72  IT        \n",
       "4 4    Ryan     76  HR        \n",
       "5 5    Gary     98  Finance   \n",
       "6 6    Nina     81  IT        \n",
       "7 7    Simon    83  Operations\n",
       "8 8    Guru     89  CSE       "
      ]
     },
     "metadata": {},
     "output_type": "display_data"
    }
   ],
   "source": [
    "library(xlsx)\n",
    "res1 <- read.xlsx2('C:/Users/KIIT/Documents/College-Stuff/DA Lab/student.xlsx', 1)\n",
    "res1"
   ]
  },
  {
   "cell_type": "code",
   "execution_count": 75,
   "metadata": {},
   "outputs": [
    {
     "data": {
      "text/html": [
       "<table>\n",
       "<thead><tr><th scope=col>name</th><th scope=col>doa</th></tr></thead>\n",
       "<tbody>\n",
       "\t<tr><td>Rick    </td><td>6-2-14  </td></tr>\n",
       "\t<tr><td>Dan     </td><td>6-4-15  </td></tr>\n",
       "\t<tr><td>Michelle</td><td>5-4-12  </td></tr>\n",
       "\t<tr><td>Ryan    </td><td>19-4-17 </td></tr>\n",
       "\t<tr><td>Gary    </td><td>20-5-17 </td></tr>\n",
       "\t<tr><td>Nina    </td><td>21-10-17</td></tr>\n",
       "\t<tr><td>Simon   </td><td>2-2-12  </td></tr>\n",
       "\t<tr><td>Guru    </td><td>31-1-17 </td></tr>\n",
       "</tbody>\n",
       "</table>\n"
      ],
      "text/latex": [
       "\\begin{tabular}{r|ll}\n",
       " name & doa\\\\\n",
       "\\hline\n",
       "\t Rick     & 6-2-14  \\\\\n",
       "\t Dan      & 6-4-15  \\\\\n",
       "\t Michelle & 5-4-12  \\\\\n",
       "\t Ryan     & 19-4-17 \\\\\n",
       "\t Gary     & 20-5-17 \\\\\n",
       "\t Nina     & 21-10-17\\\\\n",
       "\t Simon    & 2-2-12  \\\\\n",
       "\t Guru     & 31-1-17 \\\\\n",
       "\\end{tabular}\n"
      ],
      "text/markdown": [
       "\n",
       "| name | doa |\n",
       "|---|---|\n",
       "| Rick     | 6-2-14   |\n",
       "| Dan      | 6-4-15   |\n",
       "| Michelle | 5-4-12   |\n",
       "| Ryan     | 19-4-17  |\n",
       "| Gary     | 20-5-17  |\n",
       "| Nina     | 21-10-17 |\n",
       "| Simon    | 2-2-12   |\n",
       "| Guru     | 31-1-17  |\n",
       "\n"
      ],
      "text/plain": [
       "  name     doa     \n",
       "1 Rick     6-2-14  \n",
       "2 Dan      6-4-15  \n",
       "3 Michelle 5-4-12  \n",
       "4 Ryan     19-4-17 \n",
       "5 Gary     20-5-17 \n",
       "6 Nina     21-10-17\n",
       "7 Simon    2-2-12  \n",
       "8 Guru     31-1-17 "
      ]
     },
     "metadata": {},
     "output_type": "display_data"
    }
   ],
   "source": [
    "res2 <-read.xlsx2('C:/Users/KIIT/Documents/College-Stuff/DA Lab/student.xlsx', 2)\n",
    "res2"
   ]
  },
  {
   "cell_type": "code",
   "execution_count": 85,
   "metadata": {},
   "outputs": [],
   "source": [
    "library(readxl)\n",
    "library(tidyverse)\n",
    "setwd(\"C:/Users/KIIT/Documents/College-Stuff/DA Lab/\") ###set your working directory where your data resides\n",
    "sheet = excel_sheets(\"student.xlsx\")\n",
    "df = lapply(setNames(sheet, sheet), function(x) read_excel(\"student.xlsx\", sheet=x))\n",
    "df = bind_rows(df, .id=\"Sheet\")"
   ]
  },
  {
   "cell_type": "code",
   "execution_count": 84,
   "metadata": {},
   "outputs": [
    {
     "name": "stderr",
     "output_type": "stream",
     "text": [
      "Warning message:\n",
      "\"package 'readxl' is in use and will not be installed\""
     ]
    }
   ],
   "source": [
    "install.packages(\"readxl\")\n",
    "library(readxl)"
   ]
  },
  {
   "cell_type": "code",
   "execution_count": 86,
   "metadata": {},
   "outputs": [
    {
     "data": {
      "text/html": [
       "<table>\n",
       "<thead><tr><th scope=col>Sheet</th><th scope=col>roll</th><th scope=col>name</th><th scope=col>per</th><th scope=col>branch</th><th scope=col>doa</th></tr></thead>\n",
       "<tbody>\n",
       "\t<tr><td>Sheet1    </td><td> 1        </td><td>Rick      </td><td>91        </td><td>IT        </td><td>NA        </td></tr>\n",
       "\t<tr><td>Sheet1    </td><td> 2        </td><td>Dan       </td><td>90        </td><td>Operations</td><td>NA        </td></tr>\n",
       "\t<tr><td>Sheet1    </td><td> 3        </td><td>Michelle  </td><td>72        </td><td>IT        </td><td>NA        </td></tr>\n",
       "\t<tr><td>Sheet1    </td><td> 4        </td><td>Ryan      </td><td>76        </td><td>HR        </td><td>NA        </td></tr>\n",
       "\t<tr><td>Sheet1    </td><td> 5        </td><td>Gary      </td><td>98        </td><td>Finance   </td><td>NA        </td></tr>\n",
       "\t<tr><td>Sheet1    </td><td> 6        </td><td>Nina      </td><td>81        </td><td>IT        </td><td>NA        </td></tr>\n",
       "\t<tr><td>Sheet1    </td><td> 7        </td><td>Simon     </td><td>83        </td><td>Operations</td><td>NA        </td></tr>\n",
       "\t<tr><td>Sheet1    </td><td> 8        </td><td>Guru      </td><td>89        </td><td>CSE       </td><td>NA        </td></tr>\n",
       "\t<tr><td>Sheet2    </td><td>NA        </td><td>Rick      </td><td>NA        </td><td>NA        </td><td>6-2-14    </td></tr>\n",
       "\t<tr><td>Sheet2    </td><td>NA        </td><td>Dan       </td><td>NA        </td><td>NA        </td><td>6-4-15    </td></tr>\n",
       "\t<tr><td>Sheet2    </td><td>NA        </td><td>Michelle  </td><td>NA        </td><td>NA        </td><td>5-4-12    </td></tr>\n",
       "\t<tr><td>Sheet2    </td><td>NA        </td><td>Ryan      </td><td>NA        </td><td>NA        </td><td>19-4-17   </td></tr>\n",
       "\t<tr><td>Sheet2    </td><td>NA        </td><td>Gary      </td><td>NA        </td><td>NA        </td><td>20-5-17   </td></tr>\n",
       "\t<tr><td>Sheet2    </td><td>NA        </td><td>Nina      </td><td>NA        </td><td>NA        </td><td>21-10-17  </td></tr>\n",
       "\t<tr><td>Sheet2    </td><td>NA        </td><td>Simon     </td><td>NA        </td><td>NA        </td><td>2-2-12    </td></tr>\n",
       "\t<tr><td>Sheet2    </td><td>NA        </td><td>Guru      </td><td>NA        </td><td>NA        </td><td>31-1-17   </td></tr>\n",
       "</tbody>\n",
       "</table>\n"
      ],
      "text/latex": [
       "\\begin{tabular}{r|llllll}\n",
       " Sheet & roll & name & per & branch & doa\\\\\n",
       "\\hline\n",
       "\t Sheet1     &  1         & Rick       & 91         & IT         & NA        \\\\\n",
       "\t Sheet1     &  2         & Dan        & 90         & Operations & NA        \\\\\n",
       "\t Sheet1     &  3         & Michelle   & 72         & IT         & NA        \\\\\n",
       "\t Sheet1     &  4         & Ryan       & 76         & HR         & NA        \\\\\n",
       "\t Sheet1     &  5         & Gary       & 98         & Finance    & NA        \\\\\n",
       "\t Sheet1     &  6         & Nina       & 81         & IT         & NA        \\\\\n",
       "\t Sheet1     &  7         & Simon      & 83         & Operations & NA        \\\\\n",
       "\t Sheet1     &  8         & Guru       & 89         & CSE        & NA        \\\\\n",
       "\t Sheet2     & NA         & Rick       & NA         & NA         & 6-2-14    \\\\\n",
       "\t Sheet2     & NA         & Dan        & NA         & NA         & 6-4-15    \\\\\n",
       "\t Sheet2     & NA         & Michelle   & NA         & NA         & 5-4-12    \\\\\n",
       "\t Sheet2     & NA         & Ryan       & NA         & NA         & 19-4-17   \\\\\n",
       "\t Sheet2     & NA         & Gary       & NA         & NA         & 20-5-17   \\\\\n",
       "\t Sheet2     & NA         & Nina       & NA         & NA         & 21-10-17  \\\\\n",
       "\t Sheet2     & NA         & Simon      & NA         & NA         & 2-2-12    \\\\\n",
       "\t Sheet2     & NA         & Guru       & NA         & NA         & 31-1-17   \\\\\n",
       "\\end{tabular}\n"
      ],
      "text/markdown": [
       "\n",
       "| Sheet | roll | name | per | branch | doa |\n",
       "|---|---|---|---|---|---|\n",
       "| Sheet1     |  1         | Rick       | 91         | IT         | NA         |\n",
       "| Sheet1     |  2         | Dan        | 90         | Operations | NA         |\n",
       "| Sheet1     |  3         | Michelle   | 72         | IT         | NA         |\n",
       "| Sheet1     |  4         | Ryan       | 76         | HR         | NA         |\n",
       "| Sheet1     |  5         | Gary       | 98         | Finance    | NA         |\n",
       "| Sheet1     |  6         | Nina       | 81         | IT         | NA         |\n",
       "| Sheet1     |  7         | Simon      | 83         | Operations | NA         |\n",
       "| Sheet1     |  8         | Guru       | 89         | CSE        | NA         |\n",
       "| Sheet2     | NA         | Rick       | NA         | NA         | 6-2-14     |\n",
       "| Sheet2     | NA         | Dan        | NA         | NA         | 6-4-15     |\n",
       "| Sheet2     | NA         | Michelle   | NA         | NA         | 5-4-12     |\n",
       "| Sheet2     | NA         | Ryan       | NA         | NA         | 19-4-17    |\n",
       "| Sheet2     | NA         | Gary       | NA         | NA         | 20-5-17    |\n",
       "| Sheet2     | NA         | Nina       | NA         | NA         | 21-10-17   |\n",
       "| Sheet2     | NA         | Simon      | NA         | NA         | 2-2-12     |\n",
       "| Sheet2     | NA         | Guru       | NA         | NA         | 31-1-17    |\n",
       "\n"
      ],
      "text/plain": [
       "   Sheet  roll name     per branch     doa     \n",
       "1  Sheet1  1   Rick     91  IT         NA      \n",
       "2  Sheet1  2   Dan      90  Operations NA      \n",
       "3  Sheet1  3   Michelle 72  IT         NA      \n",
       "4  Sheet1  4   Ryan     76  HR         NA      \n",
       "5  Sheet1  5   Gary     98  Finance    NA      \n",
       "6  Sheet1  6   Nina     81  IT         NA      \n",
       "7  Sheet1  7   Simon    83  Operations NA      \n",
       "8  Sheet1  8   Guru     89  CSE        NA      \n",
       "9  Sheet2 NA   Rick     NA  NA         6-2-14  \n",
       "10 Sheet2 NA   Dan      NA  NA         6-4-15  \n",
       "11 Sheet2 NA   Michelle NA  NA         5-4-12  \n",
       "12 Sheet2 NA   Ryan     NA  NA         19-4-17 \n",
       "13 Sheet2 NA   Gary     NA  NA         20-5-17 \n",
       "14 Sheet2 NA   Nina     NA  NA         21-10-17\n",
       "15 Sheet2 NA   Simon    NA  NA         2-2-12  \n",
       "16 Sheet2 NA   Guru     NA  NA         31-1-17 "
      ]
     },
     "metadata": {},
     "output_type": "display_data"
    }
   ],
   "source": [
    "df"
   ]
  },
  {
   "cell_type": "code",
   "execution_count": null,
   "metadata": {},
   "outputs": [],
   "source": []
  },
  {
   "cell_type": "code",
   "execution_count": null,
   "metadata": {},
   "outputs": [],
   "source": []
  }
 ],
 "metadata": {
  "kernelspec": {
   "display_name": "Python 3",
   "language": "python",
   "name": "python3"
  },
  "language_info": {
   "codemirror_mode": {
    "name": "ipython",
    "version": 3
   },
   "file_extension": ".py",
   "mimetype": "text/x-python",
   "name": "python",
   "nbconvert_exporter": "python",
   "pygments_lexer": "ipython3",
   "version": "3.8.5"
  }
 },
 "nbformat": 4,
 "nbformat_minor": 4
}
