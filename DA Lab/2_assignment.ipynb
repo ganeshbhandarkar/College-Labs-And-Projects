{
 "cells": [
  {
   "cell_type": "code",
   "execution_count": 11,
   "metadata": {},
   "outputs": [
    {
     "name": "stdin",
     "output_type": "stream",
     "text": [
      "name Ganesh Bhandakar\n",
      "age 20\n"
     ]
    },
    {
     "name": "stdout",
     "output_type": "stream",
     "text": [
      "Name :  Ganesh Bhandakar \n",
      " Age :  20"
     ]
    }
   ],
   "source": [
    "name <- as.character(readline(prompt = \"name\"))\n",
    "age <- as.integer(readline(prompt = \"age\"))\n",
    "cat(\"Name : \", name,\"\\n\",\"Age : \", age)"
   ]
  },
  {
   "cell_type": "code",
   "execution_count": 16,
   "metadata": {},
   "outputs": [
    {
     "name": "stdin",
     "output_type": "stream",
     "text": [
      "roll no 1806554\n",
      "name Ganesh Bhandakar\n",
      "branch IT\n"
     ]
    },
    {
     "name": "stdout",
     "output_type": "stream",
     "text": [
      "roll-> 1806554 \n",
      " name-> Ganesh Bhandakar \n",
      " branch-> IT"
     ]
    }
   ],
   "source": [
    "roll <- as.integer(readline(prompt = \"roll no\"))\n",
    "name <- as.character(readline(prompt = \"name\"))\n",
    "branch <- as.character(readline(prompt = \"branch\"))\n",
    "cat(\"roll->\",roll,\"\\n\",\"name->\",name,\"\\n\",\"branch->\",branch)"
   ]
  },
  {
   "cell_type": "code",
   "execution_count": 23,
   "metadata": {},
   "outputs": [
    {
     "name": "stdin",
     "output_type": "stream",
     "text": [
      " 5 2\n"
     ]
    },
    {
     "name": "stdout",
     "output_type": "stream",
     "text": [
      "sum :  7 \t mul :  10 \t div :  2.5 \t sub :  3"
     ]
    }
   ],
   "source": [
    "x <- readline()\n",
    "x <- strsplit(x,\" \")\n",
    "x <- as.integer(x[[1]])\n",
    "cat(\"sum : \",x[1]+x[2],\"\\t\",\"mul : \",x[1]*x[2],\"\\t\",\"div : \",x[1]/x[2],\"\\t\",\"sub : \",x[1]-x[2])"
   ]
  },
  {
   "cell_type": "code",
   "execution_count": 27,
   "metadata": {},
   "outputs": [
    {
     "name": "stdin",
     "output_type": "stream",
     "text": [
      " 234\n"
     ]
    },
    {
     "name": "stdout",
     "output_type": "stream",
     "text": [
      "sum of 3 digits of number :  9"
     ]
    }
   ],
   "source": [
    "x <- as.character(readline())\n",
    "x <- strsplit(x,\"\")\n",
    "x <- as.integer(x[[1]])\n",
    "cat(\"sum of 3 digits of number : \",x[1]+x[2]+x[3])"
   ]
  },
  {
   "cell_type": "code",
   "execution_count": 28,
   "metadata": {},
   "outputs": [
    {
     "name": "stdin",
     "output_type": "stream",
     "text": [
      " 3\n"
     ]
    },
    {
     "name": "stdout",
     "output_type": "stream",
     "text": [
      "area :  28.26 \n",
      " circumference :  18.84"
     ]
    }
   ],
   "source": [
    "x <- as.integer(readline())\n",
    "area = 3.14*x*x\n",
    "circumference = 2*3.14*x\n",
    "cat(\"area : \",area,\"\\n\",\"circumference : \",circumference)"
   ]
  },
  {
   "cell_type": "code",
   "execution_count": 35,
   "metadata": {},
   "outputs": [
    {
     "name": "stdout",
     "output_type": "stream",
     "text": [
      "seq bet 20 to 50 :  20 21 22 23 24 25 26 27 28 29 30 31 32 33 34 35 36 37 38 39 40 41 42 43 44 45 46 47 48 49 50\n",
      "mean bet 20 to 60 :  40\n",
      "sum for 51 to 91 :  2911"
     ]
    }
   ],
   "source": [
    "cat(\"seq bet 20 to 50 : \",c(20:50))\n",
    "cat(\"\\n\")\n",
    "cat(\"mean bet 20 to 60 : \",mean(20:60))\n",
    "cat(\"\\n\")\n",
    "cat(\"sum for 51 to 91 : \",sum(51:91))"
   ]
  },
  {
   "cell_type": "code",
   "execution_count": 38,
   "metadata": {},
   "outputs": [
    {
     "data": {
      "text/html": [
       "<ol class=list-inline>\n",
       "\t<li>-33</li>\n",
       "\t<li>22</li>\n",
       "\t<li>-6</li>\n",
       "\t<li>-44</li>\n",
       "\t<li>0</li>\n",
       "\t<li>-16</li>\n",
       "\t<li>2</li>\n",
       "\t<li>13</li>\n",
       "\t<li>-24</li>\n",
       "\t<li>13</li>\n",
       "</ol>\n"
      ],
      "text/latex": [
       "\\begin{enumerate*}\n",
       "\\item -33\n",
       "\\item 22\n",
       "\\item -6\n",
       "\\item -44\n",
       "\\item 0\n",
       "\\item -16\n",
       "\\item 2\n",
       "\\item 13\n",
       "\\item -24\n",
       "\\item 13\n",
       "\\end{enumerate*}\n"
      ],
      "text/markdown": [
       "1. -33\n",
       "2. 22\n",
       "3. -6\n",
       "4. -44\n",
       "5. 0\n",
       "6. -16\n",
       "7. 2\n",
       "8. 13\n",
       "9. -24\n",
       "10. 13\n",
       "\n",
       "\n"
      ],
      "text/plain": [
       " [1] -33  22  -6 -44   0 -16   2  13 -24  13"
      ]
     },
     "metadata": {},
     "output_type": "display_data"
    }
   ],
   "source": [
    "round(runif(10,-50,50))"
   ]
  },
  {
   "cell_type": "code",
   "execution_count": 41,
   "metadata": {},
   "outputs": [
    {
     "name": "stdin",
     "output_type": "stream",
     "text": [
      " 1 70 11 34 21 45\n"
     ]
    },
    {
     "data": {
      "text/html": [
       "70"
      ],
      "text/latex": [
       "70"
      ],
      "text/markdown": [
       "70"
      ],
      "text/plain": [
       "[1] 70"
      ]
     },
     "metadata": {},
     "output_type": "display_data"
    },
    {
     "data": {
      "text/html": [
       "1"
      ],
      "text/latex": [
       "1"
      ],
      "text/markdown": [
       "1"
      ],
      "text/plain": [
       "[1] 1"
      ]
     },
     "metadata": {},
     "output_type": "display_data"
    }
   ],
   "source": [
    "x <- readline()\n",
    "x <- strsplit(x,\" \")\n",
    "x <- as.integer(x[[1]])\n",
    "max(x)\n",
    "min(x)"
   ]
  },
  {
   "cell_type": "code",
   "execution_count": 48,
   "metadata": {},
   "outputs": [
    {
     "data": {
      "text/html": [
       "'numeric'"
      ],
      "text/latex": [
       "'numeric'"
      ],
      "text/markdown": [
       "'numeric'"
      ],
      "text/plain": [
       "[1] \"numeric\""
      ]
     },
     "metadata": {},
     "output_type": "display_data"
    },
    {
     "name": "stdout",
     "output_type": "stream",
     "text": [
      "1 2 3 4 5 \n"
     ]
    },
    {
     "data": {
      "text/html": [
       "'character'"
      ],
      "text/latex": [
       "'character'"
      ],
      "text/markdown": [
       "'character'"
      ],
      "text/plain": [
       "[1] \"character\""
      ]
     },
     "metadata": {},
     "output_type": "display_data"
    },
    {
     "name": "stdout",
     "output_type": "stream",
     "text": [
      "hey how are you bruh \n"
     ]
    },
    {
     "data": {
      "text/html": [
       "'logical'"
      ],
      "text/latex": [
       "'logical'"
      ],
      "text/markdown": [
       "'logical'"
      ],
      "text/plain": [
       "[1] \"logical\""
      ]
     },
     "metadata": {},
     "output_type": "display_data"
    },
    {
     "name": "stdout",
     "output_type": "stream",
     "text": [
      "FALSE TRUE TRUE TRUE TRUE"
     ]
    }
   ],
   "source": [
    "x <- c(1,2,3,4,5)\n",
    "y <- c(\"hey\",\"how\",\"are\",\"you\",\"bruh\")\n",
    "z <- x > 1\n",
    "class(x)\n",
    "cat(x,\"\\n\")\n",
    "class(y)\n",
    "cat(y,\"\\n\")\n",
    "class(z)\n",
    "cat(z)"
   ]
  },
  {
   "cell_type": "code",
   "execution_count": 51,
   "metadata": {},
   "outputs": [
    {
     "name": "stdin",
     "output_type": "stream",
     "text": [
      " 1 2 3 4 5\n"
     ]
    },
    {
     "name": "stdout",
     "output_type": "stream",
     "text": [
      "sum :  15 \n",
      " mean :  3 \n",
      " product :  120"
     ]
    }
   ],
   "source": [
    "x <- readline()\n",
    "x <- strsplit(x,\" \")\n",
    "x <- as.integer(x[[1]])\n",
    "cat(\"sum : \",sum(x),\"\\n\",\"mean : \",mean(x),\"\\n\",\"product : \",prod(x))"
   ]
  },
  {
   "cell_type": "code",
   "execution_count": 58,
   "metadata": {},
   "outputs": [
    {
     "name": "stdout",
     "output_type": "stream",
     "text": [
      " [1]  1  2  3  4  5  6  7  8  9 10 11 12 13 14 15 16 17 18 19 20\n",
      " [1] 20 19 18 17 16 15 14 13 12 11 10  9  8  7  6  5  4  3  2  1\n",
      " [1]  1  2  3  4  5  6  7  8  9 10 11 12 13 14 15 16 17 18 19 20 20 19 18 17 16\n",
      "[26] 15 14 13 12 11 10  9  8  7  6  5  4  3  2  1\n",
      "[1] 4 6 3\n"
     ]
    }
   ],
   "source": [
    "tmp <- c(1:20)\n",
    "print(tmp)\n",
    "tmp <- c(20:1)\n",
    "print(tmp)\n",
    "tmp <- c(1:20,20:1)\n",
    "print(tmp)\n",
    "tmp <- c(4,6,3)\n",
    "print(tmp)"
   ]
  },
  {
   "cell_type": "code",
   "execution_count": null,
   "metadata": {},
   "outputs": [],
   "source": []
  }
 ],
 "metadata": {
  "kernelspec": {
   "display_name": "R",
   "language": "R",
   "name": "ir"
  },
  "language_info": {
   "codemirror_mode": "r",
   "file_extension": ".r",
   "mimetype": "text/x-r-source",
   "name": "R",
   "pygments_lexer": "r",
   "version": "3.6.1"
  }
 },
 "nbformat": 4,
 "nbformat_minor": 4
}
