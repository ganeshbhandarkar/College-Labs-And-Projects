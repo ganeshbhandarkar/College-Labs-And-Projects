{
 "cells": [
  {
   "cell_type": "markdown",
   "metadata": {},
   "source": [
    "# 1806554 Ganesh Bhandarkar Lab 5"
   ]
  },
  {
   "cell_type": "code",
   "execution_count": 1,
   "metadata": {},
   "outputs": [],
   "source": [
    "height <- c(132,151,162,139,166,147,122) \n",
    "weight <- c(48,49,66,53,67,52,40) \n",
    "gender<- c(\"male\",\"male\",\"female\",\"female\",\"male\",\"female\",\"male\")"
   ]
  },
  {
   "cell_type": "code",
   "execution_count": 6,
   "metadata": {},
   "outputs": [
    {
     "name": "stdout",
     "output_type": "stream",
     "text": [
      "  height weight gender\n",
      "1    132     48   male\n",
      "2    151     49   male\n",
      "3    162     66 female\n",
      "4    139     53 female\n",
      "5    166     67   male\n",
      "6    147     52 female\n",
      "7    122     40   male\n",
      "[1] TRUE\n",
      "[1] male   male   female female male   female male  \n",
      "Levels: female male\n"
     ]
    }
   ],
   "source": [
    "input_data <- data.frame(height,weight,gender)\n",
    "print(input_data)\n",
    "print(is.factor(input_data$gender)) \n",
    "print(input_data$gender)"
   ]
  },
  {
   "cell_type": "markdown",
   "metadata": {},
   "source": [
    "### Questions "
   ]
  },
  {
   "cell_type": "code",
   "execution_count": 32,
   "metadata": {},
   "outputs": [
    {
     "name": "stdout",
     "output_type": "stream",
     "text": [
      "[1] \"Details of the Players:\"\n",
      "       Name Num Age      Profession Grade\n",
      "1       Tom   1  23          Golfer     A\n",
      "2     Jerry   2  22        Crickter     A\n",
      "3 Spiderman   3  25    Chess Player     B\n",
      "4    Batman   4  26   Tennis Player     O\n",
      "5   Aquaman   5  32 HandBall Player     C\n"
     ]
    }
   ],
   "source": [
    "Players = data.frame(Name=c(\"Tom\",\"Jerry\",\"Spiderman\", \"Batman\",\"Aquaman\"),\n",
    "                      Num=c(\"1\",\"2\",\"3\",\"4\",\"5\"),\n",
    "                      Age=c(23,22,25,26,32),\n",
    "                      Profession=c(\"Golfer\",\"Crickter\",\"Chess Player\",\"Tennis Player\",\"HandBall Player\"),\n",
    "                      Grade=c(\"A\",\"A\",\"B\",\"O\",\"C\")\n",
    "                      )\n",
    "print(\"Details of the Players:\")                      \n",
    "print(Players)"
   ]
  },
  {
   "cell_type": "code",
   "execution_count": 33,
   "metadata": {},
   "outputs": [
    {
     "name": "stdout",
     "output_type": "stream",
     "text": [
      "[1] Tom       Jerry     Spiderman Batman    Aquaman  \n",
      "Levels: Aquaman Batman Jerry Spiderman Tom\n"
     ]
    }
   ],
   "source": [
    "print(Players$Name)\n"
   ]
  },
  {
   "cell_type": "code",
   "execution_count": 34,
   "metadata": {},
   "outputs": [
    {
     "name": "stdout",
     "output_type": "stream",
     "text": [
      "[1] A A B O C\n",
      "Levels: A B C O\n"
     ]
    }
   ],
   "source": [
    "print(Players$Grade)"
   ]
  },
  {
   "cell_type": "code",
   "execution_count": 35,
   "metadata": {},
   "outputs": [
    {
     "name": "stdout",
     "output_type": "stream",
     "text": [
      "       Name Num Age   Profession Grade\n",
      "1       Tom   1  23       Golfer     A\n",
      "2     Jerry   2  22     Crickter     A\n",
      "3 Spiderman   3  25 Chess Player     B\n"
     ]
    }
   ],
   "source": [
    "print(head(Players,3))"
   ]
  },
  {
   "cell_type": "code",
   "execution_count": 36,
   "metadata": {},
   "outputs": [
    {
     "name": "stdout",
     "output_type": "stream",
     "text": [
      "     Name Age\n",
      "2   Jerry  22\n",
      "5 Aquaman  32\n"
     ]
    }
   ],
   "source": [
    "print(Players[c(2,5),c(1,3)])"
   ]
  },
  {
   "cell_type": "code",
   "execution_count": null,
   "metadata": {},
   "outputs": [],
   "source": []
  }
 ],
 "metadata": {
  "kernelspec": {
   "display_name": "R",
   "language": "R",
   "name": "ir"
  },
  "language_info": {
   "codemirror_mode": "r",
   "file_extension": ".r",
   "mimetype": "text/x-r-source",
   "name": "R",
   "pygments_lexer": "r",
   "version": "3.6.1"
  }
 },
 "nbformat": 4,
 "nbformat_minor": 4
}
